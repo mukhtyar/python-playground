{
 "cells": [
  {
   "cell_type": "code",
   "execution_count": 18,
   "metadata": {},
   "outputs": [],
   "source": [
    "import pandas as pd"
   ]
  },
  {
   "cell_type": "markdown",
   "metadata": {},
   "source": [
    "### Conversion Factors from STND to MSL (in meters)\n",
    "- LJ: 2.163 \n",
    "- LA: 2.028\n",
    "- SB: 1.814\n",
    "- SL: 2.149\n",
    "- MT: 1.893\n",
    "- SF: 2.773\n",
    "- PR: 2.152\n",
    "- PA: 9.779\n",
    "- CC: 2.254"
   ]
  },
  {
   "cell_type": "code",
   "execution_count": 30,
   "metadata": {},
   "outputs": [],
   "source": [
    "stations = {\n",
    "    'lj': 2.163,\n",
    "    'la': 2.028,\n",
    "    'sb': 1.814,\n",
    "    'sl': 2.149,\n",
    "    'mt': 1.893,\n",
    "    'sf': 2.773,\n",
    "    'pr': 2.152,\n",
    "    'pa': 9.779,\n",
    "    'cc': 2.254\n",
    "}"
   ]
  },
  {
   "cell_type": "code",
   "execution_count": 31,
   "metadata": {
    "scrolled": true
   },
   "outputs": [
    {
     "name": "stdout",
     "output_type": "stream",
     "text": [
      "Max value from all observed data for mt = 1.6 meters / 5.1 feet\n",
      "Max value from all observed data for sf = 1.7 meters / 5.7 feet\n",
      "Max value from all observed data for sb = 1.4 meters / 4.7 feet\n",
      "Max value from all observed data for pr = 1.7 meters / 5.5 feet\n",
      "Max value from all observed data for cc = 2.2 meters / 7.1 feet\n",
      "Max value from all observed data for pa = 1.7 meters / 5.5 feet\n",
      "Max value from all observed data for lj = 1.5 meters / 5.1 feet\n",
      "Max value from all observed data for sl = 1.6 meters / 5.2 feet\n",
      "Max value from all observed data for la = 1.5 meters / 5.0 feet\n"
     ]
    }
   ],
   "source": [
    "for i in stations:\n",
    "  df = pd.read_fwf('data/observed_slr/obswatlev_{}_STND.txt'.format(i))\n",
    "  df['msl'] = df['stnd'] - stations[i]\n",
    "  max = df['msl'].max()\n",
    "  print('Max value from all observed data for', i, '=', round(max, 1), 'meters /', round(max * 3.28084,1), 'feet')"
   ]
  },
  {
   "cell_type": "code",
   "execution_count": 4,
   "metadata": {},
   "outputs": [
    {
     "name": "stdout",
     "output_type": "stream",
     "text": [
      "99.99th Percentile from 1978-2014 for San Francisco = 1.4215008999999845 meters\n"
     ]
    }
   ],
   "source": [
    "historical_sf = sf[(sf['year'] > 1978) & (sf['year'] < 2015)]\n",
    "print('99.99th Percentile from 1978-2014 for San Francisco =', historical_sf['msl'].quantile(.9999), 'meters')"
   ]
  },
  {
   "cell_type": "code",
   "execution_count": null,
   "metadata": {},
   "outputs": [],
   "source": []
  }
 ],
 "metadata": {
  "kernelspec": {
   "display_name": "Python 3",
   "language": "python",
   "name": "python3"
  },
  "language_info": {
   "codemirror_mode": {
    "name": "ipython",
    "version": 3
   },
   "file_extension": ".py",
   "mimetype": "text/x-python",
   "name": "python",
   "nbconvert_exporter": "python",
   "pygments_lexer": "ipython3",
   "version": "3.5.2"
  }
 },
 "nbformat": 4,
 "nbformat_minor": 2
}
