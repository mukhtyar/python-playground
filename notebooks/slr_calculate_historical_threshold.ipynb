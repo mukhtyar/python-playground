{
 "cells": [
  {
   "cell_type": "code",
   "execution_count": 1,
   "metadata": {
    "collapsed": true
   },
   "outputs": [],
   "source": [
    "import pandas as pd\n",
    "from datetime import datetime"
   ]
  },
  {
   "cell_type": "markdown",
   "metadata": {},
   "source": [
    "### Conversion Factors from STND to MSL (in meters)\n",
    "- LJ: 2.163 \n",
    "- LA: 2.028\n",
    "- SB: 1.814\n",
    "- SL: 2.149\n",
    "- MT: 1.893\n",
    "- SF: 2.773\n",
    "- PR: 2.152\n",
    "- PA: 9.779\n",
    "- CC: 2.254"
   ]
  },
  {
   "cell_type": "code",
   "execution_count": 2,
   "metadata": {
    "collapsed": true
   },
   "outputs": [],
   "source": [
    "sf = pd.read_fwf('data/obswatlev_sf_STND.txt')\n",
    "lj = pd.read_fwf('data/obswatlev_lj_STND.txt')\n",
    "cc = pd.read_fwf('data/obswatlev_cc_STND.txt')"
   ]
  },
  {
   "cell_type": "code",
   "execution_count": 3,
   "metadata": {
    "collapsed": true
   },
   "outputs": [],
   "source": [
    "sf['msl'] = sf['stnd'] - 2.773\n",
    "lj['msl'] = lj['stnd'] - 2.163\n",
    "cc['msl'] = cc['stnd'] - 2.254"
   ]
  },
  {
   "cell_type": "code",
   "execution_count": 4,
   "metadata": {},
   "outputs": [
    {
     "name": "stdout",
     "output_type": "stream",
     "text": [
      "99.99th Percentile from 1978-2014 for San Francisco = 1.4215008999999845 meters\n"
     ]
    }
   ],
   "source": [
    "historical_sf = sf[(sf['year'] > 1978) & (sf['year'] < 2015)]\n",
    "print('99.99th Percentile from 1978-2014 for San Francisco =', historical_sf['msl'].quantile(.9999), 'meters')"
   ]
  },
  {
   "cell_type": "code",
   "execution_count": 14,
   "metadata": {},
   "outputs": [
    {
     "name": "stdout",
     "output_type": "stream",
     "text": [
      "Max value from all observed data for San Francisco = 1.7 meters / 5.7 feet\n"
     ]
    }
   ],
   "source": [
    "max = sf['msl'].max()\n",
    "print('Max value from all observed data for San Francisco =', round(max, 1), 'meters /', round(max * 3.28084,1), 'feet')"
   ]
  },
  {
   "cell_type": "code",
   "execution_count": 15,
   "metadata": {},
   "outputs": [
    {
     "name": "stdout",
     "output_type": "stream",
     "text": [
      "Max value from all observed data for La Jolla = 1.5 meters / 5.1 feet\n"
     ]
    }
   ],
   "source": [
    "max = lj['msl'].max()\n",
    "print('Max value from all observed data for La Jolla =', round(max, 1), 'meters /', round(max * 3.28084,1), 'feet')"
   ]
  },
  {
   "cell_type": "code",
   "execution_count": 16,
   "metadata": {},
   "outputs": [
    {
     "name": "stdout",
     "output_type": "stream",
     "text": [
      "Max value from all observed data for Crescent City = 2.2 meters / 7.1 feet\n"
     ]
    }
   ],
   "source": [
    "max = cc['msl'].max()\n",
    "print('Max value from all observed data for Crescent City =', round(max, 1), 'meters /', round(max * 3.28084,1), 'feet')"
   ]
  },
  {
   "cell_type": "code",
   "execution_count": null,
   "metadata": {
    "collapsed": true
   },
   "outputs": [],
   "source": []
  }
 ],
 "metadata": {
  "kernelspec": {
   "display_name": "Python 3",
   "language": "python",
   "name": "python3"
  },
  "language_info": {
   "codemirror_mode": {
    "name": "ipython",
    "version": 3
   },
   "file_extension": ".py",
   "mimetype": "text/x-python",
   "name": "python",
   "nbconvert_exporter": "python",
   "pygments_lexer": "ipython3",
   "version": "3.5.2"
  }
 },
 "nbformat": 4,
 "nbformat_minor": 2
}
