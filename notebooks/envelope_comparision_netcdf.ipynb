{
 "cells": [
  {
   "cell_type": "code",
   "execution_count": 1,
   "metadata": {},
   "outputs": [],
   "source": [
    "import os\n",
    "import xarray as xr\n",
    "from glob import glob\n",
    "\n",
    "import matplotlib.pyplot as plt\n",
    "import seaborn as sns\n",
    "import pandas as pd\n",
    "%matplotlib inline\n",
    "\n",
    "#import netcdf4"
   ]
  },
  {
   "cell_type": "code",
   "execution_count": 2,
   "metadata": {},
   "outputs": [],
   "source": [
    "models = [\n",
    "          'ACCESS1-0', 'ACCESS1-3', 'CCSM4', 'CESM1-BGC', 'CESM1-CAM5', 'CMCC-CM', 'CMCC-CMS', 'CSIRO-Mk3-6-0', \n",
    "          'CanESM2', 'CNRM-CM5', 'EC-EARTH', 'FGOALS-g2', 'GFDL-CM3', 'GFDL-ESM2G', 'GFDL-ESM2M', 'GISS-E2-H',\n",
    "          'GISS-E2-R', 'HadGEM2-AO', 'HadGEM2-CC', 'HadGEM2-ES', 'IPSL-CM5A-LR', 'IPSL-CM5A-MR', 'MIROC-ESM',\n",
    "          'MIROC-ESM-CHEM', 'MIROC5', 'MPI-ESM-LR', 'MPI-ESM-MR', 'MRI-CGCM3', 'NorESM1-M', 'bcc-csm1-1',\n",
    "          'bcc-csm1-1-m', 'inmcm4'\n",
    "         ]\n",
    "\n",
    "ext = 'nc'"
   ]
  },
  {
   "cell_type": "code",
   "execution_count": 3,
   "metadata": {},
   "outputs": [
    {
     "name": "stdout",
     "output_type": "stream",
     "text": [
      "['data/tasmax_2006/tasmax_day_HadGEM2-AO_rcp85_r1i1p1_20060101-20061231.LOCA_2016-04-02.16th.CA_NV.nc', 'data/tasmax_2006/tasmax_day_CCSM4_rcp85_r6i1p1_20060101-20061231.LOCA_2016-04-02.16th.CA_NV.nc', 'data/tasmax_2006/tasmax_day_EC-EARTH_rcp85_r2i1p1_20060101-20061231.LOCA_2016-04-02.16th.CA_NV.nc', 'data/tasmax_2006/tasmax_day_ACCESS1-3_rcp85_r1i1p1_20060101-20061231.LOCA_2016-04-02.16th.CA_NV.nc', 'data/tasmax_2006/tasmax_day_CMCC-CMS_rcp85_r1i1p1_20060101-20061231.LOCA_2016-04-02.16th.CA_NV.nc', 'data/tasmax_2006/tasmax_day_HadGEM2-CC_rcp85_r1i1p1_20060101-20061231.LOCA_2016-04-02.16th.CA_NV.nc', 'data/tasmax_2006/tasmax_day_GFDL-CM3_rcp85_r1i1p1_20060101-20061231.LOCA_2016-04-02.16th.CA_NV.nc', 'data/tasmax_2006/tasmax_day_bcc-csm1-1_rcp85_r1i1p1_20060101-20061231.LOCA_2016-04-02.16th.CA_NV.nc', 'data/tasmax_2006/tasmax_day_GISS-E2-R_rcp85_r2i1p1_20060101-20061231.LOCA_2016-04-02.16th.CA_NV.nc', 'data/tasmax_2006/tasmax_day_NorESM1-M_rcp85_r1i1p1_20060101-20061231.LOCA_2016-04-02.16th.CA_NV.nc', 'data/tasmax_2006/tasmax_day_CESM1-BGC_rcp85_r1i1p1_20060101-20061231.LOCA_2016-04-02.16th.CA_NV.nc', 'data/tasmax_2006/tasmax_day_inmcm4_rcp85_r1i1p1_20060101-20061231.LOCA_2016-04-02.16th.CA_NV.nc', 'data/tasmax_2006/tasmax_day_FGOALS-g2_rcp85_r1i1p1_20060101-20061231.LOCA_2016-04-02.16th.CA_NV.nc', 'data/tasmax_2006/tasmax_day_MPI-ESM-MR_rcp85_r1i1p1_20060101-20061231.LOCA_2016-04-02.16th.CA_NV.nc', 'data/tasmax_2006/tasmax_day_ACCESS1-0_rcp85_r1i1p1_20060101-20061231.LOCA_2016-04-02.16th.CA_NV.nc', 'data/tasmax_2006/tasmax_day_CNRM-CM5_rcp85_r1i1p1_20060101-20061231.LOCA_2016-04-02.16th.CA_NV.nc', 'data/tasmax_2006/tasmax_day_MIROC-ESM-CHEM_rcp85_r1i1p1_20060101-20061231.LOCA_2016-04-02.16th.CA_NV.nc', 'data/tasmax_2006/tasmax_day_GFDL-ESM2G_rcp85_r1i1p1_20060101-20061231.LOCA_2016-04-02.16th.CA_NV.nc', 'data/tasmax_2006/tasmax_day_IPSL-CM5A-MR_rcp85_r1i1p1_20060101-20061231.LOCA_2016-04-02.16th.CA_NV.nc', 'data/tasmax_2006/tasmax_day_GISS-E2-H_rcp85_r2i1p1_20060101-20061231.LOCA_2016-04-02.16th.CA_NV.nc', 'data/tasmax_2006/tasmax_day_MPI-ESM-LR_rcp85_r1i1p1_20060101-20061231.LOCA_2016-04-02.16th.CA_NV.nc', 'data/tasmax_2006/tasmax_day_bcc-csm1-1-m_rcp85_r1i1p1_20060101-20061231.LOCA_2016-04-02.16th.CA_NV.nc', 'data/tasmax_2006/tasmax_day_IPSL-CM5A-LR_rcp85_r1i1p1_20060101-20061231.LOCA_2016-04-02.16th.CA_NV.nc', 'data/tasmax_2006/tasmax_day_CanESM2_rcp85_r1i1p1_20060101-20061231.LOCA_2016-04-02.16th.CA_NV.nc', 'data/tasmax_2006/tasmax_day_CMCC-CM_rcp85_r1i1p1_20060101-20061231.LOCA_2016-04-02.16th.CA_NV.nc', 'data/tasmax_2006/tasmax_day_GFDL-ESM2M_rcp85_r1i1p1_20060101-20061231.LOCA_2016-04-02.16th.CA_NV.nc', 'data/tasmax_2006/tasmax_day_HadGEM2-ES_rcp85_r1i1p1_20060101-20061231.LOCA_2016-04-02.16th.CA_NV.nc', 'data/tasmax_2006/tasmax_day_MRI-CGCM3_rcp85_r1i1p1_20060101-20061231.LOCA_2016-04-02.16th.CA_NV.nc', 'data/tasmax_2006/tasmax_day_MIROC5_rcp85_r1i1p1_20060101-20061231.LOCA_2016-04-02.16th.CA_NV.nc', 'data/tasmax_2006/tasmax_day_CESM1-CAM5_rcp85_r1i1p1_20060101-20061231.LOCA_2016-04-02.16th.CA_NV.nc', 'data/tasmax_2006/tasmax_day_CSIRO-Mk3-6-0_rcp85_r1i1p1_20060101-20061231.LOCA_2016-04-02.16th.CA_NV.nc', 'data/tasmax_2006/tasmax_day_MIROC-ESM_rcp85_r1i1p1_20060101-20061231.LOCA_2016-04-02.16th.CA_NV.nc']\n"
     ]
    }
   ],
   "source": [
    "data_dir = 'data/tasmax_2006'\n",
    "file_list = glob(os.path.join(data_dir, '*.nc'))\n",
    "print(file_list)"
   ]
  },
  {
   "cell_type": "code",
   "execution_count": 4,
   "metadata": {},
   "outputs": [],
   "source": [
    "def kelvin_to_f(value):\n",
    "    return (value - 273.15) * 9 / 5 + 32"
   ]
  },
  {
   "cell_type": "code",
   "execution_count": 5,
   "metadata": {},
   "outputs": [],
   "source": [
    "def calc_annual_avg():\n",
    "    averages = []\n",
    "    for file in file_list:\n",
    "        ds = xr.open_dataset(file)\n",
    "        tasmax = ds['tasmax']\n",
    "        data = tasmax.sel(lat=38.59375, lon=(360-121.46875), method='nearest')\n",
    "        avg = data.values.mean()\n",
    "        model = file.split('_')[2]\n",
    "        averages.append((model, avg))\n",
    "        ds.close()\n",
    "    return pd.DataFrame(averages, columns=['model', 'avg'])"
   ]
  },
  {
   "cell_type": "code",
   "execution_count": 6,
   "metadata": {},
   "outputs": [],
   "source": [
    "annual_df_2006 = calc_annual_avg()"
   ]
  },
  {
   "cell_type": "code",
   "execution_count": 7,
   "metadata": {},
   "outputs": [],
   "source": [
    "annual_min = annual_df_2006['avg'].min()\n",
    "annual_max = annual_df_2006['avg'].max()"
   ]
  },
  {
   "cell_type": "code",
   "execution_count": 8,
   "metadata": {},
   "outputs": [
    {
     "name": "stdout",
     "output_type": "stream",
     "text": [
      "Min for 2006 from annual data 296.052490234375\n",
      "Max for 2006 from annual data 299.5120544433594\n"
     ]
    }
   ],
   "source": [
    "print('Min for 2006 from annual data', annual_min)\n",
    "print('Max for 2006 from annual data', annual_max)"
   ]
  },
  {
   "cell_type": "code",
   "execution_count": 9,
   "metadata": {},
   "outputs": [],
   "source": [
    "def calc_monthly_avg():\n",
    "    df_list = []\n",
    "    for file in file_list:\n",
    "        ds = xr.open_dataset(file)\n",
    "        tasmax = ds['tasmax']\n",
    "        data = tasmax.sel(lat=38.59375, lon=(360-121.46875), method='nearest')\n",
    "        df = pd.DataFrame(data.groupby('time.month').mean().to_pandas())\n",
    "        model = file.split('_')[2]\n",
    "        df['model'] = model\n",
    "        ds.close()\n",
    "        df_list.append(df) \n",
    "    return pd.concat(df_list)"
   ]
  },
  {
   "cell_type": "code",
   "execution_count": 10,
   "metadata": {},
   "outputs": [],
   "source": [
    "monthly_df_2006 = calc_monthly_avg()"
   ]
  },
  {
   "cell_type": "code",
   "execution_count": 11,
   "metadata": {},
   "outputs": [],
   "source": [
    "monthly_min = monthly_df_2006.groupby(['month'])[0].min()\n",
    "monthly_max = monthly_df_2006.groupby(['month'])[0].max()"
   ]
  },
  {
   "cell_type": "code",
   "execution_count": 12,
   "metadata": {},
   "outputs": [
    {
     "name": "stdout",
     "output_type": "stream",
     "text": [
      "Min for 2006 from monthly data 294.206\n",
      "Min for 2006 from monthly data 301.66354\n"
     ]
    }
   ],
   "source": [
    "print('Min for 2006 from monthly data', monthly_min.mean())\n",
    "print('Min for 2006 from monthly data', monthly_max.mean())"
   ]
  },
  {
   "cell_type": "code",
   "execution_count": 21,
   "metadata": {},
   "outputs": [],
   "source": [
    "def calc_daily_avg():\n",
    "    df_list = []\n",
    "    for file in file_list:\n",
    "        ds = xr.open_dataset(file)\n",
    "        tasmax = ds['tasmax']\n",
    "        data = tasmax.sel(lat=38.59375, lon=(360-121.46875), method='nearest')\n",
    "        df = pd.DataFrame(data.to_pandas())\n",
    "        model = file.split('_')[2]\n",
    "        df['model'] = model\n",
    "        ds.close()\n",
    "        df_list.append(df) \n",
    "    return pd.concat(df_list)"
   ]
  },
  {
   "cell_type": "code",
   "execution_count": 23,
   "metadata": {},
   "outputs": [],
   "source": [
    "daily_df_2006 = calc_daily_avg()"
   ]
  },
  {
   "cell_type": "code",
   "execution_count": 24,
   "metadata": {
    "scrolled": true
   },
   "outputs": [],
   "source": [
    "daily_min = daily_df_2006.groupby(['time'])[0].min()\n",
    "daily_max = daily_df_2006.groupby(['time'])[0].max()"
   ]
  },
  {
   "cell_type": "code",
   "execution_count": 25,
   "metadata": {},
   "outputs": [
    {
     "name": "stdout",
     "output_type": "stream",
     "text": [
      "Min for 2006 from daily data 289.62033\n",
      "Min for 2006 from daily data 305.63608\n"
     ]
    }
   ],
   "source": [
    "print('Min for 2006 from daily data', daily_min.mean())\n",
    "print('Min for 2006 from daily data', daily_max.mean())"
   ]
  },
  {
   "cell_type": "code",
   "execution_count": 29,
   "metadata": {},
   "outputs": [],
   "source": [
    "from cycler import cycler\n",
    "plt.rcParams['lines.linewidth'] = 2\n",
    "plt.rcParams['axes.facecolor'] = '#f5f5f5'\n",
    "plt.rcParams['figure.facecolor'] = '#ffffff'"
   ]
  },
  {
   "cell_type": "code",
   "execution_count": 30,
   "metadata": {},
   "outputs": [],
   "source": [
    "values = ['#e36868', '#ac2020', '#b395d0', '#814eb1', '#e6194b', '#3cb44b', '#ffe119', '#4363d8', '#f58231', '#911eb4',\n",
    "         '#46f0f0', '#f032e6', '#bcf60c', '#fabebe', '#008080', '#e6beff', '#9a6324', '#fffac8', '#800000', '#aaffc3',\n",
    "         '#808000', '#ffd8b1', '#000075', '#808080', '#ffffff', '#000000', '#9a6324', '#fffac8', '#800000', '#aaffc3',\n",
    "         '#808000', '#ffd8b1'\n",
    "        ]\n",
    "colors = dict(zip(models, values))"
   ]
  },
  {
   "cell_type": "code",
   "execution_count": 31,
   "metadata": {},
   "outputs": [
    {
     "ename": "KeyError",
     "evalue": "'day'",
     "output_type": "error",
     "traceback": [
      "\u001b[0;31m---------------------------------------------------------------------------\u001b[0m",
      "\u001b[0;31mKeyError\u001b[0m                                  Traceback (most recent call last)",
      "\u001b[0;32m<ipython-input-31-34b7e5639f85>\u001b[0m in \u001b[0;36m<module>\u001b[0;34m()\u001b[0m\n\u001b[1;32m      1\u001b[0m \u001b[0mf\u001b[0m\u001b[0;34m,\u001b[0m \u001b[0;34m(\u001b[0m\u001b[0max1\u001b[0m\u001b[0;34m,\u001b[0m \u001b[0max2\u001b[0m\u001b[0;34m,\u001b[0m \u001b[0max3\u001b[0m\u001b[0;34m)\u001b[0m \u001b[0;34m=\u001b[0m \u001b[0mplt\u001b[0m\u001b[0;34m.\u001b[0m\u001b[0msubplots\u001b[0m\u001b[0;34m(\u001b[0m\u001b[0;36m1\u001b[0m\u001b[0;34m,\u001b[0m \u001b[0;36m3\u001b[0m\u001b[0;34m,\u001b[0m \u001b[0msharey\u001b[0m\u001b[0;34m=\u001b[0m\u001b[0;34m'all'\u001b[0m\u001b[0;34m,\u001b[0m \u001b[0mfigsize\u001b[0m\u001b[0;34m=\u001b[0m\u001b[0;34m(\u001b[0m\u001b[0;36m15\u001b[0m\u001b[0;34m,\u001b[0m \u001b[0;36m9\u001b[0m\u001b[0;34m)\u001b[0m\u001b[0;34m)\u001b[0m\u001b[0;34m\u001b[0m\u001b[0m\n\u001b[1;32m      2\u001b[0m \u001b[0;34m\u001b[0m\u001b[0m\n\u001b[0;32m----> 3\u001b[0;31m \u001b[0max1\u001b[0m\u001b[0;34m.\u001b[0m\u001b[0mscatter\u001b[0m\u001b[0;34m(\u001b[0m\u001b[0mannual_df_2006\u001b[0m\u001b[0;34m[\u001b[0m\u001b[0;34m'model'\u001b[0m\u001b[0;34m]\u001b[0m\u001b[0;34m,\u001b[0m \u001b[0mannual_df_2006\u001b[0m\u001b[0;34m[\u001b[0m\u001b[0;34m'avg'\u001b[0m\u001b[0;34m]\u001b[0m\u001b[0;34m,\u001b[0m \u001b[0ms\u001b[0m\u001b[0;34m=\u001b[0m\u001b[0;36m10\u001b[0m\u001b[0;34m,\u001b[0m \u001b[0mc\u001b[0m\u001b[0;34m=\u001b[0m\u001b[0mannual_df_2006\u001b[0m\u001b[0;34m[\u001b[0m\u001b[0;34m'model'\u001b[0m\u001b[0;34m]\u001b[0m\u001b[0;34m.\u001b[0m\u001b[0mapply\u001b[0m\u001b[0;34m(\u001b[0m\u001b[0;32mlambda\u001b[0m \u001b[0mx\u001b[0m\u001b[0;34m:\u001b[0m \u001b[0mcolors\u001b[0m\u001b[0;34m[\u001b[0m\u001b[0mx\u001b[0m\u001b[0;34m]\u001b[0m\u001b[0;34m)\u001b[0m\u001b[0;34m)\u001b[0m\u001b[0;34m\u001b[0m\u001b[0m\n\u001b[0m\u001b[1;32m      4\u001b[0m \u001b[0max2\u001b[0m\u001b[0;34m.\u001b[0m\u001b[0mscatter\u001b[0m\u001b[0;34m(\u001b[0m\u001b[0mmonthly_df_2006\u001b[0m\u001b[0;34m[\u001b[0m\u001b[0;34m'model'\u001b[0m\u001b[0;34m]\u001b[0m\u001b[0;34m,\u001b[0m \u001b[0mmonthly_df_2006\u001b[0m\u001b[0;34m[\u001b[0m\u001b[0;36m0\u001b[0m\u001b[0;34m]\u001b[0m\u001b[0;34m,\u001b[0m \u001b[0ms\u001b[0m\u001b[0;34m=\u001b[0m\u001b[0;36m10\u001b[0m\u001b[0;34m,\u001b[0m \u001b[0mc\u001b[0m\u001b[0;34m=\u001b[0m\u001b[0mmonthly_df_2006\u001b[0m\u001b[0;34m[\u001b[0m\u001b[0;34m'model'\u001b[0m\u001b[0;34m]\u001b[0m\u001b[0;34m.\u001b[0m\u001b[0mapply\u001b[0m\u001b[0;34m(\u001b[0m\u001b[0;32mlambda\u001b[0m \u001b[0mx\u001b[0m\u001b[0;34m:\u001b[0m \u001b[0mcolors\u001b[0m\u001b[0;34m[\u001b[0m\u001b[0mx\u001b[0m\u001b[0;34m]\u001b[0m\u001b[0;34m)\u001b[0m\u001b[0;34m)\u001b[0m\u001b[0;34m\u001b[0m\u001b[0m\n\u001b[1;32m      5\u001b[0m \u001b[0max3\u001b[0m\u001b[0;34m.\u001b[0m\u001b[0mscatter\u001b[0m\u001b[0;34m(\u001b[0m\u001b[0mdaily_df_2006\u001b[0m\u001b[0;34m[\u001b[0m\u001b[0;34m'model'\u001b[0m\u001b[0;34m]\u001b[0m\u001b[0;34m,\u001b[0m \u001b[0mdaily_df_2006\u001b[0m\u001b[0;34m[\u001b[0m\u001b[0;36m0\u001b[0m\u001b[0;34m]\u001b[0m\u001b[0;34m,\u001b[0m  \u001b[0ms\u001b[0m\u001b[0;34m=\u001b[0m\u001b[0;36m10\u001b[0m\u001b[0;34m,\u001b[0m \u001b[0mc\u001b[0m\u001b[0;34m=\u001b[0m\u001b[0mdaily_df_2006\u001b[0m\u001b[0;34m[\u001b[0m\u001b[0;34m'model'\u001b[0m\u001b[0;34m]\u001b[0m\u001b[0;34m.\u001b[0m\u001b[0mapply\u001b[0m\u001b[0;34m(\u001b[0m\u001b[0;32mlambda\u001b[0m \u001b[0mx\u001b[0m\u001b[0;34m:\u001b[0m \u001b[0mcolors\u001b[0m\u001b[0;34m[\u001b[0m\u001b[0mx\u001b[0m\u001b[0;34m]\u001b[0m\u001b[0;34m)\u001b[0m\u001b[0;34m)\u001b[0m\u001b[0;34m\u001b[0m\u001b[0m\n",
      "\u001b[0;32m~/projects/python-playground/env/lib/python3.5/site-packages/pandas/core/series.py\u001b[0m in \u001b[0;36mapply\u001b[0;34m(self, func, convert_dtype, args, **kwds)\u001b[0m\n\u001b[1;32m   3192\u001b[0m             \u001b[0;32melse\u001b[0m\u001b[0;34m:\u001b[0m\u001b[0;34m\u001b[0m\u001b[0m\n\u001b[1;32m   3193\u001b[0m                 \u001b[0mvalues\u001b[0m \u001b[0;34m=\u001b[0m \u001b[0mself\u001b[0m\u001b[0;34m.\u001b[0m\u001b[0mastype\u001b[0m\u001b[0;34m(\u001b[0m\u001b[0mobject\u001b[0m\u001b[0;34m)\u001b[0m\u001b[0;34m.\u001b[0m\u001b[0mvalues\u001b[0m\u001b[0;34m\u001b[0m\u001b[0m\n\u001b[0;32m-> 3194\u001b[0;31m                 \u001b[0mmapped\u001b[0m \u001b[0;34m=\u001b[0m \u001b[0mlib\u001b[0m\u001b[0;34m.\u001b[0m\u001b[0mmap_infer\u001b[0m\u001b[0;34m(\u001b[0m\u001b[0mvalues\u001b[0m\u001b[0;34m,\u001b[0m \u001b[0mf\u001b[0m\u001b[0;34m,\u001b[0m \u001b[0mconvert\u001b[0m\u001b[0;34m=\u001b[0m\u001b[0mconvert_dtype\u001b[0m\u001b[0;34m)\u001b[0m\u001b[0;34m\u001b[0m\u001b[0m\n\u001b[0m\u001b[1;32m   3195\u001b[0m \u001b[0;34m\u001b[0m\u001b[0m\n\u001b[1;32m   3196\u001b[0m         \u001b[0;32mif\u001b[0m \u001b[0mlen\u001b[0m\u001b[0;34m(\u001b[0m\u001b[0mmapped\u001b[0m\u001b[0;34m)\u001b[0m \u001b[0;32mand\u001b[0m \u001b[0misinstance\u001b[0m\u001b[0;34m(\u001b[0m\u001b[0mmapped\u001b[0m\u001b[0;34m[\u001b[0m\u001b[0;36m0\u001b[0m\u001b[0;34m]\u001b[0m\u001b[0;34m,\u001b[0m \u001b[0mSeries\u001b[0m\u001b[0;34m)\u001b[0m\u001b[0;34m:\u001b[0m\u001b[0;34m\u001b[0m\u001b[0m\n",
      "\u001b[0;32mpandas/_libs/src/inference.pyx\u001b[0m in \u001b[0;36mpandas._libs.lib.map_infer\u001b[0;34m()\u001b[0m\n",
      "\u001b[0;32m<ipython-input-31-34b7e5639f85>\u001b[0m in \u001b[0;36m<lambda>\u001b[0;34m(x)\u001b[0m\n\u001b[1;32m      1\u001b[0m \u001b[0mf\u001b[0m\u001b[0;34m,\u001b[0m \u001b[0;34m(\u001b[0m\u001b[0max1\u001b[0m\u001b[0;34m,\u001b[0m \u001b[0max2\u001b[0m\u001b[0;34m,\u001b[0m \u001b[0max3\u001b[0m\u001b[0;34m)\u001b[0m \u001b[0;34m=\u001b[0m \u001b[0mplt\u001b[0m\u001b[0;34m.\u001b[0m\u001b[0msubplots\u001b[0m\u001b[0;34m(\u001b[0m\u001b[0;36m1\u001b[0m\u001b[0;34m,\u001b[0m \u001b[0;36m3\u001b[0m\u001b[0;34m,\u001b[0m \u001b[0msharey\u001b[0m\u001b[0;34m=\u001b[0m\u001b[0;34m'all'\u001b[0m\u001b[0;34m,\u001b[0m \u001b[0mfigsize\u001b[0m\u001b[0;34m=\u001b[0m\u001b[0;34m(\u001b[0m\u001b[0;36m15\u001b[0m\u001b[0;34m,\u001b[0m \u001b[0;36m9\u001b[0m\u001b[0;34m)\u001b[0m\u001b[0;34m)\u001b[0m\u001b[0;34m\u001b[0m\u001b[0m\n\u001b[1;32m      2\u001b[0m \u001b[0;34m\u001b[0m\u001b[0m\n\u001b[0;32m----> 3\u001b[0;31m \u001b[0max1\u001b[0m\u001b[0;34m.\u001b[0m\u001b[0mscatter\u001b[0m\u001b[0;34m(\u001b[0m\u001b[0mannual_df_2006\u001b[0m\u001b[0;34m[\u001b[0m\u001b[0;34m'model'\u001b[0m\u001b[0;34m]\u001b[0m\u001b[0;34m,\u001b[0m \u001b[0mannual_df_2006\u001b[0m\u001b[0;34m[\u001b[0m\u001b[0;34m'avg'\u001b[0m\u001b[0;34m]\u001b[0m\u001b[0;34m,\u001b[0m \u001b[0ms\u001b[0m\u001b[0;34m=\u001b[0m\u001b[0;36m10\u001b[0m\u001b[0;34m,\u001b[0m \u001b[0mc\u001b[0m\u001b[0;34m=\u001b[0m\u001b[0mannual_df_2006\u001b[0m\u001b[0;34m[\u001b[0m\u001b[0;34m'model'\u001b[0m\u001b[0;34m]\u001b[0m\u001b[0;34m.\u001b[0m\u001b[0mapply\u001b[0m\u001b[0;34m(\u001b[0m\u001b[0;32mlambda\u001b[0m \u001b[0mx\u001b[0m\u001b[0;34m:\u001b[0m \u001b[0mcolors\u001b[0m\u001b[0;34m[\u001b[0m\u001b[0mx\u001b[0m\u001b[0;34m]\u001b[0m\u001b[0;34m)\u001b[0m\u001b[0;34m)\u001b[0m\u001b[0;34m\u001b[0m\u001b[0m\n\u001b[0m\u001b[1;32m      4\u001b[0m \u001b[0max2\u001b[0m\u001b[0;34m.\u001b[0m\u001b[0mscatter\u001b[0m\u001b[0;34m(\u001b[0m\u001b[0mmonthly_df_2006\u001b[0m\u001b[0;34m[\u001b[0m\u001b[0;34m'model'\u001b[0m\u001b[0;34m]\u001b[0m\u001b[0;34m,\u001b[0m \u001b[0mmonthly_df_2006\u001b[0m\u001b[0;34m[\u001b[0m\u001b[0;36m0\u001b[0m\u001b[0;34m]\u001b[0m\u001b[0;34m,\u001b[0m \u001b[0ms\u001b[0m\u001b[0;34m=\u001b[0m\u001b[0;36m10\u001b[0m\u001b[0;34m,\u001b[0m \u001b[0mc\u001b[0m\u001b[0;34m=\u001b[0m\u001b[0mmonthly_df_2006\u001b[0m\u001b[0;34m[\u001b[0m\u001b[0;34m'model'\u001b[0m\u001b[0;34m]\u001b[0m\u001b[0;34m.\u001b[0m\u001b[0mapply\u001b[0m\u001b[0;34m(\u001b[0m\u001b[0;32mlambda\u001b[0m \u001b[0mx\u001b[0m\u001b[0;34m:\u001b[0m \u001b[0mcolors\u001b[0m\u001b[0;34m[\u001b[0m\u001b[0mx\u001b[0m\u001b[0;34m]\u001b[0m\u001b[0;34m)\u001b[0m\u001b[0;34m)\u001b[0m\u001b[0;34m\u001b[0m\u001b[0m\n\u001b[1;32m      5\u001b[0m \u001b[0max3\u001b[0m\u001b[0;34m.\u001b[0m\u001b[0mscatter\u001b[0m\u001b[0;34m(\u001b[0m\u001b[0mdaily_df_2006\u001b[0m\u001b[0;34m[\u001b[0m\u001b[0;34m'model'\u001b[0m\u001b[0;34m]\u001b[0m\u001b[0;34m,\u001b[0m \u001b[0mdaily_df_2006\u001b[0m\u001b[0;34m[\u001b[0m\u001b[0;36m0\u001b[0m\u001b[0;34m]\u001b[0m\u001b[0;34m,\u001b[0m  \u001b[0ms\u001b[0m\u001b[0;34m=\u001b[0m\u001b[0;36m10\u001b[0m\u001b[0;34m,\u001b[0m \u001b[0mc\u001b[0m\u001b[0;34m=\u001b[0m\u001b[0mdaily_df_2006\u001b[0m\u001b[0;34m[\u001b[0m\u001b[0;34m'model'\u001b[0m\u001b[0;34m]\u001b[0m\u001b[0;34m.\u001b[0m\u001b[0mapply\u001b[0m\u001b[0;34m(\u001b[0m\u001b[0;32mlambda\u001b[0m \u001b[0mx\u001b[0m\u001b[0;34m:\u001b[0m \u001b[0mcolors\u001b[0m\u001b[0;34m[\u001b[0m\u001b[0mx\u001b[0m\u001b[0;34m]\u001b[0m\u001b[0;34m)\u001b[0m\u001b[0;34m)\u001b[0m\u001b[0;34m\u001b[0m\u001b[0m\n",
      "\u001b[0;31mKeyError\u001b[0m: 'day'"
     ]
    },
    {
     "data": {
      "image/png": "[encoded data removed]",
      "text/plain": [
       "<Figure size 1080x648 with 3 Axes>"
      ]
     },
     "metadata": {},
     "output_type": "display_data"
    }
   ],
   "source": [
    "f, (ax1, ax2, ax3) = plt.subplots(1, 3, sharey='all', figsize=(15, 9))\n",
    "\n",
    "ax1.scatter(annual_df_2006['model'], annual_df_2006['avg'], s=10, c=annual_df_2006['model'].apply(lambda x: colors[x]))\n",
    "ax2.scatter(monthly_df_2006['model'], monthly_df_2006[0], s=10, c=monthly_df_2006['model'].apply(lambda x: colors[x]))\n",
    "ax3.scatter(daily_df_2006['model'], daily_df_2006[0],  s=10, c=daily_df_2006['model'].apply(lambda x: colors[x]))\n",
    "\n",
    "ax1.set_title('Annual Average', fontstyle='italic', fontsize=14)\n",
    "ax1.set_ylabel('Temperature (K)', fontsize=12)\n",
    "\n",
    "ax2.set_title('Monthly Average', fontstyle='italic', fontsize=14)\n",
    "\n",
    "ax3.set_title('Daily Value', fontstyle='italic', fontsize=14)\n",
    "\n",
    "for ax in [ax1, ax2, ax3]:\n",
    "    plt.sca(ax)\n",
    "    plt.xticks(rotation=90)\n",
    "\n",
    "# Space plots a bit\n",
    "plt.subplots_adjust(wspace=0.15)\n",
    "\n",
    "f.suptitle('RCP8.5 Tasmax data from all 32 models for 2006', y=1.01, fontsize=20, fontweight='bold')"
   ]
  },
  {
   "cell_type": "code",
   "execution_count": null,
   "metadata": {},
   "outputs": [],
   "source": []
  }
 ],
 "metadata": {
  "kernelspec": {
   "display_name": "Python 3",
   "language": "python",
   "name": "python3"
  },
  "language_info": {
   "codemirror_mode": {
    "name": "ipython",
    "version": 3
   },
   "file_extension": ".py",
   "mimetype": "text/x-python",
   "name": "python",
   "nbconvert_exporter": "python",
   "pygments_lexer": "ipython3",
   "version": "3.5.2"
  }
 },
 "nbformat": 4,
 "nbformat_minor": 2
}
