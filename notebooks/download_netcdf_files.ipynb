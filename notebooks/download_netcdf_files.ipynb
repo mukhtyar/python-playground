{
 "cells": [
  {
   "cell_type": "code",
   "execution_count": 10,
   "metadata": {},
   "outputs": [],
   "source": [
    "import requests\n",
    "import numpy as np\n",
    "from bs4 import BeautifulSoup\n",
    "import urllib"
   ]
  },
  {
   "cell_type": "code",
   "execution_count": 24,
   "metadata": {},
   "outputs": [],
   "source": [
    "models = [\n",
    "          'ACCESS1-0', 'ACCESS1-3', 'CCSM4', 'CESM1-BGC', 'CESM1-CAM5', 'CMCC-CM', 'CMCC-CMS', 'CSIRO-Mk3-6-0', \n",
    "          'CanESM2', 'CNRM-CM5', 'EC-EARTH', 'FGOALS-g2', 'GFDL-CM3', 'GFDL-ESM2G', 'GFDL-ESM2M', 'GISS-E2-H',\n",
    "          'GISS-E2-R', 'HadGEM2-AO', 'HadGEM2-CC', 'HadGEM2-ES', 'IPSL-CM5A-LR', 'IPSL-CM5A-MR', 'MIROC-ESM',\n",
    "          'MIROC-ESM-CHEM', 'MIROC5', 'MPI-ESM-LR', 'MPI-ESM-MR', 'MRI-CGCM3', 'NorESM1-M', 'bcc-csm1-1',\n",
    "          'bcc-csm1-1-m', 'inmcm4'\n",
    "        ]"
   ]
  },
  {
   "cell_type": "code",
   "execution_count": 25,
   "metadata": {},
   "outputs": [],
   "source": [
    "ext = 'nc'"
   ]
  },
  {
   "cell_type": "code",
   "execution_count": 26,
   "metadata": {},
   "outputs": [],
   "source": [
    "def listFD(url, ext=''):\n",
    "    page = requests.get(url).text\n",
    "    soup = BeautifulSoup(page, 'html.parser')\n",
    "    return [url + '/' + node.get('href') for node in soup.find_all('a') if node.get('href').endswith(ext)]"
   ]
  },
  {
   "cell_type": "code",
   "execution_count": 27,
   "metadata": {},
   "outputs": [],
   "source": [
    "def download_nc(model, year):\n",
    "    url = 'http://albers.cnr.berkeley.edu/data/scripps/loca/{}/rcp85/tasmax' .format(model)\n",
    "    file_list = listFD(url, ext)\n",
    "    for file in file_list:\n",
    "        if str(year) in file:\n",
    "            out_file = 'data/tasmax/tasmax_{}_{}.nc' .format(model, year)\n",
    "            print(file, out_file)\n",
    "            #urllib.urlretrieve (file, out_file)\n",
    "            urllib.request.urlretrieve(file, out_file)"
   ]
  },
  {
   "cell_type": "code",
   "execution_count": 29,
   "metadata": {},
   "outputs": [
    {
     "name": "stdout",
     "output_type": "stream",
     "text": [
      "http://albers.cnr.berkeley.edu/data/scripps/loca/ACCESS1-0/rcp85/tasmax/tasmax_day_ACCESS1-0_rcp85_r1i1p1_20060101-20061231.LOCA_2016-04-02.16th.CA_NV.nc data/tasmax/tasmax_ACCESS1-0_2006.nc\n",
      "http://albers.cnr.berkeley.edu/data/scripps/loca/ACCESS1-0/rcp85/tasmax/tasmax_day_ACCESS1-0_rcp85_r1i1p1_20070101-20071231.LOCA_2016-04-02.16th.CA_NV.nc data/tasmax/tasmax_ACCESS1-0_2007.nc\n",
      "http://albers.cnr.berkeley.edu/data/scripps/loca/ACCESS1-3/rcp85/tasmax/tasmax_day_ACCESS1-3_rcp85_r1i1p1_20060101-20061231.LOCA_2016-04-02.16th.CA_NV.nc data/tasmax/tasmax_ACCESS1-3_2006.nc\n",
      "http://albers.cnr.berkeley.edu/data/scripps/loca/ACCESS1-3/rcp85/tasmax/tasmax_day_ACCESS1-3_rcp85_r1i1p1_20070101-20071231.LOCA_2016-04-02.16th.CA_NV.nc data/tasmax/tasmax_ACCESS1-3_2007.nc\n",
      "http://albers.cnr.berkeley.edu/data/scripps/loca/CCSM4/rcp85/tasmax/tasmax_day_CCSM4_rcp85_r6i1p1_20060101-20061231.LOCA_2016-04-02.16th.CA_NV.nc data/tasmax/tasmax_CCSM4_2006.nc\n",
      "http://albers.cnr.berkeley.edu/data/scripps/loca/CCSM4/rcp85/tasmax/tasmax_day_CCSM4_rcp85_r6i1p1_20070101-20071231.LOCA_2016-04-02.16th.CA_NV.nc data/tasmax/tasmax_CCSM4_2007.nc\n",
      "http://albers.cnr.berkeley.edu/data/scripps/loca/CESM1-BGC/rcp85/tasmax/tasmax_day_CESM1-BGC_rcp85_r1i1p1_20060101-20061231.LOCA_2016-04-02.16th.CA_NV.nc data/tasmax/tasmax_CESM1-BGC_2006.nc\n",
      "http://albers.cnr.berkeley.edu/data/scripps/loca/CESM1-BGC/rcp85/tasmax/tasmax_day_CESM1-BGC_rcp85_r1i1p1_20070101-20071231.LOCA_2016-04-02.16th.CA_NV.nc data/tasmax/tasmax_CESM1-BGC_2007.nc\n",
      "http://albers.cnr.berkeley.edu/data/scripps/loca/CESM1-CAM5/rcp85/tasmax/tasmax_day_CESM1-CAM5_rcp85_r1i1p1_20060101-20061231.LOCA_2016-04-02.16th.CA_NV.nc data/tasmax/tasmax_CESM1-CAM5_2006.nc\n",
      "http://albers.cnr.berkeley.edu/data/scripps/loca/CESM1-CAM5/rcp85/tasmax/tasmax_day_CESM1-CAM5_rcp85_r1i1p1_20070101-20071231.LOCA_2016-04-02.16th.CA_NV.nc data/tasmax/tasmax_CESM1-CAM5_2007.nc\n",
      "http://albers.cnr.berkeley.edu/data/scripps/loca/CMCC-CM/rcp85/tasmax/tasmax_day_CMCC-CM_rcp85_r1i1p1_20060101-20061231.LOCA_2016-04-02.16th.CA_NV.nc data/tasmax/tasmax_CMCC-CM_2006.nc\n",
      "http://albers.cnr.berkeley.edu/data/scripps/loca/CMCC-CM/rcp85/tasmax/tasmax_day_CMCC-CM_rcp85_r1i1p1_20070101-20071231.LOCA_2016-04-02.16th.CA_NV.nc data/tasmax/tasmax_CMCC-CM_2007.nc\n",
      "http://albers.cnr.berkeley.edu/data/scripps/loca/CMCC-CMS/rcp85/tasmax/tasmax_day_CMCC-CMS_rcp85_r1i1p1_20060101-20061231.LOCA_2016-04-02.16th.CA_NV.nc data/tasmax/tasmax_CMCC-CMS_2006.nc\n",
      "http://albers.cnr.berkeley.edu/data/scripps/loca/CMCC-CMS/rcp85/tasmax/tasmax_day_CMCC-CMS_rcp85_r1i1p1_20070101-20071231.LOCA_2016-04-02.16th.CA_NV.nc data/tasmax/tasmax_CMCC-CMS_2007.nc\n",
      "http://albers.cnr.berkeley.edu/data/scripps/loca/CSIRO-Mk3-6-0/rcp85/tasmax/tasmax_day_CSIRO-Mk3-6-0_rcp85_r1i1p1_20060101-20061231.LOCA_2016-04-02.16th.CA_NV.nc data/tasmax/tasmax_CSIRO-Mk3-6-0_2006.nc\n",
      "http://albers.cnr.berkeley.edu/data/scripps/loca/CSIRO-Mk3-6-0/rcp85/tasmax/tasmax_day_CSIRO-Mk3-6-0_rcp85_r1i1p1_20070101-20071231.LOCA_2016-04-02.16th.CA_NV.nc data/tasmax/tasmax_CSIRO-Mk3-6-0_2007.nc\n",
      "http://albers.cnr.berkeley.edu/data/scripps/loca/CanESM2/rcp85/tasmax/tasmax_day_CanESM2_rcp85_r1i1p1_20060101-20061231.LOCA_2016-04-02.16th.CA_NV.nc data/tasmax/tasmax_CanESM2_2006.nc\n",
      "http://albers.cnr.berkeley.edu/data/scripps/loca/CanESM2/rcp85/tasmax/tasmax_day_CanESM2_rcp85_r1i1p1_20070101-20071231.LOCA_2016-04-02.16th.CA_NV.nc data/tasmax/tasmax_CanESM2_2007.nc\n",
      "http://albers.cnr.berkeley.edu/data/scripps/loca/CNRM-CM5/rcp85/tasmax/tasmax_day_CNRM-CM5_rcp85_r1i1p1_20060101-20061231.LOCA_2016-04-02.16th.CA_NV.nc data/tasmax/tasmax_CNRM-CM5_2006.nc\n",
      "http://albers.cnr.berkeley.edu/data/scripps/loca/CNRM-CM5/rcp85/tasmax/tasmax_day_CNRM-CM5_rcp85_r1i1p1_20070101-20071231.LOCA_2016-04-02.16th.CA_NV.nc data/tasmax/tasmax_CNRM-CM5_2007.nc\n",
      "http://albers.cnr.berkeley.edu/data/scripps/loca/EC-EARTH/rcp85/tasmax/tasmax_day_EC-EARTH_rcp85_r2i1p1_20060101-20061231.LOCA_2016-04-02.16th.CA_NV.nc data/tasmax/tasmax_EC-EARTH_2006.nc\n",
      "http://albers.cnr.berkeley.edu/data/scripps/loca/EC-EARTH/rcp85/tasmax/tasmax_day_EC-EARTH_rcp85_r2i1p1_20070101-20071231.LOCA_2016-04-02.16th.CA_NV.nc data/tasmax/tasmax_EC-EARTH_2007.nc\n",
      "http://albers.cnr.berkeley.edu/data/scripps/loca/FGOALS-g2/rcp85/tasmax/tasmax_day_FGOALS-g2_rcp85_r1i1p1_20060101-20061231.LOCA_2016-04-02.16th.CA_NV.nc data/tasmax/tasmax_FGOALS-g2_2006.nc\n",
      "http://albers.cnr.berkeley.edu/data/scripps/loca/FGOALS-g2/rcp85/tasmax/tasmax_day_FGOALS-g2_rcp85_r1i1p1_20070101-20071231.LOCA_2016-04-02.16th.CA_NV.nc data/tasmax/tasmax_FGOALS-g2_2007.nc\n",
      "http://albers.cnr.berkeley.edu/data/scripps/loca/GFDL-CM3/rcp85/tasmax/tasmax_day_GFDL-CM3_rcp85_r1i1p1_20060101-20061231.LOCA_2016-04-02.16th.CA_NV.nc data/tasmax/tasmax_GFDL-CM3_2006.nc\n",
      "http://albers.cnr.berkeley.edu/data/scripps/loca/GFDL-CM3/rcp85/tasmax/tasmax_day_GFDL-CM3_rcp85_r1i1p1_20070101-20071231.LOCA_2016-04-02.16th.CA_NV.nc data/tasmax/tasmax_GFDL-CM3_2007.nc\n",
      "http://albers.cnr.berkeley.edu/data/scripps/loca/GFDL-ESM2G/rcp85/tasmax/tasmax_day_GFDL-ESM2G_rcp85_r1i1p1_20060101-20061231.LOCA_2016-04-02.16th.CA_NV.nc data/tasmax/tasmax_GFDL-ESM2G_2006.nc\n",
      "http://albers.cnr.berkeley.edu/data/scripps/loca/GFDL-ESM2G/rcp85/tasmax/tasmax_day_GFDL-ESM2G_rcp85_r1i1p1_20070101-20071231.LOCA_2016-04-02.16th.CA_NV.nc data/tasmax/tasmax_GFDL-ESM2G_2007.nc\n",
      "http://albers.cnr.berkeley.edu/data/scripps/loca/GFDL-ESM2M/rcp85/tasmax/tasmax_day_GFDL-ESM2M_rcp85_r1i1p1_20060101-20061231.LOCA_2016-04-02.16th.CA_NV.nc data/tasmax/tasmax_GFDL-ESM2M_2006.nc\n",
      "http://albers.cnr.berkeley.edu/data/scripps/loca/GFDL-ESM2M/rcp85/tasmax/tasmax_day_GFDL-ESM2M_rcp85_r1i1p1_20070101-20071231.LOCA_2016-04-02.16th.CA_NV.nc data/tasmax/tasmax_GFDL-ESM2M_2007.nc\n",
      "http://albers.cnr.berkeley.edu/data/scripps/loca/GISS-E2-H/rcp85/tasmax/tasmax_day_GISS-E2-H_rcp85_r2i1p1_20060101-20061231.LOCA_2016-04-02.16th.CA_NV.nc data/tasmax/tasmax_GISS-E2-H_2006.nc\n",
      "http://albers.cnr.berkeley.edu/data/scripps/loca/GISS-E2-H/rcp85/tasmax/tasmax_day_GISS-E2-H_rcp85_r2i1p1_20070101-20071231.LOCA_2016-04-02.16th.CA_NV.nc data/tasmax/tasmax_GISS-E2-H_2007.nc\n",
      "http://albers.cnr.berkeley.edu/data/scripps/loca/GISS-E2-R/rcp85/tasmax/tasmax_day_GISS-E2-R_rcp85_r2i1p1_20060101-20061231.LOCA_2016-04-02.16th.CA_NV.nc data/tasmax/tasmax_GISS-E2-R_2006.nc\n",
      "http://albers.cnr.berkeley.edu/data/scripps/loca/GISS-E2-R/rcp85/tasmax/tasmax_day_GISS-E2-R_rcp85_r2i1p1_20070101-20071231.LOCA_2016-04-02.16th.CA_NV.nc data/tasmax/tasmax_GISS-E2-R_2007.nc\n",
      "http://albers.cnr.berkeley.edu/data/scripps/loca/HadGEM2-AO/rcp85/tasmax/tasmax_day_HadGEM2-AO_rcp85_r1i1p1_20060101-20061231.LOCA_2016-04-02.16th.CA_NV.nc data/tasmax/tasmax_HadGEM2-AO_2006.nc\n",
      "http://albers.cnr.berkeley.edu/data/scripps/loca/HadGEM2-AO/rcp85/tasmax/tasmax_day_HadGEM2-AO_rcp85_r1i1p1_20070101-20071231.LOCA_2016-04-02.16th.CA_NV.nc data/tasmax/tasmax_HadGEM2-AO_2007.nc\n",
      "http://albers.cnr.berkeley.edu/data/scripps/loca/HadGEM2-CC/rcp85/tasmax/tasmax_day_HadGEM2-CC_rcp85_r1i1p1_20060101-20061231.LOCA_2016-04-02.16th.CA_NV.nc data/tasmax/tasmax_HadGEM2-CC_2006.nc\n",
      "http://albers.cnr.berkeley.edu/data/scripps/loca/HadGEM2-CC/rcp85/tasmax/tasmax_day_HadGEM2-CC_rcp85_r1i1p1_20070101-20071231.LOCA_2016-04-02.16th.CA_NV.nc data/tasmax/tasmax_HadGEM2-CC_2007.nc\n",
      "http://albers.cnr.berkeley.edu/data/scripps/loca/HadGEM2-ES/rcp85/tasmax/tasmax_day_HadGEM2-ES_rcp85_r1i1p1_20060101-20061231.LOCA_2016-04-02.16th.CA_NV.nc data/tasmax/tasmax_HadGEM2-ES_2006.nc\n",
      "http://albers.cnr.berkeley.edu/data/scripps/loca/HadGEM2-ES/rcp85/tasmax/tasmax_day_HadGEM2-ES_rcp85_r1i1p1_20070101-20071231.LOCA_2016-04-02.16th.CA_NV.nc data/tasmax/tasmax_HadGEM2-ES_2007.nc\n",
      "http://albers.cnr.berkeley.edu/data/scripps/loca/IPSL-CM5A-LR/rcp85/tasmax/tasmax_day_IPSL-CM5A-LR_rcp85_r1i1p1_20060101-20061231.LOCA_2016-04-02.16th.CA_NV.nc data/tasmax/tasmax_IPSL-CM5A-LR_2006.nc\n",
      "http://albers.cnr.berkeley.edu/data/scripps/loca/IPSL-CM5A-LR/rcp85/tasmax/tasmax_day_IPSL-CM5A-LR_rcp85_r1i1p1_20070101-20071231.LOCA_2016-04-02.16th.CA_NV.nc data/tasmax/tasmax_IPSL-CM5A-LR_2007.nc\n",
      "http://albers.cnr.berkeley.edu/data/scripps/loca/IPSL-CM5A-MR/rcp85/tasmax/tasmax_day_IPSL-CM5A-MR_rcp85_r1i1p1_20060101-20061231.LOCA_2016-04-02.16th.CA_NV.nc data/tasmax/tasmax_IPSL-CM5A-MR_2006.nc\n"
     ]
    },
    {
     "name": "stdout",
     "output_type": "stream",
     "text": [
      "http://albers.cnr.berkeley.edu/data/scripps/loca/IPSL-CM5A-MR/rcp85/tasmax/tasmax_day_IPSL-CM5A-MR_rcp85_r1i1p1_20070101-20071231.LOCA_2016-04-02.16th.CA_NV.nc data/tasmax/tasmax_IPSL-CM5A-MR_2007.nc\n",
      "http://albers.cnr.berkeley.edu/data/scripps/loca/MIROC-ESM/rcp85/tasmax/tasmax_day_MIROC-ESM_rcp85_r1i1p1_20060101-20061231.LOCA_2016-04-02.16th.CA_NV.nc data/tasmax/tasmax_MIROC-ESM_2006.nc\n",
      "http://albers.cnr.berkeley.edu/data/scripps/loca/MIROC-ESM/rcp85/tasmax/tasmax_day_MIROC-ESM_rcp85_r1i1p1_20070101-20071231.LOCA_2016-04-02.16th.CA_NV.nc data/tasmax/tasmax_MIROC-ESM_2007.nc\n",
      "http://albers.cnr.berkeley.edu/data/scripps/loca/MIROC-ESM-CHEM/rcp85/tasmax/tasmax_day_MIROC-ESM-CHEM_rcp85_r1i1p1_20060101-20061231.LOCA_2016-04-02.16th.CA_NV.nc data/tasmax/tasmax_MIROC-ESM-CHEM_2006.nc\n",
      "http://albers.cnr.berkeley.edu/data/scripps/loca/MIROC-ESM-CHEM/rcp85/tasmax/tasmax_day_MIROC-ESM-CHEM_rcp85_r1i1p1_20070101-20071231.LOCA_2016-04-02.16th.CA_NV.nc data/tasmax/tasmax_MIROC-ESM-CHEM_2007.nc\n",
      "http://albers.cnr.berkeley.edu/data/scripps/loca/MIROC5/rcp85/tasmax/tasmax_day_MIROC5_rcp85_r1i1p1_20060101-20061231.LOCA_2016-04-02.16th.CA_NV.nc data/tasmax/tasmax_MIROC5_2006.nc\n",
      "http://albers.cnr.berkeley.edu/data/scripps/loca/MIROC5/rcp85/tasmax/tasmax_day_MIROC5_rcp85_r1i1p1_20070101-20071231.LOCA_2016-04-02.16th.CA_NV.nc data/tasmax/tasmax_MIROC5_2007.nc\n",
      "http://albers.cnr.berkeley.edu/data/scripps/loca/MPI-ESM-LR/rcp85/tasmax/tasmax_day_MPI-ESM-LR_rcp85_r1i1p1_20060101-20061231.LOCA_2016-04-02.16th.CA_NV.nc data/tasmax/tasmax_MPI-ESM-LR_2006.nc\n",
      "http://albers.cnr.berkeley.edu/data/scripps/loca/MPI-ESM-LR/rcp85/tasmax/tasmax_day_MPI-ESM-LR_rcp85_r1i1p1_20070101-20071231.LOCA_2016-04-02.16th.CA_NV.nc data/tasmax/tasmax_MPI-ESM-LR_2007.nc\n",
      "http://albers.cnr.berkeley.edu/data/scripps/loca/MPI-ESM-MR/rcp85/tasmax/tasmax_day_MPI-ESM-MR_rcp85_r1i1p1_20060101-20061231.LOCA_2016-04-02.16th.CA_NV.nc data/tasmax/tasmax_MPI-ESM-MR_2006.nc\n",
      "http://albers.cnr.berkeley.edu/data/scripps/loca/MPI-ESM-MR/rcp85/tasmax/tasmax_day_MPI-ESM-MR_rcp85_r1i1p1_20070101-20071231.LOCA_2016-04-02.16th.CA_NV.nc data/tasmax/tasmax_MPI-ESM-MR_2007.nc\n",
      "http://albers.cnr.berkeley.edu/data/scripps/loca/MRI-CGCM3/rcp85/tasmax/tasmax_day_MRI-CGCM3_rcp85_r1i1p1_20060101-20061231.LOCA_2016-04-02.16th.CA_NV.nc data/tasmax/tasmax_MRI-CGCM3_2006.nc\n",
      "http://albers.cnr.berkeley.edu/data/scripps/loca/MRI-CGCM3/rcp85/tasmax/tasmax_day_MRI-CGCM3_rcp85_r1i1p1_20070101-20071231.LOCA_2016-04-02.16th.CA_NV.nc data/tasmax/tasmax_MRI-CGCM3_2007.nc\n",
      "http://albers.cnr.berkeley.edu/data/scripps/loca/NorESM1-M/rcp85/tasmax/tasmax_day_NorESM1-M_rcp85_r1i1p1_20060101-20061231.LOCA_2016-04-02.16th.CA_NV.nc data/tasmax/tasmax_NorESM1-M_2006.nc\n",
      "http://albers.cnr.berkeley.edu/data/scripps/loca/NorESM1-M/rcp85/tasmax/tasmax_day_NorESM1-M_rcp85_r1i1p1_20070101-20071231.LOCA_2016-04-02.16th.CA_NV.nc data/tasmax/tasmax_NorESM1-M_2007.nc\n",
      "http://albers.cnr.berkeley.edu/data/scripps/loca/bcc-csm1-1/rcp85/tasmax/tasmax_day_bcc-csm1-1_rcp85_r1i1p1_20060101-20061231.LOCA_2016-04-02.16th.CA_NV.nc data/tasmax/tasmax_bcc-csm1-1_2006.nc\n",
      "http://albers.cnr.berkeley.edu/data/scripps/loca/bcc-csm1-1/rcp85/tasmax/tasmax_day_bcc-csm1-1_rcp85_r1i1p1_20070101-20071231.LOCA_2016-04-02.16th.CA_NV.nc data/tasmax/tasmax_bcc-csm1-1_2007.nc\n",
      "http://albers.cnr.berkeley.edu/data/scripps/loca/bcc-csm1-1-m/rcp85/tasmax/tasmax_day_bcc-csm1-1-m_rcp85_r1i1p1_20060101-20061231.LOCA_2016-04-02.16th.CA_NV.nc data/tasmax/tasmax_bcc-csm1-1-m_2006.nc\n",
      "http://albers.cnr.berkeley.edu/data/scripps/loca/bcc-csm1-1-m/rcp85/tasmax/tasmax_day_bcc-csm1-1-m_rcp85_r1i1p1_20070101-20071231.LOCA_2016-04-02.16th.CA_NV.nc data/tasmax/tasmax_bcc-csm1-1-m_2007.nc\n",
      "http://albers.cnr.berkeley.edu/data/scripps/loca/inmcm4/rcp85/tasmax/tasmax_day_inmcm4_rcp85_r1i1p1_20060101-20061231.LOCA_2016-04-02.16th.CA_NV.nc data/tasmax/tasmax_inmcm4_2006.nc\n",
      "http://albers.cnr.berkeley.edu/data/scripps/loca/inmcm4/rcp85/tasmax/tasmax_day_inmcm4_rcp85_r1i1p1_20070101-20071231.LOCA_2016-04-02.16th.CA_NV.nc data/tasmax/tasmax_inmcm4_2007.nc\n"
     ]
    }
   ],
   "source": [
    "for model in models:\n",
    "    for year in np.arange(2006, 2008):\n",
    "        download_nc(model, year)"
   ]
  },
  {
   "cell_type": "code",
   "execution_count": null,
   "metadata": {},
   "outputs": [],
   "source": []
  }
 ],
 "metadata": {
  "kernelspec": {
   "display_name": "Python 3",
   "language": "python",
   "name": "python3"
  },
  "language_info": {
   "codemirror_mode": {
    "name": "ipython",
    "version": 3
   },
   "file_extension": ".py",
   "mimetype": "text/x-python",
   "name": "python",
   "nbconvert_exporter": "python",
   "pygments_lexer": "ipython3",
   "version": "3.5.2"
  }
 },
 "nbformat": 4,
 "nbformat_minor": 2
}
