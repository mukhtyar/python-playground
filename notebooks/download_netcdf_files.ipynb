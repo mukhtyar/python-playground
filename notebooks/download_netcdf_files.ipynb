{
 "cells": [
  {
   "cell_type": "code",
   "execution_count": 16,
   "metadata": {},
   "outputs": [],
   "source": [
    "import requests\n",
    "import numpy as np\n",
    "from bs4 import BeautifulSoup\n",
    "import urllib"
   ]
  },
  {
   "cell_type": "code",
   "execution_count": 25,
   "metadata": {},
   "outputs": [],
   "source": [
    "models = [\n",
    "          'ACCESS1-0', 'ACCESS1-3', 'CCSM4', 'CESM1-BGC', 'CESM1-CAM5', 'CMCC-CM', 'CMCC-CMS', 'CSIRO-Mk3-6-0', \n",
    "          'CanESM2', 'CNRM-CM5', 'EC-EARTH', 'FGOALS-g2', 'GFDL-CM3', 'GFDL-ESM2G', 'GFDL-ESM2M', 'GISS-E2-H',\n",
    "          'GISS-E2-R', 'HadGEM2-AO', 'HadGEM2-CC', 'HadGEM2-ES', 'IPSL-CM5A-LR', 'IPSL-CM5A-MR', 'MIROC-ESM',\n",
    "          'MIROC-ESM-CHEM', 'MIROC5', 'MPI-ESM-LR', 'MPI-ESM-MR', 'MRI-CGCM3', 'NorESM1-M', 'bcc-csm1-1',\n",
    "          'bcc-csm1-1-m', 'inmcm4'\n",
    "        ]\n",
    "\n",
    "models10 = [\n",
    "          'ACCESS1-0', 'CCSM4', 'CESM1-BGC', 'CMCC-CMS', 'CanESM2',\n",
    "            'CNRM-CM5', 'GFDL-CM3', 'HadGEM2-CC', 'HadGEM2-ES', 'MIROC5'\n",
    "        ]\n",
    "\n",
    "models4 = ['CanESM2', 'CNRM-CM5', 'HadGEM2-ES', 'MIROC5']"
   ]
  },
  {
   "cell_type": "code",
   "execution_count": 26,
   "metadata": {},
   "outputs": [],
   "source": [
    "ext = 'nc'"
   ]
  },
  {
   "cell_type": "markdown",
   "metadata": {},
   "source": [
    "### Return a list of all files at url"
   ]
  },
  {
   "cell_type": "code",
   "execution_count": 27,
   "metadata": {},
   "outputs": [],
   "source": [
    "def listFD(url, ext=''):\n",
    "    page = requests.get(url).text\n",
    "    soup = BeautifulSoup(page, 'html.parser')\n",
    "    return [url + '/' + node.get('href') for node in soup.find_all('a') if node.get('href').endswith(ext)]"
   ]
  },
  {
   "cell_type": "markdown",
   "metadata": {},
   "source": [
    "### Download LOCA NetCDF files"
   ]
  },
  {
   "cell_type": "code",
   "execution_count": 32,
   "metadata": {},
   "outputs": [],
   "source": [
    "def download_nc(climvar, scenario, model, year):\n",
    "    url = 'http://albers.cnr.berkeley.edu/data/scripps/loca/{}/{}/{}' .format(model, scenario, climvar)\n",
    "    file_list = listFD(url, ext)\n",
    "    for file in file_list:\n",
    "        name = str(year) + '0101-' + str(year) + '1231'\n",
    "        if name in file:\n",
    "            out_file = 'data/extreme_pr/{}_{}_{}_{}.nc' .format(climvar, scenario, model, year)\n",
    "            print(file, out_file)\n",
    "            urllib.request.urlretrieve(file, out_file)"
   ]
  },
  {
   "cell_type": "code",
   "execution_count": null,
   "metadata": {},
   "outputs": [],
   "source": [
    "for model in models4:\n",
    "    for year in np.arange(2008, 2100):\n",
    "        download_nc('pr', 'rcp85', model, year)"
   ]
  },
  {
   "cell_type": "markdown",
   "metadata": {},
   "source": [
    "### Download Livneh NetCDF files"
   ]
  },
  {
   "cell_type": "code",
   "execution_count": 23,
   "metadata": {},
   "outputs": [],
   "source": [
    "def download_livneh_nc(year, month):\n",
    "    url = 'http://albers.cnr.berkeley.edu/data/noaa/livneh/CA_NV/'\n",
    "    file_list = listFD(url, ext)\n",
    "    for file in file_list:\n",
    "        year = str(year)\n",
    "        month = str(month).zfill(2) \n",
    "        name = '{}{}.nc'.format(year, month)\n",
    "        if name in file:\n",
    "            out_file = 'data/livneh/livneh_{}_{}.nc' .format(year, month)\n",
    "            print(file, out_file)\n",
    "            urllib.request.urlretrieve(file, out_file)"
   ]
  },
  {
   "cell_type": "code",
   "execution_count": null,
   "metadata": {
    "scrolled": true
   },
   "outputs": [],
   "source": [
    "for year in np.arange(1950, 2007):\n",
    "    for month in np.arange(1, 13):\n",
    "        download_livneh_nc(year, month)"
   ]
  }
 ],
 "metadata": {
  "kernelspec": {
   "display_name": "Python 3",
   "language": "python",
   "name": "python3"
  },
  "language_info": {
   "codemirror_mode": {
    "name": "ipython",
    "version": 3
   },
   "file_extension": ".py",
   "mimetype": "text/x-python",
   "name": "python",
   "nbconvert_exporter": "python",
   "pygments_lexer": "ipython3",
   "version": "3.5.2"
  }
 },
 "nbformat": 4,
 "nbformat_minor": 2
}
