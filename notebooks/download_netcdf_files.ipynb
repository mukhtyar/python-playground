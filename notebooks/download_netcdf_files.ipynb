{
 "cells": [
  {
   "cell_type": "code",
   "execution_count": 21,
   "metadata": {},
   "outputs": [],
   "source": [
    "import requests\n",
    "import numpy as np\n",
    "from bs4 import BeautifulSoup\n",
    "import urllib"
   ]
  },
  {
   "cell_type": "code",
   "execution_count": 22,
   "metadata": {},
   "outputs": [],
   "source": [
    "models = [\n",
    "          'ACCESS1-0', 'ACCESS1-3', 'CCSM4', 'CESM1-BGC', 'CESM1-CAM5', 'CMCC-CM', 'CMCC-CMS', 'CSIRO-Mk3-6-0', \n",
    "          'CanESM2', 'CNRM-CM5', 'EC-EARTH', 'FGOALS-g2', 'GFDL-CM3', 'GFDL-ESM2G', 'GFDL-ESM2M', 'GISS-E2-H',\n",
    "          'GISS-E2-R', 'HadGEM2-AO', 'HadGEM2-CC', 'HadGEM2-ES', 'IPSL-CM5A-LR', 'IPSL-CM5A-MR', 'MIROC-ESM',\n",
    "          'MIROC-ESM-CHEM', 'MIROC5', 'MPI-ESM-LR', 'MPI-ESM-MR', 'MRI-CGCM3', 'NorESM1-M', 'bcc-csm1-1',\n",
    "          'bcc-csm1-1-m', 'inmcm4'\n",
    "        ]\n",
    "\n",
    "models10 = [\n",
    "          'ACCESS1-0', 'CCSM4', 'CESM1-BGC', 'CMCC-CMS', 'CanESM2',\n",
    "            'CNRM-CM5', 'GFDL-CM3', 'HadGEM2-CC', 'HadGEM2-ES', 'MIROC5'\n",
    "        ]\n",
    "\n",
    "models4 = ['CanESM2', 'CNRM-CM5', 'HadGEM2-ES', 'MIROC5']"
   ]
  },
  {
   "cell_type": "code",
   "execution_count": 23,
   "metadata": {},
   "outputs": [],
   "source": [
    "ext = 'nc'"
   ]
  },
  {
   "cell_type": "markdown",
   "metadata": {},
   "source": [
    "### Return a list of all files at url"
   ]
  },
  {
   "cell_type": "code",
   "execution_count": 24,
   "metadata": {},
   "outputs": [],
   "source": [
    "def listFD(url, ext=''):\n",
    "    page = requests.get(url).text\n",
    "    soup = BeautifulSoup(page, 'html.parser')\n",
    "    return [url + '/' + node.get('href') for node in soup.find_all('a') if node.get('href').endswith(ext)]"
   ]
  },
  {
   "cell_type": "markdown",
   "metadata": {},
   "source": [
    "### Download LOCA NetCDF files"
   ]
  },
  {
   "cell_type": "code",
   "execution_count": 33,
   "metadata": {},
   "outputs": [],
   "source": [
    "def download_nc(climvar, scenario, model, year):\n",
    "    url = 'http://albers.cnr.berkeley.edu/data/scripps/loca/{}/{}/{}' .format(model, scenario, climvar)\n",
    "    file_list = listFD(url, ext)\n",
    "    for file in file_list:\n",
    "        name = str(year) + '0101-' + str(year) + '1231'\n",
    "        if name in file:\n",
    "            out_file = 'data/extreme_pr/todo/{}_{}_{}_{}.nc' .format(climvar, scenario, model, year)\n",
    "            print(file, out_file)\n",
    "            urllib.request.urlretrieve(file, out_file)"
   ]
  },
  {
   "cell_type": "code",
   "execution_count": 34,
   "metadata": {},
   "outputs": [
    {
     "name": "stdout",
     "output_type": "stream",
     "text": [
      "http://albers.cnr.berkeley.edu/data/scripps/loca/CanESM2/historical/pr/pr_day_CanESM2_historical_r1i1p1_19510101-19511231.LOCA_2016-04-02.16th.CA_NV.nc data/extreme_pr/todo/pr_historical_CanESM2_1951.nc\n",
      "http://albers.cnr.berkeley.edu/data/scripps/loca/CanESM2/historical/pr/pr_day_CanESM2_historical_r1i1p1_19520101-19521231.LOCA_2016-04-02.16th.CA_NV.nc data/extreme_pr/todo/pr_historical_CanESM2_1952.nc\n",
      "http://albers.cnr.berkeley.edu/data/scripps/loca/CanESM2/historical/pr/pr_day_CanESM2_historical_r1i1p1_19530101-19531231.LOCA_2016-04-02.16th.CA_NV.nc data/extreme_pr/todo/pr_historical_CanESM2_1953.nc\n",
      "http://albers.cnr.berkeley.edu/data/scripps/loca/CanESM2/historical/pr/pr_day_CanESM2_historical_r1i1p1_19540101-19541231.LOCA_2016-04-02.16th.CA_NV.nc data/extreme_pr/todo/pr_historical_CanESM2_1954.nc\n",
      "http://albers.cnr.berkeley.edu/data/scripps/loca/CanESM2/historical/pr/pr_day_CanESM2_historical_r1i1p1_19550101-19551231.LOCA_2016-04-02.16th.CA_NV.nc data/extreme_pr/todo/pr_historical_CanESM2_1955.nc\n",
      "http://albers.cnr.berkeley.edu/data/scripps/loca/CanESM2/historical/pr/pr_day_CanESM2_historical_r1i1p1_19560101-19561231.LOCA_2016-04-02.16th.CA_NV.nc data/extreme_pr/todo/pr_historical_CanESM2_1956.nc\n",
      "http://albers.cnr.berkeley.edu/data/scripps/loca/CanESM2/historical/pr/pr_day_CanESM2_historical_r1i1p1_19570101-19571231.LOCA_2016-04-02.16th.CA_NV.nc data/extreme_pr/todo/pr_historical_CanESM2_1957.nc\n",
      "http://albers.cnr.berkeley.edu/data/scripps/loca/CanESM2/historical/pr/pr_day_CanESM2_historical_r1i1p1_19580101-19581231.LOCA_2016-04-02.16th.CA_NV.nc data/extreme_pr/todo/pr_historical_CanESM2_1958.nc\n",
      "http://albers.cnr.berkeley.edu/data/scripps/loca/CanESM2/historical/pr/pr_day_CanESM2_historical_r1i1p1_19590101-19591231.LOCA_2016-04-02.16th.CA_NV.nc data/extreme_pr/todo/pr_historical_CanESM2_1959.nc\n",
      "http://albers.cnr.berkeley.edu/data/scripps/loca/CanESM2/historical/pr/pr_day_CanESM2_historical_r1i1p1_19600101-19601231.LOCA_2016-04-02.16th.CA_NV.nc data/extreme_pr/todo/pr_historical_CanESM2_1960.nc\n",
      "http://albers.cnr.berkeley.edu/data/scripps/loca/CanESM2/historical/pr/pr_day_CanESM2_historical_r1i1p1_19610101-19611231.LOCA_2016-04-02.16th.CA_NV.nc data/extreme_pr/todo/pr_historical_CanESM2_1961.nc\n",
      "http://albers.cnr.berkeley.edu/data/scripps/loca/CanESM2/historical/pr/pr_day_CanESM2_historical_r1i1p1_19620101-19621231.LOCA_2016-04-02.16th.CA_NV.nc data/extreme_pr/todo/pr_historical_CanESM2_1962.nc\n",
      "http://albers.cnr.berkeley.edu/data/scripps/loca/CanESM2/historical/pr/pr_day_CanESM2_historical_r1i1p1_19630101-19631231.LOCA_2016-04-02.16th.CA_NV.nc data/extreme_pr/todo/pr_historical_CanESM2_1963.nc\n",
      "http://albers.cnr.berkeley.edu/data/scripps/loca/CanESM2/historical/pr/pr_day_CanESM2_historical_r1i1p1_19640101-19641231.LOCA_2016-04-02.16th.CA_NV.nc data/extreme_pr/todo/pr_historical_CanESM2_1964.nc\n",
      "http://albers.cnr.berkeley.edu/data/scripps/loca/CanESM2/historical/pr/pr_day_CanESM2_historical_r1i1p1_19650101-19651231.LOCA_2016-04-02.16th.CA_NV.nc data/extreme_pr/todo/pr_historical_CanESM2_1965.nc\n",
      "http://albers.cnr.berkeley.edu/data/scripps/loca/CanESM2/historical/pr/pr_day_CanESM2_historical_r1i1p1_19660101-19661231.LOCA_2016-04-02.16th.CA_NV.nc data/extreme_pr/todo/pr_historical_CanESM2_1966.nc\n",
      "http://albers.cnr.berkeley.edu/data/scripps/loca/CanESM2/historical/pr/pr_day_CanESM2_historical_r1i1p1_19670101-19671231.LOCA_2016-04-02.16th.CA_NV.nc data/extreme_pr/todo/pr_historical_CanESM2_1967.nc\n",
      "http://albers.cnr.berkeley.edu/data/scripps/loca/CanESM2/historical/pr/pr_day_CanESM2_historical_r1i1p1_19680101-19681231.LOCA_2016-04-02.16th.CA_NV.nc data/extreme_pr/todo/pr_historical_CanESM2_1968.nc\n",
      "http://albers.cnr.berkeley.edu/data/scripps/loca/CanESM2/historical/pr/pr_day_CanESM2_historical_r1i1p1_19690101-19691231.LOCA_2016-04-02.16th.CA_NV.nc data/extreme_pr/todo/pr_historical_CanESM2_1969.nc\n",
      "http://albers.cnr.berkeley.edu/data/scripps/loca/CanESM2/historical/pr/pr_day_CanESM2_historical_r1i1p1_19700101-19701231.LOCA_2016-04-02.16th.CA_NV.nc data/extreme_pr/todo/pr_historical_CanESM2_1970.nc\n",
      "http://albers.cnr.berkeley.edu/data/scripps/loca/CanESM2/historical/pr/pr_day_CanESM2_historical_r1i1p1_19710101-19711231.LOCA_2016-04-02.16th.CA_NV.nc data/extreme_pr/todo/pr_historical_CanESM2_1971.nc\n",
      "http://albers.cnr.berkeley.edu/data/scripps/loca/CanESM2/historical/pr/pr_day_CanESM2_historical_r1i1p1_19720101-19721231.LOCA_2016-04-02.16th.CA_NV.nc data/extreme_pr/todo/pr_historical_CanESM2_1972.nc\n",
      "http://albers.cnr.berkeley.edu/data/scripps/loca/CanESM2/historical/pr/pr_day_CanESM2_historical_r1i1p1_19730101-19731231.LOCA_2016-04-02.16th.CA_NV.nc data/extreme_pr/todo/pr_historical_CanESM2_1973.nc\n",
      "http://albers.cnr.berkeley.edu/data/scripps/loca/CanESM2/historical/pr/pr_day_CanESM2_historical_r1i1p1_19740101-19741231.LOCA_2016-04-02.16th.CA_NV.nc data/extreme_pr/todo/pr_historical_CanESM2_1974.nc\n",
      "http://albers.cnr.berkeley.edu/data/scripps/loca/CanESM2/historical/pr/pr_day_CanESM2_historical_r1i1p1_19750101-19751231.LOCA_2016-04-02.16th.CA_NV.nc data/extreme_pr/todo/pr_historical_CanESM2_1975.nc\n",
      "http://albers.cnr.berkeley.edu/data/scripps/loca/CanESM2/historical/pr/pr_day_CanESM2_historical_r1i1p1_19760101-19761231.LOCA_2016-04-02.16th.CA_NV.nc data/extreme_pr/todo/pr_historical_CanESM2_1976.nc\n",
      "http://albers.cnr.berkeley.edu/data/scripps/loca/CanESM2/historical/pr/pr_day_CanESM2_historical_r1i1p1_19770101-19771231.LOCA_2016-04-02.16th.CA_NV.nc data/extreme_pr/todo/pr_historical_CanESM2_1977.nc\n",
      "http://albers.cnr.berkeley.edu/data/scripps/loca/CanESM2/historical/pr/pr_day_CanESM2_historical_r1i1p1_19780101-19781231.LOCA_2016-04-02.16th.CA_NV.nc data/extreme_pr/todo/pr_historical_CanESM2_1978.nc\n",
      "http://albers.cnr.berkeley.edu/data/scripps/loca/CanESM2/historical/pr/pr_day_CanESM2_historical_r1i1p1_19790101-19791231.LOCA_2016-04-02.16th.CA_NV.nc data/extreme_pr/todo/pr_historical_CanESM2_1979.nc\n",
      "http://albers.cnr.berkeley.edu/data/scripps/loca/CanESM2/historical/pr/pr_day_CanESM2_historical_r1i1p1_19800101-19801231.LOCA_2016-04-02.16th.CA_NV.nc data/extreme_pr/todo/pr_historical_CanESM2_1980.nc\n",
      "http://albers.cnr.berkeley.edu/data/scripps/loca/CanESM2/historical/pr/pr_day_CanESM2_historical_r1i1p1_19810101-19811231.LOCA_2016-04-02.16th.CA_NV.nc data/extreme_pr/todo/pr_historical_CanESM2_1981.nc\n",
      "http://albers.cnr.berkeley.edu/data/scripps/loca/CanESM2/historical/pr/pr_day_CanESM2_historical_r1i1p1_19820101-19821231.LOCA_2016-04-02.16th.CA_NV.nc data/extreme_pr/todo/pr_historical_CanESM2_1982.nc\n",
      "http://albers.cnr.berkeley.edu/data/scripps/loca/CanESM2/historical/pr/pr_day_CanESM2_historical_r1i1p1_19830101-19831231.LOCA_2016-04-02.16th.CA_NV.nc data/extreme_pr/todo/pr_historical_CanESM2_1983.nc\n",
      "http://albers.cnr.berkeley.edu/data/scripps/loca/CanESM2/historical/pr/pr_day_CanESM2_historical_r1i1p1_19840101-19841231.LOCA_2016-04-02.16th.CA_NV.nc data/extreme_pr/todo/pr_historical_CanESM2_1984.nc\n",
      "http://albers.cnr.berkeley.edu/data/scripps/loca/CanESM2/historical/pr/pr_day_CanESM2_historical_r1i1p1_19850101-19851231.LOCA_2016-04-02.16th.CA_NV.nc data/extreme_pr/todo/pr_historical_CanESM2_1985.nc\n",
      "http://albers.cnr.berkeley.edu/data/scripps/loca/CanESM2/historical/pr/pr_day_CanESM2_historical_r1i1p1_19860101-19861231.LOCA_2016-04-02.16th.CA_NV.nc data/extreme_pr/todo/pr_historical_CanESM2_1986.nc\n",
      "http://albers.cnr.berkeley.edu/data/scripps/loca/CanESM2/historical/pr/pr_day_CanESM2_historical_r1i1p1_19870101-19871231.LOCA_2016-04-02.16th.CA_NV.nc data/extreme_pr/todo/pr_historical_CanESM2_1987.nc\n",
      "http://albers.cnr.berkeley.edu/data/scripps/loca/CanESM2/historical/pr/pr_day_CanESM2_historical_r1i1p1_19880101-19881231.LOCA_2016-04-02.16th.CA_NV.nc data/extreme_pr/todo/pr_historical_CanESM2_1988.nc\n",
      "http://albers.cnr.berkeley.edu/data/scripps/loca/CanESM2/historical/pr/pr_day_CanESM2_historical_r1i1p1_19890101-19891231.LOCA_2016-04-02.16th.CA_NV.nc data/extreme_pr/todo/pr_historical_CanESM2_1989.nc\n",
      "http://albers.cnr.berkeley.edu/data/scripps/loca/CanESM2/historical/pr/pr_day_CanESM2_historical_r1i1p1_19900101-19901231.LOCA_2016-04-02.16th.CA_NV.nc data/extreme_pr/todo/pr_historical_CanESM2_1990.nc\n",
      "http://albers.cnr.berkeley.edu/data/scripps/loca/CanESM2/historical/pr/pr_day_CanESM2_historical_r1i1p1_19910101-19911231.LOCA_2016-04-02.16th.CA_NV.nc data/extreme_pr/todo/pr_historical_CanESM2_1991.nc\n"
     ]
    },
    {
     "name": "stdout",
     "output_type": "stream",
     "text": [
      "http://albers.cnr.berkeley.edu/data/scripps/loca/CanESM2/historical/pr/pr_day_CanESM2_historical_r1i1p1_19920101-19921231.LOCA_2016-04-02.16th.CA_NV.nc data/extreme_pr/todo/pr_historical_CanESM2_1992.nc\n",
      "http://albers.cnr.berkeley.edu/data/scripps/loca/CanESM2/historical/pr/pr_day_CanESM2_historical_r1i1p1_19930101-19931231.LOCA_2016-04-02.16th.CA_NV.nc data/extreme_pr/todo/pr_historical_CanESM2_1993.nc\n",
      "http://albers.cnr.berkeley.edu/data/scripps/loca/CanESM2/historical/pr/pr_day_CanESM2_historical_r1i1p1_19940101-19941231.LOCA_2016-04-02.16th.CA_NV.nc data/extreme_pr/todo/pr_historical_CanESM2_1994.nc\n",
      "http://albers.cnr.berkeley.edu/data/scripps/loca/CanESM2/historical/pr/pr_day_CanESM2_historical_r1i1p1_19950101-19951231.LOCA_2016-04-02.16th.CA_NV.nc data/extreme_pr/todo/pr_historical_CanESM2_1995.nc\n",
      "http://albers.cnr.berkeley.edu/data/scripps/loca/CanESM2/historical/pr/pr_day_CanESM2_historical_r1i1p1_19960101-19961231.LOCA_2016-04-02.16th.CA_NV.nc data/extreme_pr/todo/pr_historical_CanESM2_1996.nc\n",
      "http://albers.cnr.berkeley.edu/data/scripps/loca/CanESM2/historical/pr/pr_day_CanESM2_historical_r1i1p1_19970101-19971231.LOCA_2016-04-02.16th.CA_NV.nc data/extreme_pr/todo/pr_historical_CanESM2_1997.nc\n",
      "http://albers.cnr.berkeley.edu/data/scripps/loca/CanESM2/historical/pr/pr_day_CanESM2_historical_r1i1p1_19980101-19981231.LOCA_2016-04-02.16th.CA_NV.nc data/extreme_pr/todo/pr_historical_CanESM2_1998.nc\n",
      "http://albers.cnr.berkeley.edu/data/scripps/loca/CanESM2/historical/pr/pr_day_CanESM2_historical_r1i1p1_19990101-19991231.LOCA_2016-04-02.16th.CA_NV.nc data/extreme_pr/todo/pr_historical_CanESM2_1999.nc\n",
      "http://albers.cnr.berkeley.edu/data/scripps/loca/CanESM2/historical/pr/pr_day_CanESM2_historical_r1i1p1_20000101-20001231.LOCA_2016-04-02.16th.CA_NV.nc data/extreme_pr/todo/pr_historical_CanESM2_2000.nc\n",
      "http://albers.cnr.berkeley.edu/data/scripps/loca/CanESM2/historical/pr/pr_day_CanESM2_historical_r1i1p1_20010101-20011231.LOCA_2016-04-02.16th.CA_NV.nc data/extreme_pr/todo/pr_historical_CanESM2_2001.nc\n",
      "http://albers.cnr.berkeley.edu/data/scripps/loca/CanESM2/historical/pr/pr_day_CanESM2_historical_r1i1p1_20020101-20021231.LOCA_2016-04-02.16th.CA_NV.nc data/extreme_pr/todo/pr_historical_CanESM2_2002.nc\n",
      "http://albers.cnr.berkeley.edu/data/scripps/loca/CanESM2/historical/pr/pr_day_CanESM2_historical_r1i1p1_20030101-20031231.LOCA_2016-04-02.16th.CA_NV.nc data/extreme_pr/todo/pr_historical_CanESM2_2003.nc\n",
      "http://albers.cnr.berkeley.edu/data/scripps/loca/CanESM2/historical/pr/pr_day_CanESM2_historical_r1i1p1_20040101-20041231.LOCA_2016-04-02.16th.CA_NV.nc data/extreme_pr/todo/pr_historical_CanESM2_2004.nc\n",
      "http://albers.cnr.berkeley.edu/data/scripps/loca/CanESM2/historical/pr/pr_day_CanESM2_historical_r1i1p1_20050101-20051231.LOCA_2016-04-02.16th.CA_NV.nc data/extreme_pr/todo/pr_historical_CanESM2_2005.nc\n",
      "http://albers.cnr.berkeley.edu/data/scripps/loca/CNRM-CM5/historical/pr/pr_day_CNRM-CM5_historical_r1i1p1_19510101-19511231.LOCA_2016-04-02.16th.CA_NV.nc data/extreme_pr/todo/pr_historical_CNRM-CM5_1951.nc\n",
      "http://albers.cnr.berkeley.edu/data/scripps/loca/CNRM-CM5/historical/pr/pr_day_CNRM-CM5_historical_r1i1p1_19520101-19521231.LOCA_2016-04-02.16th.CA_NV.nc data/extreme_pr/todo/pr_historical_CNRM-CM5_1952.nc\n",
      "http://albers.cnr.berkeley.edu/data/scripps/loca/CNRM-CM5/historical/pr/pr_day_CNRM-CM5_historical_r1i1p1_19530101-19531231.LOCA_2016-04-02.16th.CA_NV.nc data/extreme_pr/todo/pr_historical_CNRM-CM5_1953.nc\n",
      "http://albers.cnr.berkeley.edu/data/scripps/loca/CNRM-CM5/historical/pr/pr_day_CNRM-CM5_historical_r1i1p1_19540101-19541231.LOCA_2016-04-02.16th.CA_NV.nc data/extreme_pr/todo/pr_historical_CNRM-CM5_1954.nc\n",
      "http://albers.cnr.berkeley.edu/data/scripps/loca/CNRM-CM5/historical/pr/pr_day_CNRM-CM5_historical_r1i1p1_19550101-19551231.LOCA_2016-04-02.16th.CA_NV.nc data/extreme_pr/todo/pr_historical_CNRM-CM5_1955.nc\n",
      "http://albers.cnr.berkeley.edu/data/scripps/loca/CNRM-CM5/historical/pr/pr_day_CNRM-CM5_historical_r1i1p1_19560101-19561231.LOCA_2016-04-02.16th.CA_NV.nc data/extreme_pr/todo/pr_historical_CNRM-CM5_1956.nc\n",
      "http://albers.cnr.berkeley.edu/data/scripps/loca/CNRM-CM5/historical/pr/pr_day_CNRM-CM5_historical_r1i1p1_19570101-19571231.LOCA_2016-04-02.16th.CA_NV.nc data/extreme_pr/todo/pr_historical_CNRM-CM5_1957.nc\n",
      "http://albers.cnr.berkeley.edu/data/scripps/loca/CNRM-CM5/historical/pr/pr_day_CNRM-CM5_historical_r1i1p1_19580101-19581231.LOCA_2016-04-02.16th.CA_NV.nc data/extreme_pr/todo/pr_historical_CNRM-CM5_1958.nc\n",
      "http://albers.cnr.berkeley.edu/data/scripps/loca/CNRM-CM5/historical/pr/pr_day_CNRM-CM5_historical_r1i1p1_19590101-19591231.LOCA_2016-04-02.16th.CA_NV.nc data/extreme_pr/todo/pr_historical_CNRM-CM5_1959.nc\n",
      "http://albers.cnr.berkeley.edu/data/scripps/loca/CNRM-CM5/historical/pr/pr_day_CNRM-CM5_historical_r1i1p1_19600101-19601231.LOCA_2016-04-02.16th.CA_NV.nc data/extreme_pr/todo/pr_historical_CNRM-CM5_1960.nc\n",
      "http://albers.cnr.berkeley.edu/data/scripps/loca/CNRM-CM5/historical/pr/pr_day_CNRM-CM5_historical_r1i1p1_19610101-19611231.LOCA_2016-04-02.16th.CA_NV.nc data/extreme_pr/todo/pr_historical_CNRM-CM5_1961.nc\n",
      "http://albers.cnr.berkeley.edu/data/scripps/loca/CNRM-CM5/historical/pr/pr_day_CNRM-CM5_historical_r1i1p1_19620101-19621231.LOCA_2016-04-02.16th.CA_NV.nc data/extreme_pr/todo/pr_historical_CNRM-CM5_1962.nc\n",
      "http://albers.cnr.berkeley.edu/data/scripps/loca/CNRM-CM5/historical/pr/pr_day_CNRM-CM5_historical_r1i1p1_19630101-19631231.LOCA_2016-04-02.16th.CA_NV.nc data/extreme_pr/todo/pr_historical_CNRM-CM5_1963.nc\n",
      "http://albers.cnr.berkeley.edu/data/scripps/loca/CNRM-CM5/historical/pr/pr_day_CNRM-CM5_historical_r1i1p1_19640101-19641231.LOCA_2016-04-02.16th.CA_NV.nc data/extreme_pr/todo/pr_historical_CNRM-CM5_1964.nc\n",
      "http://albers.cnr.berkeley.edu/data/scripps/loca/CNRM-CM5/historical/pr/pr_day_CNRM-CM5_historical_r1i1p1_19650101-19651231.LOCA_2016-04-02.16th.CA_NV.nc data/extreme_pr/todo/pr_historical_CNRM-CM5_1965.nc\n",
      "http://albers.cnr.berkeley.edu/data/scripps/loca/CNRM-CM5/historical/pr/pr_day_CNRM-CM5_historical_r1i1p1_19660101-19661231.LOCA_2016-04-02.16th.CA_NV.nc data/extreme_pr/todo/pr_historical_CNRM-CM5_1966.nc\n",
      "http://albers.cnr.berkeley.edu/data/scripps/loca/CNRM-CM5/historical/pr/pr_day_CNRM-CM5_historical_r1i1p1_19670101-19671231.LOCA_2016-04-02.16th.CA_NV.nc data/extreme_pr/todo/pr_historical_CNRM-CM5_1967.nc\n",
      "http://albers.cnr.berkeley.edu/data/scripps/loca/CNRM-CM5/historical/pr/pr_day_CNRM-CM5_historical_r1i1p1_19680101-19681231.LOCA_2016-04-02.16th.CA_NV.nc data/extreme_pr/todo/pr_historical_CNRM-CM5_1968.nc\n",
      "http://albers.cnr.berkeley.edu/data/scripps/loca/CNRM-CM5/historical/pr/pr_day_CNRM-CM5_historical_r1i1p1_19690101-19691231.LOCA_2016-04-02.16th.CA_NV.nc data/extreme_pr/todo/pr_historical_CNRM-CM5_1969.nc\n",
      "http://albers.cnr.berkeley.edu/data/scripps/loca/CNRM-CM5/historical/pr/pr_day_CNRM-CM5_historical_r1i1p1_19700101-19701231.LOCA_2016-04-02.16th.CA_NV.nc data/extreme_pr/todo/pr_historical_CNRM-CM5_1970.nc\n",
      "http://albers.cnr.berkeley.edu/data/scripps/loca/CNRM-CM5/historical/pr/pr_day_CNRM-CM5_historical_r1i1p1_19710101-19711231.LOCA_2016-04-02.16th.CA_NV.nc data/extreme_pr/todo/pr_historical_CNRM-CM5_1971.nc\n",
      "http://albers.cnr.berkeley.edu/data/scripps/loca/CNRM-CM5/historical/pr/pr_day_CNRM-CM5_historical_r1i1p1_19720101-19721231.LOCA_2016-04-02.16th.CA_NV.nc data/extreme_pr/todo/pr_historical_CNRM-CM5_1972.nc\n",
      "http://albers.cnr.berkeley.edu/data/scripps/loca/CNRM-CM5/historical/pr/pr_day_CNRM-CM5_historical_r1i1p1_19730101-19731231.LOCA_2016-04-02.16th.CA_NV.nc data/extreme_pr/todo/pr_historical_CNRM-CM5_1973.nc\n",
      "http://albers.cnr.berkeley.edu/data/scripps/loca/CNRM-CM5/historical/pr/pr_day_CNRM-CM5_historical_r1i1p1_19740101-19741231.LOCA_2016-04-02.16th.CA_NV.nc data/extreme_pr/todo/pr_historical_CNRM-CM5_1974.nc\n",
      "http://albers.cnr.berkeley.edu/data/scripps/loca/CNRM-CM5/historical/pr/pr_day_CNRM-CM5_historical_r1i1p1_19750101-19751231.LOCA_2016-04-02.16th.CA_NV.nc data/extreme_pr/todo/pr_historical_CNRM-CM5_1975.nc\n",
      "http://albers.cnr.berkeley.edu/data/scripps/loca/CNRM-CM5/historical/pr/pr_day_CNRM-CM5_historical_r1i1p1_19760101-19761231.LOCA_2016-04-02.16th.CA_NV.nc data/extreme_pr/todo/pr_historical_CNRM-CM5_1976.nc\n"
     ]
    },
    {
     "name": "stdout",
     "output_type": "stream",
     "text": [
      "http://albers.cnr.berkeley.edu/data/scripps/loca/CNRM-CM5/historical/pr/pr_day_CNRM-CM5_historical_r1i1p1_19770101-19771231.LOCA_2016-04-02.16th.CA_NV.nc data/extreme_pr/todo/pr_historical_CNRM-CM5_1977.nc\n",
      "http://albers.cnr.berkeley.edu/data/scripps/loca/CNRM-CM5/historical/pr/pr_day_CNRM-CM5_historical_r1i1p1_19780101-19781231.LOCA_2016-04-02.16th.CA_NV.nc data/extreme_pr/todo/pr_historical_CNRM-CM5_1978.nc\n",
      "http://albers.cnr.berkeley.edu/data/scripps/loca/CNRM-CM5/historical/pr/pr_day_CNRM-CM5_historical_r1i1p1_19790101-19791231.LOCA_2016-04-02.16th.CA_NV.nc data/extreme_pr/todo/pr_historical_CNRM-CM5_1979.nc\n",
      "http://albers.cnr.berkeley.edu/data/scripps/loca/CNRM-CM5/historical/pr/pr_day_CNRM-CM5_historical_r1i1p1_19800101-19801231.LOCA_2016-04-02.16th.CA_NV.nc data/extreme_pr/todo/pr_historical_CNRM-CM5_1980.nc\n",
      "http://albers.cnr.berkeley.edu/data/scripps/loca/CNRM-CM5/historical/pr/pr_day_CNRM-CM5_historical_r1i1p1_19810101-19811231.LOCA_2016-04-02.16th.CA_NV.nc data/extreme_pr/todo/pr_historical_CNRM-CM5_1981.nc\n",
      "http://albers.cnr.berkeley.edu/data/scripps/loca/CNRM-CM5/historical/pr/pr_day_CNRM-CM5_historical_r1i1p1_19820101-19821231.LOCA_2016-04-02.16th.CA_NV.nc data/extreme_pr/todo/pr_historical_CNRM-CM5_1982.nc\n",
      "http://albers.cnr.berkeley.edu/data/scripps/loca/CNRM-CM5/historical/pr/pr_day_CNRM-CM5_historical_r1i1p1_19830101-19831231.LOCA_2016-04-02.16th.CA_NV.nc data/extreme_pr/todo/pr_historical_CNRM-CM5_1983.nc\n",
      "http://albers.cnr.berkeley.edu/data/scripps/loca/CNRM-CM5/historical/pr/pr_day_CNRM-CM5_historical_r1i1p1_19840101-19841231.LOCA_2016-04-02.16th.CA_NV.nc data/extreme_pr/todo/pr_historical_CNRM-CM5_1984.nc\n",
      "http://albers.cnr.berkeley.edu/data/scripps/loca/CNRM-CM5/historical/pr/pr_day_CNRM-CM5_historical_r1i1p1_19850101-19851231.LOCA_2016-04-02.16th.CA_NV.nc data/extreme_pr/todo/pr_historical_CNRM-CM5_1985.nc\n",
      "http://albers.cnr.berkeley.edu/data/scripps/loca/CNRM-CM5/historical/pr/pr_day_CNRM-CM5_historical_r1i1p1_19860101-19861231.LOCA_2016-04-02.16th.CA_NV.nc data/extreme_pr/todo/pr_historical_CNRM-CM5_1986.nc\n",
      "http://albers.cnr.berkeley.edu/data/scripps/loca/CNRM-CM5/historical/pr/pr_day_CNRM-CM5_historical_r1i1p1_19870101-19871231.LOCA_2016-04-02.16th.CA_NV.nc data/extreme_pr/todo/pr_historical_CNRM-CM5_1987.nc\n",
      "http://albers.cnr.berkeley.edu/data/scripps/loca/CNRM-CM5/historical/pr/pr_day_CNRM-CM5_historical_r1i1p1_19880101-19881231.LOCA_2016-04-02.16th.CA_NV.nc data/extreme_pr/todo/pr_historical_CNRM-CM5_1988.nc\n",
      "http://albers.cnr.berkeley.edu/data/scripps/loca/CNRM-CM5/historical/pr/pr_day_CNRM-CM5_historical_r1i1p1_19890101-19891231.LOCA_2016-04-02.16th.CA_NV.nc data/extreme_pr/todo/pr_historical_CNRM-CM5_1989.nc\n",
      "http://albers.cnr.berkeley.edu/data/scripps/loca/CNRM-CM5/historical/pr/pr_day_CNRM-CM5_historical_r1i1p1_19900101-19901231.LOCA_2016-04-02.16th.CA_NV.nc data/extreme_pr/todo/pr_historical_CNRM-CM5_1990.nc\n",
      "http://albers.cnr.berkeley.edu/data/scripps/loca/CNRM-CM5/historical/pr/pr_day_CNRM-CM5_historical_r1i1p1_19910101-19911231.LOCA_2016-04-02.16th.CA_NV.nc data/extreme_pr/todo/pr_historical_CNRM-CM5_1991.nc\n",
      "http://albers.cnr.berkeley.edu/data/scripps/loca/CNRM-CM5/historical/pr/pr_day_CNRM-CM5_historical_r1i1p1_19920101-19921231.LOCA_2016-04-02.16th.CA_NV.nc data/extreme_pr/todo/pr_historical_CNRM-CM5_1992.nc\n",
      "http://albers.cnr.berkeley.edu/data/scripps/loca/CNRM-CM5/historical/pr/pr_day_CNRM-CM5_historical_r1i1p1_19930101-19931231.LOCA_2016-04-02.16th.CA_NV.nc data/extreme_pr/todo/pr_historical_CNRM-CM5_1993.nc\n",
      "http://albers.cnr.berkeley.edu/data/scripps/loca/CNRM-CM5/historical/pr/pr_day_CNRM-CM5_historical_r1i1p1_19940101-19941231.LOCA_2016-04-02.16th.CA_NV.nc data/extreme_pr/todo/pr_historical_CNRM-CM5_1994.nc\n",
      "http://albers.cnr.berkeley.edu/data/scripps/loca/CNRM-CM5/historical/pr/pr_day_CNRM-CM5_historical_r1i1p1_19950101-19951231.LOCA_2016-04-02.16th.CA_NV.nc data/extreme_pr/todo/pr_historical_CNRM-CM5_1995.nc\n",
      "http://albers.cnr.berkeley.edu/data/scripps/loca/CNRM-CM5/historical/pr/pr_day_CNRM-CM5_historical_r1i1p1_19960101-19961231.LOCA_2016-04-02.16th.CA_NV.nc data/extreme_pr/todo/pr_historical_CNRM-CM5_1996.nc\n",
      "http://albers.cnr.berkeley.edu/data/scripps/loca/CNRM-CM5/historical/pr/pr_day_CNRM-CM5_historical_r1i1p1_19970101-19971231.LOCA_2016-04-02.16th.CA_NV.nc data/extreme_pr/todo/pr_historical_CNRM-CM5_1997.nc\n",
      "http://albers.cnr.berkeley.edu/data/scripps/loca/CNRM-CM5/historical/pr/pr_day_CNRM-CM5_historical_r1i1p1_19980101-19981231.LOCA_2016-04-02.16th.CA_NV.nc data/extreme_pr/todo/pr_historical_CNRM-CM5_1998.nc\n",
      "http://albers.cnr.berkeley.edu/data/scripps/loca/CNRM-CM5/historical/pr/pr_day_CNRM-CM5_historical_r1i1p1_19990101-19991231.LOCA_2016-04-02.16th.CA_NV.nc data/extreme_pr/todo/pr_historical_CNRM-CM5_1999.nc\n",
      "http://albers.cnr.berkeley.edu/data/scripps/loca/CNRM-CM5/historical/pr/pr_day_CNRM-CM5_historical_r1i1p1_20000101-20001231.LOCA_2016-04-02.16th.CA_NV.nc data/extreme_pr/todo/pr_historical_CNRM-CM5_2000.nc\n",
      "http://albers.cnr.berkeley.edu/data/scripps/loca/CNRM-CM5/historical/pr/pr_day_CNRM-CM5_historical_r1i1p1_20010101-20011231.LOCA_2016-04-02.16th.CA_NV.nc data/extreme_pr/todo/pr_historical_CNRM-CM5_2001.nc\n",
      "http://albers.cnr.berkeley.edu/data/scripps/loca/CNRM-CM5/historical/pr/pr_day_CNRM-CM5_historical_r1i1p1_20020101-20021231.LOCA_2016-04-02.16th.CA_NV.nc data/extreme_pr/todo/pr_historical_CNRM-CM5_2002.nc\n",
      "http://albers.cnr.berkeley.edu/data/scripps/loca/CNRM-CM5/historical/pr/pr_day_CNRM-CM5_historical_r1i1p1_20030101-20031231.LOCA_2016-04-02.16th.CA_NV.nc data/extreme_pr/todo/pr_historical_CNRM-CM5_2003.nc\n",
      "http://albers.cnr.berkeley.edu/data/scripps/loca/CNRM-CM5/historical/pr/pr_day_CNRM-CM5_historical_r1i1p1_20040101-20041231.LOCA_2016-04-02.16th.CA_NV.nc data/extreme_pr/todo/pr_historical_CNRM-CM5_2004.nc\n",
      "http://albers.cnr.berkeley.edu/data/scripps/loca/CNRM-CM5/historical/pr/pr_day_CNRM-CM5_historical_r1i1p1_20050101-20051231.LOCA_2016-04-02.16th.CA_NV.nc data/extreme_pr/todo/pr_historical_CNRM-CM5_2005.nc\n",
      "http://albers.cnr.berkeley.edu/data/scripps/loca/HadGEM2-ES/historical/pr/pr_day_HadGEM2-ES_historical_r1i1p1_19510101-19511231.LOCA_2016-04-02.16th.CA_NV.nc data/extreme_pr/todo/pr_historical_HadGEM2-ES_1951.nc\n",
      "http://albers.cnr.berkeley.edu/data/scripps/loca/HadGEM2-ES/historical/pr/pr_day_HadGEM2-ES_historical_r1i1p1_19520101-19521231.LOCA_2016-04-02.16th.CA_NV.nc data/extreme_pr/todo/pr_historical_HadGEM2-ES_1952.nc\n",
      "http://albers.cnr.berkeley.edu/data/scripps/loca/HadGEM2-ES/historical/pr/pr_day_HadGEM2-ES_historical_r1i1p1_19530101-19531231.LOCA_2016-04-02.16th.CA_NV.nc data/extreme_pr/todo/pr_historical_HadGEM2-ES_1953.nc\n",
      "http://albers.cnr.berkeley.edu/data/scripps/loca/HadGEM2-ES/historical/pr/pr_day_HadGEM2-ES_historical_r1i1p1_19540101-19541231.LOCA_2016-04-02.16th.CA_NV.nc data/extreme_pr/todo/pr_historical_HadGEM2-ES_1954.nc\n",
      "http://albers.cnr.berkeley.edu/data/scripps/loca/HadGEM2-ES/historical/pr/pr_day_HadGEM2-ES_historical_r1i1p1_19550101-19551231.LOCA_2016-04-02.16th.CA_NV.nc data/extreme_pr/todo/pr_historical_HadGEM2-ES_1955.nc\n",
      "http://albers.cnr.berkeley.edu/data/scripps/loca/HadGEM2-ES/historical/pr/pr_day_HadGEM2-ES_historical_r1i1p1_19560101-19561231.LOCA_2016-04-02.16th.CA_NV.nc data/extreme_pr/todo/pr_historical_HadGEM2-ES_1956.nc\n",
      "http://albers.cnr.berkeley.edu/data/scripps/loca/HadGEM2-ES/historical/pr/pr_day_HadGEM2-ES_historical_r1i1p1_19570101-19571231.LOCA_2016-04-02.16th.CA_NV.nc data/extreme_pr/todo/pr_historical_HadGEM2-ES_1957.nc\n",
      "http://albers.cnr.berkeley.edu/data/scripps/loca/HadGEM2-ES/historical/pr/pr_day_HadGEM2-ES_historical_r1i1p1_19580101-19581231.LOCA_2016-04-02.16th.CA_NV.nc data/extreme_pr/todo/pr_historical_HadGEM2-ES_1958.nc\n",
      "http://albers.cnr.berkeley.edu/data/scripps/loca/HadGEM2-ES/historical/pr/pr_day_HadGEM2-ES_historical_r1i1p1_19590101-19591231.LOCA_2016-04-02.16th.CA_NV.nc data/extreme_pr/todo/pr_historical_HadGEM2-ES_1959.nc\n",
      "http://albers.cnr.berkeley.edu/data/scripps/loca/HadGEM2-ES/historical/pr/pr_day_HadGEM2-ES_historical_r1i1p1_19600101-19601231.LOCA_2016-04-02.16th.CA_NV.nc data/extreme_pr/todo/pr_historical_HadGEM2-ES_1960.nc\n",
      "http://albers.cnr.berkeley.edu/data/scripps/loca/HadGEM2-ES/historical/pr/pr_day_HadGEM2-ES_historical_r1i1p1_19610101-19611231.LOCA_2016-04-02.16th.CA_NV.nc data/extreme_pr/todo/pr_historical_HadGEM2-ES_1961.nc\n"
     ]
    },
    {
     "name": "stdout",
     "output_type": "stream",
     "text": [
      "http://albers.cnr.berkeley.edu/data/scripps/loca/HadGEM2-ES/historical/pr/pr_day_HadGEM2-ES_historical_r1i1p1_19620101-19621231.LOCA_2016-04-02.16th.CA_NV.nc data/extreme_pr/todo/pr_historical_HadGEM2-ES_1962.nc\n",
      "http://albers.cnr.berkeley.edu/data/scripps/loca/HadGEM2-ES/historical/pr/pr_day_HadGEM2-ES_historical_r1i1p1_19630101-19631231.LOCA_2016-04-02.16th.CA_NV.nc data/extreme_pr/todo/pr_historical_HadGEM2-ES_1963.nc\n",
      "http://albers.cnr.berkeley.edu/data/scripps/loca/HadGEM2-ES/historical/pr/pr_day_HadGEM2-ES_historical_r1i1p1_19640101-19641231.LOCA_2016-04-02.16th.CA_NV.nc data/extreme_pr/todo/pr_historical_HadGEM2-ES_1964.nc\n",
      "http://albers.cnr.berkeley.edu/data/scripps/loca/HadGEM2-ES/historical/pr/pr_day_HadGEM2-ES_historical_r1i1p1_19650101-19651231.LOCA_2016-04-02.16th.CA_NV.nc data/extreme_pr/todo/pr_historical_HadGEM2-ES_1965.nc\n",
      "http://albers.cnr.berkeley.edu/data/scripps/loca/HadGEM2-ES/historical/pr/pr_day_HadGEM2-ES_historical_r1i1p1_19660101-19661231.LOCA_2016-04-02.16th.CA_NV.nc data/extreme_pr/todo/pr_historical_HadGEM2-ES_1966.nc\n",
      "http://albers.cnr.berkeley.edu/data/scripps/loca/HadGEM2-ES/historical/pr/pr_day_HadGEM2-ES_historical_r1i1p1_19670101-19671231.LOCA_2016-04-02.16th.CA_NV.nc data/extreme_pr/todo/pr_historical_HadGEM2-ES_1967.nc\n",
      "http://albers.cnr.berkeley.edu/data/scripps/loca/HadGEM2-ES/historical/pr/pr_day_HadGEM2-ES_historical_r1i1p1_19680101-19681231.LOCA_2016-04-02.16th.CA_NV.nc data/extreme_pr/todo/pr_historical_HadGEM2-ES_1968.nc\n",
      "http://albers.cnr.berkeley.edu/data/scripps/loca/HadGEM2-ES/historical/pr/pr_day_HadGEM2-ES_historical_r1i1p1_19690101-19691231.LOCA_2016-04-02.16th.CA_NV.nc data/extreme_pr/todo/pr_historical_HadGEM2-ES_1969.nc\n",
      "http://albers.cnr.berkeley.edu/data/scripps/loca/HadGEM2-ES/historical/pr/pr_day_HadGEM2-ES_historical_r1i1p1_19700101-19701231.LOCA_2016-04-02.16th.CA_NV.nc data/extreme_pr/todo/pr_historical_HadGEM2-ES_1970.nc\n",
      "http://albers.cnr.berkeley.edu/data/scripps/loca/HadGEM2-ES/historical/pr/pr_day_HadGEM2-ES_historical_r1i1p1_19710101-19711231.LOCA_2016-04-02.16th.CA_NV.nc data/extreme_pr/todo/pr_historical_HadGEM2-ES_1971.nc\n",
      "http://albers.cnr.berkeley.edu/data/scripps/loca/HadGEM2-ES/historical/pr/pr_day_HadGEM2-ES_historical_r1i1p1_19720101-19721231.LOCA_2016-04-02.16th.CA_NV.nc data/extreme_pr/todo/pr_historical_HadGEM2-ES_1972.nc\n",
      "http://albers.cnr.berkeley.edu/data/scripps/loca/HadGEM2-ES/historical/pr/pr_day_HadGEM2-ES_historical_r1i1p1_19730101-19731231.LOCA_2016-04-02.16th.CA_NV.nc data/extreme_pr/todo/pr_historical_HadGEM2-ES_1973.nc\n",
      "http://albers.cnr.berkeley.edu/data/scripps/loca/HadGEM2-ES/historical/pr/pr_day_HadGEM2-ES_historical_r1i1p1_19740101-19741231.LOCA_2016-04-02.16th.CA_NV.nc data/extreme_pr/todo/pr_historical_HadGEM2-ES_1974.nc\n",
      "http://albers.cnr.berkeley.edu/data/scripps/loca/HadGEM2-ES/historical/pr/pr_day_HadGEM2-ES_historical_r1i1p1_19750101-19751231.LOCA_2016-04-02.16th.CA_NV.nc data/extreme_pr/todo/pr_historical_HadGEM2-ES_1975.nc\n",
      "http://albers.cnr.berkeley.edu/data/scripps/loca/HadGEM2-ES/historical/pr/pr_day_HadGEM2-ES_historical_r1i1p1_19760101-19761231.LOCA_2016-04-02.16th.CA_NV.nc data/extreme_pr/todo/pr_historical_HadGEM2-ES_1976.nc\n",
      "http://albers.cnr.berkeley.edu/data/scripps/loca/HadGEM2-ES/historical/pr/pr_day_HadGEM2-ES_historical_r1i1p1_19770101-19771231.LOCA_2016-04-02.16th.CA_NV.nc data/extreme_pr/todo/pr_historical_HadGEM2-ES_1977.nc\n",
      "http://albers.cnr.berkeley.edu/data/scripps/loca/HadGEM2-ES/historical/pr/pr_day_HadGEM2-ES_historical_r1i1p1_19780101-19781231.LOCA_2016-04-02.16th.CA_NV.nc data/extreme_pr/todo/pr_historical_HadGEM2-ES_1978.nc\n",
      "http://albers.cnr.berkeley.edu/data/scripps/loca/HadGEM2-ES/historical/pr/pr_day_HadGEM2-ES_historical_r1i1p1_19790101-19791231.LOCA_2016-04-02.16th.CA_NV.nc data/extreme_pr/todo/pr_historical_HadGEM2-ES_1979.nc\n",
      "http://albers.cnr.berkeley.edu/data/scripps/loca/HadGEM2-ES/historical/pr/pr_day_HadGEM2-ES_historical_r1i1p1_19800101-19801231.LOCA_2016-04-02.16th.CA_NV.nc data/extreme_pr/todo/pr_historical_HadGEM2-ES_1980.nc\n",
      "http://albers.cnr.berkeley.edu/data/scripps/loca/HadGEM2-ES/historical/pr/pr_day_HadGEM2-ES_historical_r1i1p1_19810101-19811231.LOCA_2016-04-02.16th.CA_NV.nc data/extreme_pr/todo/pr_historical_HadGEM2-ES_1981.nc\n",
      "http://albers.cnr.berkeley.edu/data/scripps/loca/HadGEM2-ES/historical/pr/pr_day_HadGEM2-ES_historical_r1i1p1_19820101-19821231.LOCA_2016-04-02.16th.CA_NV.nc data/extreme_pr/todo/pr_historical_HadGEM2-ES_1982.nc\n",
      "http://albers.cnr.berkeley.edu/data/scripps/loca/HadGEM2-ES/historical/pr/pr_day_HadGEM2-ES_historical_r1i1p1_19830101-19831231.LOCA_2016-04-02.16th.CA_NV.nc data/extreme_pr/todo/pr_historical_HadGEM2-ES_1983.nc\n",
      "http://albers.cnr.berkeley.edu/data/scripps/loca/HadGEM2-ES/historical/pr/pr_day_HadGEM2-ES_historical_r1i1p1_19840101-19841231.LOCA_2016-04-02.16th.CA_NV.nc data/extreme_pr/todo/pr_historical_HadGEM2-ES_1984.nc\n",
      "http://albers.cnr.berkeley.edu/data/scripps/loca/HadGEM2-ES/historical/pr/pr_day_HadGEM2-ES_historical_r1i1p1_19850101-19851231.LOCA_2016-04-02.16th.CA_NV.nc data/extreme_pr/todo/pr_historical_HadGEM2-ES_1985.nc\n",
      "http://albers.cnr.berkeley.edu/data/scripps/loca/HadGEM2-ES/historical/pr/pr_day_HadGEM2-ES_historical_r1i1p1_19860101-19861231.LOCA_2016-04-02.16th.CA_NV.nc data/extreme_pr/todo/pr_historical_HadGEM2-ES_1986.nc\n",
      "http://albers.cnr.berkeley.edu/data/scripps/loca/HadGEM2-ES/historical/pr/pr_day_HadGEM2-ES_historical_r1i1p1_19870101-19871231.LOCA_2016-04-02.16th.CA_NV.nc data/extreme_pr/todo/pr_historical_HadGEM2-ES_1987.nc\n",
      "http://albers.cnr.berkeley.edu/data/scripps/loca/HadGEM2-ES/historical/pr/pr_day_HadGEM2-ES_historical_r1i1p1_19880101-19881231.LOCA_2016-04-02.16th.CA_NV.nc data/extreme_pr/todo/pr_historical_HadGEM2-ES_1988.nc\n",
      "http://albers.cnr.berkeley.edu/data/scripps/loca/HadGEM2-ES/historical/pr/pr_day_HadGEM2-ES_historical_r1i1p1_19890101-19891231.LOCA_2016-04-02.16th.CA_NV.nc data/extreme_pr/todo/pr_historical_HadGEM2-ES_1989.nc\n",
      "http://albers.cnr.berkeley.edu/data/scripps/loca/HadGEM2-ES/historical/pr/pr_day_HadGEM2-ES_historical_r1i1p1_19900101-19901231.LOCA_2016-04-02.16th.CA_NV.nc data/extreme_pr/todo/pr_historical_HadGEM2-ES_1990.nc\n",
      "http://albers.cnr.berkeley.edu/data/scripps/loca/HadGEM2-ES/historical/pr/pr_day_HadGEM2-ES_historical_r1i1p1_19910101-19911231.LOCA_2016-04-02.16th.CA_NV.nc data/extreme_pr/todo/pr_historical_HadGEM2-ES_1991.nc\n",
      "http://albers.cnr.berkeley.edu/data/scripps/loca/HadGEM2-ES/historical/pr/pr_day_HadGEM2-ES_historical_r1i1p1_19920101-19921231.LOCA_2016-04-02.16th.CA_NV.nc data/extreme_pr/todo/pr_historical_HadGEM2-ES_1992.nc\n",
      "http://albers.cnr.berkeley.edu/data/scripps/loca/HadGEM2-ES/historical/pr/pr_day_HadGEM2-ES_historical_r1i1p1_19930101-19931231.LOCA_2016-04-02.16th.CA_NV.nc data/extreme_pr/todo/pr_historical_HadGEM2-ES_1993.nc\n",
      "http://albers.cnr.berkeley.edu/data/scripps/loca/HadGEM2-ES/historical/pr/pr_day_HadGEM2-ES_historical_r1i1p1_19940101-19941231.LOCA_2016-04-02.16th.CA_NV.nc data/extreme_pr/todo/pr_historical_HadGEM2-ES_1994.nc\n",
      "http://albers.cnr.berkeley.edu/data/scripps/loca/HadGEM2-ES/historical/pr/pr_day_HadGEM2-ES_historical_r1i1p1_19950101-19951231.LOCA_2016-04-02.16th.CA_NV.nc data/extreme_pr/todo/pr_historical_HadGEM2-ES_1995.nc\n",
      "http://albers.cnr.berkeley.edu/data/scripps/loca/HadGEM2-ES/historical/pr/pr_day_HadGEM2-ES_historical_r1i1p1_19960101-19961231.LOCA_2016-04-02.16th.CA_NV.nc data/extreme_pr/todo/pr_historical_HadGEM2-ES_1996.nc\n",
      "http://albers.cnr.berkeley.edu/data/scripps/loca/HadGEM2-ES/historical/pr/pr_day_HadGEM2-ES_historical_r1i1p1_19970101-19971231.LOCA_2016-04-02.16th.CA_NV.nc data/extreme_pr/todo/pr_historical_HadGEM2-ES_1997.nc\n",
      "http://albers.cnr.berkeley.edu/data/scripps/loca/HadGEM2-ES/historical/pr/pr_day_HadGEM2-ES_historical_r1i1p1_19980101-19981231.LOCA_2016-04-02.16th.CA_NV.nc data/extreme_pr/todo/pr_historical_HadGEM2-ES_1998.nc\n",
      "http://albers.cnr.berkeley.edu/data/scripps/loca/HadGEM2-ES/historical/pr/pr_day_HadGEM2-ES_historical_r1i1p1_19990101-19991231.LOCA_2016-04-02.16th.CA_NV.nc data/extreme_pr/todo/pr_historical_HadGEM2-ES_1999.nc\n",
      "http://albers.cnr.berkeley.edu/data/scripps/loca/HadGEM2-ES/historical/pr/pr_day_HadGEM2-ES_historical_r1i1p1_20000101-20001231.LOCA_2016-04-02.16th.CA_NV.nc data/extreme_pr/todo/pr_historical_HadGEM2-ES_2000.nc\n"
     ]
    },
    {
     "name": "stdout",
     "output_type": "stream",
     "text": [
      "http://albers.cnr.berkeley.edu/data/scripps/loca/HadGEM2-ES/historical/pr/pr_day_HadGEM2-ES_historical_r1i1p1_20010101-20011231.LOCA_2016-04-02.16th.CA_NV.nc data/extreme_pr/todo/pr_historical_HadGEM2-ES_2001.nc\n",
      "http://albers.cnr.berkeley.edu/data/scripps/loca/HadGEM2-ES/historical/pr/pr_day_HadGEM2-ES_historical_r1i1p1_20020101-20021231.LOCA_2016-04-02.16th.CA_NV.nc data/extreme_pr/todo/pr_historical_HadGEM2-ES_2002.nc\n",
      "http://albers.cnr.berkeley.edu/data/scripps/loca/HadGEM2-ES/historical/pr/pr_day_HadGEM2-ES_historical_r1i1p1_20030101-20031231.LOCA_2016-04-02.16th.CA_NV.nc data/extreme_pr/todo/pr_historical_HadGEM2-ES_2003.nc\n",
      "http://albers.cnr.berkeley.edu/data/scripps/loca/HadGEM2-ES/historical/pr/pr_day_HadGEM2-ES_historical_r1i1p1_20040101-20041231.LOCA_2016-04-02.16th.CA_NV.nc data/extreme_pr/todo/pr_historical_HadGEM2-ES_2004.nc\n",
      "http://albers.cnr.berkeley.edu/data/scripps/loca/HadGEM2-ES/historical/pr/pr_day_HadGEM2-ES_historical_r1i1p1_20050101-20051231.LOCA_2016-04-02.16th.CA_NV.nc data/extreme_pr/todo/pr_historical_HadGEM2-ES_2005.nc\n",
      "http://albers.cnr.berkeley.edu/data/scripps/loca/MIROC5/historical/pr/pr_day_MIROC5_historical_r1i1p1_19510101-19511231.LOCA_2016-04-02.16th.CA_NV.nc data/extreme_pr/todo/pr_historical_MIROC5_1951.nc\n",
      "http://albers.cnr.berkeley.edu/data/scripps/loca/MIROC5/historical/pr/pr_day_MIROC5_historical_r1i1p1_19520101-19521231.LOCA_2016-04-02.16th.CA_NV.nc data/extreme_pr/todo/pr_historical_MIROC5_1952.nc\n",
      "http://albers.cnr.berkeley.edu/data/scripps/loca/MIROC5/historical/pr/pr_day_MIROC5_historical_r1i1p1_19530101-19531231.LOCA_2016-04-02.16th.CA_NV.nc data/extreme_pr/todo/pr_historical_MIROC5_1953.nc\n",
      "http://albers.cnr.berkeley.edu/data/scripps/loca/MIROC5/historical/pr/pr_day_MIROC5_historical_r1i1p1_19540101-19541231.LOCA_2016-04-02.16th.CA_NV.nc data/extreme_pr/todo/pr_historical_MIROC5_1954.nc\n",
      "http://albers.cnr.berkeley.edu/data/scripps/loca/MIROC5/historical/pr/pr_day_MIROC5_historical_r1i1p1_19550101-19551231.LOCA_2016-04-02.16th.CA_NV.nc data/extreme_pr/todo/pr_historical_MIROC5_1955.nc\n",
      "http://albers.cnr.berkeley.edu/data/scripps/loca/MIROC5/historical/pr/pr_day_MIROC5_historical_r1i1p1_19560101-19561231.LOCA_2016-04-02.16th.CA_NV.nc data/extreme_pr/todo/pr_historical_MIROC5_1956.nc\n",
      "http://albers.cnr.berkeley.edu/data/scripps/loca/MIROC5/historical/pr/pr_day_MIROC5_historical_r1i1p1_19570101-19571231.LOCA_2016-04-02.16th.CA_NV.nc data/extreme_pr/todo/pr_historical_MIROC5_1957.nc\n",
      "http://albers.cnr.berkeley.edu/data/scripps/loca/MIROC5/historical/pr/pr_day_MIROC5_historical_r1i1p1_19580101-19581231.LOCA_2016-04-02.16th.CA_NV.nc data/extreme_pr/todo/pr_historical_MIROC5_1958.nc\n",
      "http://albers.cnr.berkeley.edu/data/scripps/loca/MIROC5/historical/pr/pr_day_MIROC5_historical_r1i1p1_19590101-19591231.LOCA_2016-04-02.16th.CA_NV.nc data/extreme_pr/todo/pr_historical_MIROC5_1959.nc\n",
      "http://albers.cnr.berkeley.edu/data/scripps/loca/MIROC5/historical/pr/pr_day_MIROC5_historical_r1i1p1_19600101-19601231.LOCA_2016-04-02.16th.CA_NV.nc data/extreme_pr/todo/pr_historical_MIROC5_1960.nc\n",
      "http://albers.cnr.berkeley.edu/data/scripps/loca/MIROC5/historical/pr/pr_day_MIROC5_historical_r1i1p1_19610101-19611231.LOCA_2016-04-02.16th.CA_NV.nc data/extreme_pr/todo/pr_historical_MIROC5_1961.nc\n",
      "http://albers.cnr.berkeley.edu/data/scripps/loca/MIROC5/historical/pr/pr_day_MIROC5_historical_r1i1p1_19620101-19621231.LOCA_2016-04-02.16th.CA_NV.nc data/extreme_pr/todo/pr_historical_MIROC5_1962.nc\n",
      "http://albers.cnr.berkeley.edu/data/scripps/loca/MIROC5/historical/pr/pr_day_MIROC5_historical_r1i1p1_19630101-19631231.LOCA_2016-04-02.16th.CA_NV.nc data/extreme_pr/todo/pr_historical_MIROC5_1963.nc\n",
      "http://albers.cnr.berkeley.edu/data/scripps/loca/MIROC5/historical/pr/pr_day_MIROC5_historical_r1i1p1_19640101-19641231.LOCA_2016-04-02.16th.CA_NV.nc data/extreme_pr/todo/pr_historical_MIROC5_1964.nc\n",
      "http://albers.cnr.berkeley.edu/data/scripps/loca/MIROC5/historical/pr/pr_day_MIROC5_historical_r1i1p1_19650101-19651231.LOCA_2016-04-02.16th.CA_NV.nc data/extreme_pr/todo/pr_historical_MIROC5_1965.nc\n",
      "http://albers.cnr.berkeley.edu/data/scripps/loca/MIROC5/historical/pr/pr_day_MIROC5_historical_r1i1p1_19660101-19661231.LOCA_2016-04-02.16th.CA_NV.nc data/extreme_pr/todo/pr_historical_MIROC5_1966.nc\n",
      "http://albers.cnr.berkeley.edu/data/scripps/loca/MIROC5/historical/pr/pr_day_MIROC5_historical_r1i1p1_19670101-19671231.LOCA_2016-04-02.16th.CA_NV.nc data/extreme_pr/todo/pr_historical_MIROC5_1967.nc\n",
      "http://albers.cnr.berkeley.edu/data/scripps/loca/MIROC5/historical/pr/pr_day_MIROC5_historical_r1i1p1_19680101-19681231.LOCA_2016-04-02.16th.CA_NV.nc data/extreme_pr/todo/pr_historical_MIROC5_1968.nc\n",
      "http://albers.cnr.berkeley.edu/data/scripps/loca/MIROC5/historical/pr/pr_day_MIROC5_historical_r1i1p1_19690101-19691231.LOCA_2016-04-02.16th.CA_NV.nc data/extreme_pr/todo/pr_historical_MIROC5_1969.nc\n",
      "http://albers.cnr.berkeley.edu/data/scripps/loca/MIROC5/historical/pr/pr_day_MIROC5_historical_r1i1p1_19700101-19701231.LOCA_2016-04-02.16th.CA_NV.nc data/extreme_pr/todo/pr_historical_MIROC5_1970.nc\n",
      "http://albers.cnr.berkeley.edu/data/scripps/loca/MIROC5/historical/pr/pr_day_MIROC5_historical_r1i1p1_19710101-19711231.LOCA_2016-04-02.16th.CA_NV.nc data/extreme_pr/todo/pr_historical_MIROC5_1971.nc\n",
      "http://albers.cnr.berkeley.edu/data/scripps/loca/MIROC5/historical/pr/pr_day_MIROC5_historical_r1i1p1_19720101-19721231.LOCA_2016-04-02.16th.CA_NV.nc data/extreme_pr/todo/pr_historical_MIROC5_1972.nc\n",
      "http://albers.cnr.berkeley.edu/data/scripps/loca/MIROC5/historical/pr/pr_day_MIROC5_historical_r1i1p1_19730101-19731231.LOCA_2016-04-02.16th.CA_NV.nc data/extreme_pr/todo/pr_historical_MIROC5_1973.nc\n",
      "http://albers.cnr.berkeley.edu/data/scripps/loca/MIROC5/historical/pr/pr_day_MIROC5_historical_r1i1p1_19740101-19741231.LOCA_2016-04-02.16th.CA_NV.nc data/extreme_pr/todo/pr_historical_MIROC5_1974.nc\n",
      "http://albers.cnr.berkeley.edu/data/scripps/loca/MIROC5/historical/pr/pr_day_MIROC5_historical_r1i1p1_19750101-19751231.LOCA_2016-04-02.16th.CA_NV.nc data/extreme_pr/todo/pr_historical_MIROC5_1975.nc\n",
      "http://albers.cnr.berkeley.edu/data/scripps/loca/MIROC5/historical/pr/pr_day_MIROC5_historical_r1i1p1_19760101-19761231.LOCA_2016-04-02.16th.CA_NV.nc data/extreme_pr/todo/pr_historical_MIROC5_1976.nc\n",
      "http://albers.cnr.berkeley.edu/data/scripps/loca/MIROC5/historical/pr/pr_day_MIROC5_historical_r1i1p1_19770101-19771231.LOCA_2016-04-02.16th.CA_NV.nc data/extreme_pr/todo/pr_historical_MIROC5_1977.nc\n",
      "http://albers.cnr.berkeley.edu/data/scripps/loca/MIROC5/historical/pr/pr_day_MIROC5_historical_r1i1p1_19780101-19781231.LOCA_2016-04-02.16th.CA_NV.nc data/extreme_pr/todo/pr_historical_MIROC5_1978.nc\n",
      "http://albers.cnr.berkeley.edu/data/scripps/loca/MIROC5/historical/pr/pr_day_MIROC5_historical_r1i1p1_19790101-19791231.LOCA_2016-04-02.16th.CA_NV.nc data/extreme_pr/todo/pr_historical_MIROC5_1979.nc\n",
      "http://albers.cnr.berkeley.edu/data/scripps/loca/MIROC5/historical/pr/pr_day_MIROC5_historical_r1i1p1_19800101-19801231.LOCA_2016-04-02.16th.CA_NV.nc data/extreme_pr/todo/pr_historical_MIROC5_1980.nc\n",
      "http://albers.cnr.berkeley.edu/data/scripps/loca/MIROC5/historical/pr/pr_day_MIROC5_historical_r1i1p1_19810101-19811231.LOCA_2016-04-02.16th.CA_NV.nc data/extreme_pr/todo/pr_historical_MIROC5_1981.nc\n",
      "http://albers.cnr.berkeley.edu/data/scripps/loca/MIROC5/historical/pr/pr_day_MIROC5_historical_r1i1p1_19820101-19821231.LOCA_2016-04-02.16th.CA_NV.nc data/extreme_pr/todo/pr_historical_MIROC5_1982.nc\n",
      "http://albers.cnr.berkeley.edu/data/scripps/loca/MIROC5/historical/pr/pr_day_MIROC5_historical_r1i1p1_19830101-19831231.LOCA_2016-04-02.16th.CA_NV.nc data/extreme_pr/todo/pr_historical_MIROC5_1983.nc\n",
      "http://albers.cnr.berkeley.edu/data/scripps/loca/MIROC5/historical/pr/pr_day_MIROC5_historical_r1i1p1_19840101-19841231.LOCA_2016-04-02.16th.CA_NV.nc data/extreme_pr/todo/pr_historical_MIROC5_1984.nc\n",
      "http://albers.cnr.berkeley.edu/data/scripps/loca/MIROC5/historical/pr/pr_day_MIROC5_historical_r1i1p1_19850101-19851231.LOCA_2016-04-02.16th.CA_NV.nc data/extreme_pr/todo/pr_historical_MIROC5_1985.nc\n",
      "http://albers.cnr.berkeley.edu/data/scripps/loca/MIROC5/historical/pr/pr_day_MIROC5_historical_r1i1p1_19860101-19861231.LOCA_2016-04-02.16th.CA_NV.nc data/extreme_pr/todo/pr_historical_MIROC5_1986.nc\n"
     ]
    },
    {
     "name": "stdout",
     "output_type": "stream",
     "text": [
      "http://albers.cnr.berkeley.edu/data/scripps/loca/MIROC5/historical/pr/pr_day_MIROC5_historical_r1i1p1_19870101-19871231.LOCA_2016-04-02.16th.CA_NV.nc data/extreme_pr/todo/pr_historical_MIROC5_1987.nc\n",
      "http://albers.cnr.berkeley.edu/data/scripps/loca/MIROC5/historical/pr/pr_day_MIROC5_historical_r1i1p1_19880101-19881231.LOCA_2016-04-02.16th.CA_NV.nc data/extreme_pr/todo/pr_historical_MIROC5_1988.nc\n",
      "http://albers.cnr.berkeley.edu/data/scripps/loca/MIROC5/historical/pr/pr_day_MIROC5_historical_r1i1p1_19890101-19891231.LOCA_2016-04-02.16th.CA_NV.nc data/extreme_pr/todo/pr_historical_MIROC5_1989.nc\n",
      "http://albers.cnr.berkeley.edu/data/scripps/loca/MIROC5/historical/pr/pr_day_MIROC5_historical_r1i1p1_19900101-19901231.LOCA_2016-04-02.16th.CA_NV.nc data/extreme_pr/todo/pr_historical_MIROC5_1990.nc\n",
      "http://albers.cnr.berkeley.edu/data/scripps/loca/MIROC5/historical/pr/pr_day_MIROC5_historical_r1i1p1_19910101-19911231.LOCA_2016-04-02.16th.CA_NV.nc data/extreme_pr/todo/pr_historical_MIROC5_1991.nc\n",
      "http://albers.cnr.berkeley.edu/data/scripps/loca/MIROC5/historical/pr/pr_day_MIROC5_historical_r1i1p1_19920101-19921231.LOCA_2016-04-02.16th.CA_NV.nc data/extreme_pr/todo/pr_historical_MIROC5_1992.nc\n",
      "http://albers.cnr.berkeley.edu/data/scripps/loca/MIROC5/historical/pr/pr_day_MIROC5_historical_r1i1p1_19930101-19931231.LOCA_2016-04-02.16th.CA_NV.nc data/extreme_pr/todo/pr_historical_MIROC5_1993.nc\n",
      "http://albers.cnr.berkeley.edu/data/scripps/loca/MIROC5/historical/pr/pr_day_MIROC5_historical_r1i1p1_19940101-19941231.LOCA_2016-04-02.16th.CA_NV.nc data/extreme_pr/todo/pr_historical_MIROC5_1994.nc\n",
      "http://albers.cnr.berkeley.edu/data/scripps/loca/MIROC5/historical/pr/pr_day_MIROC5_historical_r1i1p1_19950101-19951231.LOCA_2016-04-02.16th.CA_NV.nc data/extreme_pr/todo/pr_historical_MIROC5_1995.nc\n",
      "http://albers.cnr.berkeley.edu/data/scripps/loca/MIROC5/historical/pr/pr_day_MIROC5_historical_r1i1p1_19960101-19961231.LOCA_2016-04-02.16th.CA_NV.nc data/extreme_pr/todo/pr_historical_MIROC5_1996.nc\n",
      "http://albers.cnr.berkeley.edu/data/scripps/loca/MIROC5/historical/pr/pr_day_MIROC5_historical_r1i1p1_19970101-19971231.LOCA_2016-04-02.16th.CA_NV.nc data/extreme_pr/todo/pr_historical_MIROC5_1997.nc\n",
      "http://albers.cnr.berkeley.edu/data/scripps/loca/MIROC5/historical/pr/pr_day_MIROC5_historical_r1i1p1_19980101-19981231.LOCA_2016-04-02.16th.CA_NV.nc data/extreme_pr/todo/pr_historical_MIROC5_1998.nc\n",
      "http://albers.cnr.berkeley.edu/data/scripps/loca/MIROC5/historical/pr/pr_day_MIROC5_historical_r1i1p1_19990101-19991231.LOCA_2016-04-02.16th.CA_NV.nc data/extreme_pr/todo/pr_historical_MIROC5_1999.nc\n",
      "http://albers.cnr.berkeley.edu/data/scripps/loca/MIROC5/historical/pr/pr_day_MIROC5_historical_r1i1p1_20000101-20001231.LOCA_2016-04-02.16th.CA_NV.nc data/extreme_pr/todo/pr_historical_MIROC5_2000.nc\n",
      "http://albers.cnr.berkeley.edu/data/scripps/loca/MIROC5/historical/pr/pr_day_MIROC5_historical_r1i1p1_20010101-20011231.LOCA_2016-04-02.16th.CA_NV.nc data/extreme_pr/todo/pr_historical_MIROC5_2001.nc\n",
      "http://albers.cnr.berkeley.edu/data/scripps/loca/MIROC5/historical/pr/pr_day_MIROC5_historical_r1i1p1_20020101-20021231.LOCA_2016-04-02.16th.CA_NV.nc data/extreme_pr/todo/pr_historical_MIROC5_2002.nc\n",
      "http://albers.cnr.berkeley.edu/data/scripps/loca/MIROC5/historical/pr/pr_day_MIROC5_historical_r1i1p1_20030101-20031231.LOCA_2016-04-02.16th.CA_NV.nc data/extreme_pr/todo/pr_historical_MIROC5_2003.nc\n",
      "http://albers.cnr.berkeley.edu/data/scripps/loca/MIROC5/historical/pr/pr_day_MIROC5_historical_r1i1p1_20040101-20041231.LOCA_2016-04-02.16th.CA_NV.nc data/extreme_pr/todo/pr_historical_MIROC5_2004.nc\n",
      "http://albers.cnr.berkeley.edu/data/scripps/loca/MIROC5/historical/pr/pr_day_MIROC5_historical_r1i1p1_20050101-20051231.LOCA_2016-04-02.16th.CA_NV.nc data/extreme_pr/todo/pr_historical_MIROC5_2005.nc\n"
     ]
    }
   ],
   "source": [
    "for model in models4:\n",
    "    for year in np.arange(1951, 2006):\n",
    "        download_nc('pr', 'historical', model, year)"
   ]
  },
  {
   "cell_type": "markdown",
   "metadata": {},
   "source": [
    "### Download Livneh NetCDF files"
   ]
  },
  {
   "cell_type": "code",
   "execution_count": 23,
   "metadata": {},
   "outputs": [],
   "source": [
    "def download_livneh_nc(year, month):\n",
    "    url = 'http://albers.cnr.berkeley.edu/data/noaa/livneh/CA_NV/'\n",
    "    file_list = listFD(url, ext)\n",
    "    for file in file_list:\n",
    "        year = str(year)\n",
    "        month = str(month).zfill(2) \n",
    "        name = '{}{}.nc'.format(year, month)\n",
    "        if name in file:\n",
    "            out_file = 'data/livneh/livneh_{}_{}.nc' .format(year, month)\n",
    "            print(file, out_file)\n",
    "            urllib.request.urlretrieve(file, out_file)"
   ]
  },
  {
   "cell_type": "code",
   "execution_count": null,
   "metadata": {
    "scrolled": true
   },
   "outputs": [],
   "source": [
    "for year in np.arange(1950, 2007):\n",
    "    for month in np.arange(1, 13):\n",
    "        download_livneh_nc(year, month)"
   ]
  }
 ],
 "metadata": {
  "kernelspec": {
   "display_name": "Python 3",
   "language": "python",
   "name": "python3"
  },
  "language_info": {
   "codemirror_mode": {
    "name": "ipython",
    "version": 3
   },
   "file_extension": ".py",
   "mimetype": "text/x-python",
   "name": "python",
   "nbconvert_exporter": "python",
   "pygments_lexer": "ipython3",
   "version": "3.6.4"
  }
 },
 "nbformat": 4,
 "nbformat_minor": 2
}
