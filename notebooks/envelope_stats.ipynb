{
 "cells": [
  {
   "cell_type": "markdown",
   "metadata": {},
   "source": [
    "# Altair demo"
   ]
  },
  {
   "cell_type": "code",
   "execution_count": 2,
   "metadata": {},
   "outputs": [],
   "source": [
    "import altair as alt\n",
    "from vega_datasets import data\n",
    "import pandas as pd"
   ]
  },
  {
   "cell_type": "code",
   "execution_count": 64,
   "metadata": {},
   "outputs": [],
   "source": [
    "rcp85_max = pd.read_json('https://api.cal-adapt.org/api/series/tasmax_year_models-max_rcp85/events/?g=POINT(-123.15+40.84)&imperial=true')\n",
    "rcp85_min = pd.read_json('https://api.cal-adapt.org/api/series/tasmax_year_models-min_rcp85/events/?g=POINT(-123.15+40.84)&imperial=true')\n",
    "rcp85_max['date'] = pd.to_datetime(rcp85_max['index'], format='%Y-%m-%d')\n",
    "rcp85_min['date'] = pd.to_datetime(rcp85_min['index'], format='%Y-%m-%d')\n",
    "rcp85 = pd.concat([rcp85_max, rcp85_min])"
   ]
  },
  {
   "cell_type": "code",
   "execution_count": 65,
   "metadata": {},
   "outputs": [],
   "source": [
    "historical = pd.read_json('https://api.cal-adapt.org/api/series/tasmax_year_livneh/events/?g=POINT(-123.15+40.84)&imperial=true')\n",
    "historical['date'] = pd.to_datetime(historical['index'], format='%Y-%m-%d')"
   ]
  },
  {
   "cell_type": "code",
   "execution_count": 66,
   "metadata": {},
   "outputs": [],
   "source": [
    "timeseries = pd.concat([historical, rcp85])"
   ]
  },
  {
   "cell_type": "code",
   "execution_count": 67,
   "metadata": {},
   "outputs": [
    {
     "data": {
      "text/html": [
       "\n",
       "<div id=\"altair-viz-d755701b5a964c30af7d2796963cbc59\"></div>\n",
       "<script type=\"text/javascript\">\n",
       "  (function(spec, embedOpt){\n",
       "    const outputDiv = document.getElementById(\"altair-viz-d755701b5a964c30af7d2796963cbc59\");\n",
       "    const paths = {\n",
       "      \"vega\": \"https://cdn.jsdelivr.net/npm//vega@5?noext\",\n",
       "      \"vega-lib\": \"https://cdn.jsdelivr.net/npm//vega-lib?noext\",\n",
       "      \"vega-lite\": \"https://cdn.jsdelivr.net/npm//vega-lite@4.0.2?noext\",\n",
       "      \"vega-embed\": \"https://cdn.jsdelivr.net/npm//vega-embed@6?noext\",\n",
       "    };\n",
       "\n",
       "    function loadScript(lib) {\n",
       "      return new Promise(function(resolve, reject) {\n",
       "        var s = document.createElement('script');\n",
       "        s.src = paths[lib];\n",
       "        s.async = true;\n",
       "        s.onload = () => resolve(paths[lib]);\n",
       "        s.onerror = () => reject(`Error loading script: ${paths[lib]}`);\n",
       "        document.getElementsByTagName(\"head\")[0].appendChild(s);\n",
       "      });\n",
       "    }\n",
       "\n",
       "    function showError(err) {\n",
       "      outputDiv.innerHTML = `<div class=\"error\" style=\"color:red;\">${err}</div>`;\n",
       "      throw err;\n",
       "    }\n",
       "\n",
       "    function displayChart(vegaEmbed) {\n",
       "      vegaEmbed(outputDiv, spec, embedOpt)\n",
       "        .catch(err => showError(`Javascript Error: ${err.message}<br>This usually means there's a typo in your chart specification. See the javascript console for the full traceback.`));\n",
       "    }\n",
       "\n",
       "    if(typeof define === \"function\" && define.amd) {\n",
       "      requirejs.config({paths});\n",
       "      require([\"vega-embed\"], displayChart, err => showError(`Error loading script: ${err.message}`));\n",
       "    } else if (typeof vegaEmbed === \"function\") {\n",
       "      displayChart(vegaEmbed);\n",
       "    } else {\n",
       "      loadScript(\"vega\")\n",
       "        .then(() => loadScript(\"vega-lite\"))\n",
       "        .then(() => loadScript(\"vega-embed\"))\n",
       "        .catch(showError)\n",
       "        .then(() => displayChart(vegaEmbed));\n",
       "    }\n",
       "  })({\"config\": {\"view\": {\"continuousWidth\": 400, \"continuousHeight\": 300}}, \"data\": {\"name\": \"data-788d611741ef4d541c3820965915e1b9\"}, \"mark\": \"line\", \"encoding\": {\"color\": {\"type\": \"nominal\", \"field\": \"name\"}, \"x\": {\"type\": \"temporal\", \"field\": \"date\"}, \"y\": {\"type\": \"quantitative\", \"field\": \"data\"}}, \"$schema\": \"https://vega.github.io/schema/vega-lite/v4.0.2.json\", \"datasets\": {\"data-788d611741ef4d541c3820965915e1b9\": [{\"name\": \"tasmax_year_livneh\", \"index\": \"1950-12-31T00:00:00Z\", \"data\": 65.5728149414, \"date\": \"1950-12-31T00:00:00+00:00\"}, {\"name\": \"tasmax_year_livneh\", \"index\": \"1951-12-31T00:00:00Z\", \"data\": 66.968132019, \"date\": \"1951-12-31T00:00:00+00:00\"}, {\"name\": \"tasmax_year_livneh\", \"index\": \"1952-12-31T00:00:00Z\", \"data\": 66.2180938721, \"date\": \"1952-12-31T00:00:00+00:00\"}, {\"name\": \"tasmax_year_livneh\", \"index\": \"1953-12-31T00:00:00Z\", \"data\": 65.5533294678, \"date\": \"1953-12-31T00:00:00+00:00\"}, {\"name\": \"tasmax_year_livneh\", \"index\": \"1954-12-31T00:00:00Z\", \"data\": 66.1478729248, \"date\": \"1954-12-31T00:00:00+00:00\"}, {\"name\": \"tasmax_year_livneh\", \"index\": \"1955-12-31T00:00:00Z\", \"data\": 65.8129272461, \"date\": \"1955-12-31T00:00:00+00:00\"}, {\"name\": \"tasmax_year_livneh\", \"index\": \"1956-12-31T00:00:00Z\", \"data\": 66.0045547485, \"date\": \"1956-12-31T00:00:00+00:00\"}, {\"name\": \"tasmax_year_livneh\", \"index\": \"1957-12-31T00:00:00Z\", \"data\": 64.7871704102, \"date\": \"1957-12-31T00:00:00+00:00\"}, {\"name\": \"tasmax_year_livneh\", \"index\": \"1958-12-31T00:00:00Z\", \"data\": 67.7767028809, \"date\": \"1958-12-31T00:00:00+00:00\"}, {\"name\": \"tasmax_year_livneh\", \"index\": \"1959-12-31T00:00:00Z\", \"data\": 68.2339935303, \"date\": \"1959-12-31T00:00:00+00:00\"}, {\"name\": \"tasmax_year_livneh\", \"index\": \"1960-12-31T00:00:00Z\", \"data\": 67.4353637695, \"date\": \"1960-12-31T00:00:00+00:00\"}, {\"name\": \"tasmax_year_livneh\", \"index\": \"1961-12-31T00:00:00Z\", \"data\": 66.8535766602, \"date\": \"1961-12-31T00:00:00+00:00\"}, {\"name\": \"tasmax_year_livneh\", \"index\": \"1962-12-31T00:00:00Z\", \"data\": 66.3586425781, \"date\": \"1962-12-31T00:00:00+00:00\"}, {\"name\": \"tasmax_year_livneh\", \"index\": \"1963-12-31T00:00:00Z\", \"data\": 64.5133209229, \"date\": \"1963-12-31T00:00:00+00:00\"}, {\"name\": \"tasmax_year_livneh\", \"index\": \"1964-12-31T00:00:00Z\", \"data\": 65.7273788452, \"date\": \"1964-12-31T00:00:00+00:00\"}, {\"name\": \"tasmax_year_livneh\", \"index\": \"1965-12-31T00:00:00Z\", \"data\": 65.6594543457, \"date\": \"1965-12-31T00:00:00+00:00\"}, {\"name\": \"tasmax_year_livneh\", \"index\": \"1966-12-31T00:00:00Z\", \"data\": 66.284576416, \"date\": \"1966-12-31T00:00:00+00:00\"}, {\"name\": \"tasmax_year_livneh\", \"index\": \"1967-12-31T00:00:00Z\", \"data\": 65.4833984375, \"date\": \"1967-12-31T00:00:00+00:00\"}, {\"name\": \"tasmax_year_livneh\", \"index\": \"1968-12-31T00:00:00Z\", \"data\": 64.6951293945, \"date\": \"1968-12-31T00:00:00+00:00\"}, {\"name\": \"tasmax_year_livneh\", \"index\": \"1969-12-31T00:00:00Z\", \"data\": 65.0887832642, \"date\": \"1969-12-31T00:00:00+00:00\"}, {\"name\": \"tasmax_year_livneh\", \"index\": \"1970-12-31T00:00:00Z\", \"data\": 66.06640625, \"date\": \"1970-12-31T00:00:00+00:00\"}, {\"name\": \"tasmax_year_livneh\", \"index\": \"1971-12-31T00:00:00Z\", \"data\": 62.5763778687, \"date\": \"1971-12-31T00:00:00+00:00\"}, {\"name\": \"tasmax_year_livneh\", \"index\": \"1972-12-31T00:00:00Z\", \"data\": 64.2292480469, \"date\": \"1972-12-31T00:00:00+00:00\"}, {\"name\": \"tasmax_year_livneh\", \"index\": \"1973-12-31T00:00:00Z\", \"data\": 65.1072692871, \"date\": \"1973-12-31T00:00:00+00:00\"}, {\"name\": \"tasmax_year_livneh\", \"index\": \"1974-12-31T00:00:00Z\", \"data\": 66.6508331299, \"date\": \"1974-12-31T00:00:00+00:00\"}, {\"name\": \"tasmax_year_livneh\", \"index\": \"1975-12-31T00:00:00Z\", \"data\": 63.582649231, \"date\": \"1975-12-31T00:00:00+00:00\"}, {\"name\": \"tasmax_year_livneh\", \"index\": \"1976-12-31T00:00:00Z\", \"data\": 66.0871276855, \"date\": \"1976-12-31T00:00:00+00:00\"}, {\"name\": \"tasmax_year_livneh\", \"index\": \"1977-12-31T00:00:00Z\", \"data\": 65.9055328369, \"date\": \"1977-12-31T00:00:00+00:00\"}, {\"name\": \"tasmax_year_livneh\", \"index\": \"1978-12-31T00:00:00Z\", \"data\": 65.6574859619, \"date\": \"1978-12-31T00:00:00+00:00\"}, {\"name\": \"tasmax_year_livneh\", \"index\": \"1979-12-31T00:00:00Z\", \"data\": 65.5069274902, \"date\": \"1979-12-31T00:00:00+00:00\"}, {\"name\": \"tasmax_year_livneh\", \"index\": \"1980-12-31T00:00:00Z\", \"data\": 66.1659164429, \"date\": \"1980-12-31T00:00:00+00:00\"}, {\"name\": \"tasmax_year_livneh\", \"index\": \"1981-12-31T00:00:00Z\", \"data\": 67.271812439, \"date\": \"1981-12-31T00:00:00+00:00\"}, {\"name\": \"tasmax_year_livneh\", \"index\": \"1982-12-31T00:00:00Z\", \"data\": 64.8583831787, \"date\": \"1982-12-31T00:00:00+00:00\"}, {\"name\": \"tasmax_year_livneh\", \"index\": \"1983-12-31T00:00:00Z\", \"data\": 63.7932739258, \"date\": \"1983-12-31T00:00:00+00:00\"}, {\"name\": \"tasmax_year_livneh\", \"index\": \"1984-12-31T00:00:00Z\", \"data\": 65.4266891479, \"date\": \"1984-12-31T00:00:00+00:00\"}, {\"name\": \"tasmax_year_livneh\", \"index\": \"1985-12-31T00:00:00Z\", \"data\": 67.1932983398, \"date\": \"1985-12-31T00:00:00+00:00\"}, {\"name\": \"tasmax_year_livneh\", \"index\": \"1986-12-31T00:00:00Z\", \"data\": 68.0109939575, \"date\": \"1986-12-31T00:00:00+00:00\"}, {\"name\": \"tasmax_year_livneh\", \"index\": \"1987-12-31T00:00:00Z\", \"data\": 68.8550720215, \"date\": \"1987-12-31T00:00:00+00:00\"}, {\"name\": \"tasmax_year_livneh\", \"index\": \"1988-12-31T00:00:00Z\", \"data\": 68.710647583, \"date\": \"1988-12-31T00:00:00+00:00\"}, {\"name\": \"tasmax_year_livneh\", \"index\": \"1989-12-31T00:00:00Z\", \"data\": 67.2563323975, \"date\": \"1989-12-31T00:00:00+00:00\"}, {\"name\": \"tasmax_year_livneh\", \"index\": \"1990-12-31T00:00:00Z\", \"data\": 67.7796096802, \"date\": \"1990-12-31T00:00:00+00:00\"}, {\"name\": \"tasmax_year_livneh\", \"index\": \"1991-12-31T00:00:00Z\", \"data\": 69.4234313965, \"date\": \"1991-12-31T00:00:00+00:00\"}, {\"name\": \"tasmax_year_livneh\", \"index\": \"1992-12-31T00:00:00Z\", \"data\": 70.0002593994, \"date\": \"1992-12-31T00:00:00+00:00\"}, {\"name\": \"tasmax_year_livneh\", \"index\": \"1993-12-31T00:00:00Z\", \"data\": 66.3991317749, \"date\": \"1993-12-31T00:00:00+00:00\"}, {\"name\": \"tasmax_year_livneh\", \"index\": \"1994-12-31T00:00:00Z\", \"data\": 67.6982879639, \"date\": \"1994-12-31T00:00:00+00:00\"}, {\"name\": \"tasmax_year_livneh\", \"index\": \"1995-12-31T00:00:00Z\", \"data\": 67.6784210205, \"date\": \"1995-12-31T00:00:00+00:00\"}, {\"name\": \"tasmax_year_livneh\", \"index\": \"1996-12-31T00:00:00Z\", \"data\": 67.7874450684, \"date\": \"1996-12-31T00:00:00+00:00\"}, {\"name\": \"tasmax_year_livneh\", \"index\": \"1997-12-31T00:00:00Z\", \"data\": 66.5176849365, \"date\": \"1997-12-31T00:00:00+00:00\"}, {\"name\": \"tasmax_year_livneh\", \"index\": \"1998-12-31T00:00:00Z\", \"data\": 64.299987793, \"date\": \"1998-12-31T00:00:00+00:00\"}, {\"name\": \"tasmax_year_livneh\", \"index\": \"1999-12-31T00:00:00Z\", \"data\": 65.9127883911, \"date\": \"1999-12-31T00:00:00+00:00\"}, {\"name\": \"tasmax_year_livneh\", \"index\": \"2000-12-31T00:00:00Z\", \"data\": 66.2319641113, \"date\": \"2000-12-31T00:00:00+00:00\"}, {\"name\": \"tasmax_year_livneh\", \"index\": \"2001-12-31T00:00:00Z\", \"data\": 67.5203094482, \"date\": \"2001-12-31T00:00:00+00:00\"}, {\"name\": \"tasmax_year_livneh\", \"index\": \"2002-12-31T00:00:00Z\", \"data\": 68.7963409424, \"date\": \"2002-12-31T00:00:00+00:00\"}, {\"name\": \"tasmax_year_livneh\", \"index\": \"2003-12-31T00:00:00Z\", \"data\": 67.0156707764, \"date\": \"2003-12-31T00:00:00+00:00\"}, {\"name\": \"tasmax_year_livneh\", \"index\": \"2004-12-31T00:00:00Z\", \"data\": 66.9080505371, \"date\": \"2004-12-31T00:00:00+00:00\"}, {\"name\": \"tasmax_year_livneh\", \"index\": \"2005-12-31T00:00:00Z\", \"data\": 64.6392211914, \"date\": \"2005-12-31T00:00:00+00:00\"}, {\"name\": \"tasmax_year_livneh\", \"index\": \"2006-12-31T00:00:00Z\", \"data\": 64.9158782959, \"date\": \"2006-12-31T00:00:00+00:00\"}, {\"name\": \"tasmax_year_livneh\", \"index\": \"2007-12-31T00:00:00Z\", \"data\": 65.3988800049, \"date\": \"2007-12-31T00:00:00+00:00\"}, {\"name\": \"tasmax_year_livneh\", \"index\": \"2008-12-31T00:00:00Z\", \"data\": 64.9690170288, \"date\": \"2008-12-31T00:00:00+00:00\"}, {\"name\": \"tasmax_year_livneh\", \"index\": \"2009-12-31T00:00:00Z\", \"data\": 66.0673904419, \"date\": \"2009-12-31T00:00:00+00:00\"}, {\"name\": \"tasmax_year_livneh\", \"index\": \"2010-12-31T00:00:00Z\", \"data\": 63.9560165405, \"date\": \"2010-12-31T00:00:00+00:00\"}, {\"name\": \"tasmax_year_livneh\", \"index\": \"2011-12-31T00:00:00Z\", \"data\": 63.7518005371, \"date\": \"2011-12-31T00:00:00+00:00\"}, {\"name\": \"tasmax_year_livneh\", \"index\": \"2012-12-31T00:00:00Z\", \"data\": 65.9962463379, \"date\": \"2012-12-31T00:00:00+00:00\"}, {\"name\": \"tasmax_year_livneh\", \"index\": \"2013-12-31T00:00:00Z\", \"data\": 67.1540985107, \"date\": \"2013-12-31T00:00:00+00:00\"}, {\"name\": \"tasmax_year_models-max_rcp85\", \"index\": \"2006-12-31T00:00:00Z\", \"data\": 70.6528625488, \"date\": \"2006-12-31T00:00:00+00:00\"}, {\"name\": \"tasmax_year_models-max_rcp85\", \"index\": \"2007-12-31T00:00:00Z\", \"data\": 70.5973358154, \"date\": \"2007-12-31T00:00:00+00:00\"}, {\"name\": \"tasmax_year_models-max_rcp85\", \"index\": \"2008-12-31T00:00:00Z\", \"data\": 69.9933624268, \"date\": \"2008-12-31T00:00:00+00:00\"}, {\"name\": \"tasmax_year_models-max_rcp85\", \"index\": \"2009-12-31T00:00:00Z\", \"data\": 69.9275512695, \"date\": \"2009-12-31T00:00:00+00:00\"}, {\"name\": \"tasmax_year_models-max_rcp85\", \"index\": \"2010-12-31T00:00:00Z\", \"data\": 70.0964660645, \"date\": \"2010-12-31T00:00:00+00:00\"}, {\"name\": \"tasmax_year_models-max_rcp85\", \"index\": \"2011-12-31T00:00:00Z\", \"data\": 69.6208114624, \"date\": \"2011-12-31T00:00:00+00:00\"}, {\"name\": \"tasmax_year_models-max_rcp85\", \"index\": \"2012-12-31T00:00:00Z\", \"data\": 71.0679855347, \"date\": \"2012-12-31T00:00:00+00:00\"}, {\"name\": \"tasmax_year_models-max_rcp85\", \"index\": \"2013-12-31T00:00:00Z\", \"data\": 70.8329925537, \"date\": \"2013-12-31T00:00:00+00:00\"}, {\"name\": \"tasmax_year_models-max_rcp85\", \"index\": \"2014-12-31T00:00:00Z\", \"data\": 70.5257568359, \"date\": \"2014-12-31T00:00:00+00:00\"}, {\"name\": \"tasmax_year_models-max_rcp85\", \"index\": \"2015-12-31T00:00:00Z\", \"data\": 71.2805175781, \"date\": \"2015-12-31T00:00:00+00:00\"}, {\"name\": \"tasmax_year_models-max_rcp85\", \"index\": \"2016-12-31T00:00:00Z\", \"data\": 71.1165466309, \"date\": \"2016-12-31T00:00:00+00:00\"}, {\"name\": \"tasmax_year_models-max_rcp85\", \"index\": \"2017-12-31T00:00:00Z\", \"data\": 71.2045440674, \"date\": \"2017-12-31T00:00:00+00:00\"}, {\"name\": \"tasmax_year_models-max_rcp85\", \"index\": \"2018-12-31T00:00:00Z\", \"data\": 71.7426605225, \"date\": \"2018-12-31T00:00:00+00:00\"}, {\"name\": \"tasmax_year_models-max_rcp85\", \"index\": \"2019-12-31T00:00:00Z\", \"data\": 72.149810791, \"date\": \"2019-12-31T00:00:00+00:00\"}, {\"name\": \"tasmax_year_models-max_rcp85\", \"index\": \"2020-12-31T00:00:00Z\", \"data\": 70.8955535889, \"date\": \"2020-12-31T00:00:00+00:00\"}, {\"name\": \"tasmax_year_models-max_rcp85\", \"index\": \"2021-12-31T00:00:00Z\", \"data\": 70.9251098633, \"date\": \"2021-12-31T00:00:00+00:00\"}, {\"name\": \"tasmax_year_models-max_rcp85\", \"index\": \"2022-12-31T00:00:00Z\", \"data\": 71.6208724976, \"date\": \"2022-12-31T00:00:00+00:00\"}, {\"name\": \"tasmax_year_models-max_rcp85\", \"index\": \"2023-12-31T00:00:00Z\", \"data\": 71.1181945801, \"date\": \"2023-12-31T00:00:00+00:00\"}, {\"name\": \"tasmax_year_models-max_rcp85\", \"index\": \"2024-12-31T00:00:00Z\", \"data\": 71.8889389038, \"date\": \"2024-12-31T00:00:00+00:00\"}, {\"name\": \"tasmax_year_models-max_rcp85\", \"index\": \"2025-12-31T00:00:00Z\", \"data\": 72.8582611084, \"date\": \"2025-12-31T00:00:00+00:00\"}, {\"name\": \"tasmax_year_models-max_rcp85\", \"index\": \"2026-12-31T00:00:00Z\", \"data\": 72.6657867432, \"date\": \"2026-12-31T00:00:00+00:00\"}, {\"name\": \"tasmax_year_models-max_rcp85\", \"index\": \"2027-12-31T00:00:00Z\", \"data\": 70.5944213867, \"date\": \"2027-12-31T00:00:00+00:00\"}, {\"name\": \"tasmax_year_models-max_rcp85\", \"index\": \"2028-12-31T00:00:00Z\", \"data\": 72.8276062012, \"date\": \"2028-12-31T00:00:00+00:00\"}, {\"name\": \"tasmax_year_models-max_rcp85\", \"index\": \"2029-12-31T00:00:00Z\", \"data\": 71.5132064819, \"date\": \"2029-12-31T00:00:00+00:00\"}, {\"name\": \"tasmax_year_models-max_rcp85\", \"index\": \"2030-12-31T00:00:00Z\", \"data\": 72.4596786499, \"date\": \"2030-12-31T00:00:00+00:00\"}, {\"name\": \"tasmax_year_models-max_rcp85\", \"index\": \"2031-12-31T00:00:00Z\", \"data\": 72.0958709717, \"date\": \"2031-12-31T00:00:00+00:00\"}, {\"name\": \"tasmax_year_models-max_rcp85\", \"index\": \"2032-12-31T00:00:00Z\", \"data\": 71.6027450562, \"date\": \"2032-12-31T00:00:00+00:00\"}, {\"name\": \"tasmax_year_models-max_rcp85\", \"index\": \"2033-12-31T00:00:00Z\", \"data\": 72.0798797607, \"date\": \"2033-12-31T00:00:00+00:00\"}, {\"name\": \"tasmax_year_models-max_rcp85\", \"index\": \"2034-12-31T00:00:00Z\", \"data\": 73.3569869995, \"date\": \"2034-12-31T00:00:00+00:00\"}, {\"name\": \"tasmax_year_models-max_rcp85\", \"index\": \"2035-12-31T00:00:00Z\", \"data\": 72.4789581299, \"date\": \"2035-12-31T00:00:00+00:00\"}, {\"name\": \"tasmax_year_models-max_rcp85\", \"index\": \"2036-12-31T00:00:00Z\", \"data\": 71.5641326904, \"date\": \"2036-12-31T00:00:00+00:00\"}, {\"name\": \"tasmax_year_models-max_rcp85\", \"index\": \"2037-12-31T00:00:00Z\", \"data\": 72.372833252, \"date\": \"2037-12-31T00:00:00+00:00\"}, {\"name\": \"tasmax_year_models-max_rcp85\", \"index\": \"2038-12-31T00:00:00Z\", \"data\": 72.5456466675, \"date\": \"2038-12-31T00:00:00+00:00\"}, {\"name\": \"tasmax_year_models-max_rcp85\", \"index\": \"2039-12-31T00:00:00Z\", \"data\": 72.1841964722, \"date\": \"2039-12-31T00:00:00+00:00\"}, {\"name\": \"tasmax_year_models-max_rcp85\", \"index\": \"2040-12-31T00:00:00Z\", \"data\": 72.6156845093, \"date\": \"2040-12-31T00:00:00+00:00\"}, {\"name\": \"tasmax_year_models-max_rcp85\", \"index\": \"2041-12-31T00:00:00Z\", \"data\": 72.2110595703, \"date\": \"2041-12-31T00:00:00+00:00\"}, {\"name\": \"tasmax_year_models-max_rcp85\", \"index\": \"2042-12-31T00:00:00Z\", \"data\": 73.7315063477, \"date\": \"2042-12-31T00:00:00+00:00\"}, {\"name\": \"tasmax_year_models-max_rcp85\", \"index\": \"2043-12-31T00:00:00Z\", \"data\": 73.295135498, \"date\": \"2043-12-31T00:00:00+00:00\"}, {\"name\": \"tasmax_year_models-max_rcp85\", \"index\": \"2044-12-31T00:00:00Z\", \"data\": 72.9152832031, \"date\": \"2044-12-31T00:00:00+00:00\"}, {\"name\": \"tasmax_year_models-max_rcp85\", \"index\": \"2045-12-31T00:00:00Z\", \"data\": 73.0687103271, \"date\": \"2045-12-31T00:00:00+00:00\"}, {\"name\": \"tasmax_year_models-max_rcp85\", \"index\": \"2046-12-31T00:00:00Z\", \"data\": 72.9603271484, \"date\": \"2046-12-31T00:00:00+00:00\"}, {\"name\": \"tasmax_year_models-max_rcp85\", \"index\": \"2047-12-31T00:00:00Z\", \"data\": 72.8361816406, \"date\": \"2047-12-31T00:00:00+00:00\"}, {\"name\": \"tasmax_year_models-max_rcp85\", \"index\": \"2048-12-31T00:00:00Z\", \"data\": 73.5827026367, \"date\": \"2048-12-31T00:00:00+00:00\"}, {\"name\": \"tasmax_year_models-max_rcp85\", \"index\": \"2049-12-31T00:00:00Z\", \"data\": 74.3825073242, \"date\": \"2049-12-31T00:00:00+00:00\"}, {\"name\": \"tasmax_year_models-max_rcp85\", \"index\": \"2050-12-31T00:00:00Z\", \"data\": 73.4499816895, \"date\": \"2050-12-31T00:00:00+00:00\"}, {\"name\": \"tasmax_year_models-max_rcp85\", \"index\": \"2051-12-31T00:00:00Z\", \"data\": 74.4824829102, \"date\": \"2051-12-31T00:00:00+00:00\"}, {\"name\": \"tasmax_year_models-max_rcp85\", \"index\": \"2052-12-31T00:00:00Z\", \"data\": 74.9339141846, \"date\": \"2052-12-31T00:00:00+00:00\"}, {\"name\": \"tasmax_year_models-max_rcp85\", \"index\": \"2053-12-31T00:00:00Z\", \"data\": 73.5822601318, \"date\": \"2053-12-31T00:00:00+00:00\"}, {\"name\": \"tasmax_year_models-max_rcp85\", \"index\": \"2054-12-31T00:00:00Z\", \"data\": 73.3340301514, \"date\": \"2054-12-31T00:00:00+00:00\"}, {\"name\": \"tasmax_year_models-max_rcp85\", \"index\": \"2055-12-31T00:00:00Z\", \"data\": 73.9431610107, \"date\": \"2055-12-31T00:00:00+00:00\"}, {\"name\": \"tasmax_year_models-max_rcp85\", \"index\": \"2056-12-31T00:00:00Z\", \"data\": 75.1119995117, \"date\": \"2056-12-31T00:00:00+00:00\"}, {\"name\": \"tasmax_year_models-max_rcp85\", \"index\": \"2057-12-31T00:00:00Z\", \"data\": 75.2755279541, \"date\": \"2057-12-31T00:00:00+00:00\"}, {\"name\": \"tasmax_year_models-max_rcp85\", \"index\": \"2058-12-31T00:00:00Z\", \"data\": 75.2205963135, \"date\": \"2058-12-31T00:00:00+00:00\"}, {\"name\": \"tasmax_year_models-max_rcp85\", \"index\": \"2059-12-31T00:00:00Z\", \"data\": 74.8403015137, \"date\": \"2059-12-31T00:00:00+00:00\"}, {\"name\": \"tasmax_year_models-max_rcp85\", \"index\": \"2060-12-31T00:00:00Z\", \"data\": 74.9233093262, \"date\": \"2060-12-31T00:00:00+00:00\"}, {\"name\": \"tasmax_year_models-max_rcp85\", \"index\": \"2061-12-31T00:00:00Z\", \"data\": 74.7173690796, \"date\": \"2061-12-31T00:00:00+00:00\"}, {\"name\": \"tasmax_year_models-max_rcp85\", \"index\": \"2062-12-31T00:00:00Z\", \"data\": 75.869720459, \"date\": \"2062-12-31T00:00:00+00:00\"}, {\"name\": \"tasmax_year_models-max_rcp85\", \"index\": \"2063-12-31T00:00:00Z\", \"data\": 76.0175476074, \"date\": \"2063-12-31T00:00:00+00:00\"}, {\"name\": \"tasmax_year_models-max_rcp85\", \"index\": \"2064-12-31T00:00:00Z\", \"data\": 75.1070556641, \"date\": \"2064-12-31T00:00:00+00:00\"}, {\"name\": \"tasmax_year_models-max_rcp85\", \"index\": \"2065-12-31T00:00:00Z\", \"data\": 75.7817230225, \"date\": \"2065-12-31T00:00:00+00:00\"}, {\"name\": \"tasmax_year_models-max_rcp85\", \"index\": \"2066-12-31T00:00:00Z\", \"data\": 76.1626205444, \"date\": \"2066-12-31T00:00:00+00:00\"}, {\"name\": \"tasmax_year_models-max_rcp85\", \"index\": \"2067-12-31T00:00:00Z\", \"data\": 77.0170288086, \"date\": \"2067-12-31T00:00:00+00:00\"}, {\"name\": \"tasmax_year_models-max_rcp85\", \"index\": \"2068-12-31T00:00:00Z\", \"data\": 75.0063095093, \"date\": \"2068-12-31T00:00:00+00:00\"}, {\"name\": \"tasmax_year_models-max_rcp85\", \"index\": \"2069-12-31T00:00:00Z\", \"data\": 76.3012695312, \"date\": \"2069-12-31T00:00:00+00:00\"}, {\"name\": \"tasmax_year_models-max_rcp85\", \"index\": \"2070-12-31T00:00:00Z\", \"data\": 77.1377716064, \"date\": \"2070-12-31T00:00:00+00:00\"}, {\"name\": \"tasmax_year_models-max_rcp85\", \"index\": \"2071-12-31T00:00:00Z\", \"data\": 76.074508667, \"date\": \"2071-12-31T00:00:00+00:00\"}, {\"name\": \"tasmax_year_models-max_rcp85\", \"index\": \"2072-12-31T00:00:00Z\", \"data\": 76.4850158691, \"date\": \"2072-12-31T00:00:00+00:00\"}, {\"name\": \"tasmax_year_models-max_rcp85\", \"index\": \"2073-12-31T00:00:00Z\", \"data\": 76.1276245117, \"date\": \"2073-12-31T00:00:00+00:00\"}, {\"name\": \"tasmax_year_models-max_rcp85\", \"index\": \"2074-12-31T00:00:00Z\", \"data\": 77.4537887573, \"date\": \"2074-12-31T00:00:00+00:00\"}, {\"name\": \"tasmax_year_models-max_rcp85\", \"index\": \"2075-12-31T00:00:00Z\", \"data\": 76.0263900757, \"date\": \"2075-12-31T00:00:00+00:00\"}, {\"name\": \"tasmax_year_models-max_rcp85\", \"index\": \"2076-12-31T00:00:00Z\", \"data\": 77.5004806519, \"date\": \"2076-12-31T00:00:00+00:00\"}, {\"name\": \"tasmax_year_models-max_rcp85\", \"index\": \"2077-12-31T00:00:00Z\", \"data\": 77.4261627197, \"date\": \"2077-12-31T00:00:00+00:00\"}, {\"name\": \"tasmax_year_models-max_rcp85\", \"index\": \"2078-12-31T00:00:00Z\", \"data\": 77.5667877197, \"date\": \"2078-12-31T00:00:00+00:00\"}, {\"name\": \"tasmax_year_models-max_rcp85\", \"index\": \"2079-12-31T00:00:00Z\", \"data\": 78.4738693237, \"date\": \"2079-12-31T00:00:00+00:00\"}, {\"name\": \"tasmax_year_models-max_rcp85\", \"index\": \"2080-12-31T00:00:00Z\", \"data\": 78.2987518311, \"date\": \"2080-12-31T00:00:00+00:00\"}, {\"name\": \"tasmax_year_models-max_rcp85\", \"index\": \"2081-12-31T00:00:00Z\", \"data\": 78.0127716064, \"date\": \"2081-12-31T00:00:00+00:00\"}, {\"name\": \"tasmax_year_models-max_rcp85\", \"index\": \"2082-12-31T00:00:00Z\", \"data\": 79.1288146973, \"date\": \"2082-12-31T00:00:00+00:00\"}, {\"name\": \"tasmax_year_models-max_rcp85\", \"index\": \"2083-12-31T00:00:00Z\", \"data\": 77.2475204468, \"date\": \"2083-12-31T00:00:00+00:00\"}, {\"name\": \"tasmax_year_models-max_rcp85\", \"index\": \"2084-12-31T00:00:00Z\", \"data\": 77.5719451904, \"date\": \"2084-12-31T00:00:00+00:00\"}, {\"name\": \"tasmax_year_models-max_rcp85\", \"index\": \"2085-12-31T00:00:00Z\", \"data\": 78.2250289917, \"date\": \"2085-12-31T00:00:00+00:00\"}, {\"name\": \"tasmax_year_models-max_rcp85\", \"index\": \"2086-12-31T00:00:00Z\", \"data\": 77.2452087402, \"date\": \"2086-12-31T00:00:00+00:00\"}, {\"name\": \"tasmax_year_models-max_rcp85\", \"index\": \"2087-12-31T00:00:00Z\", \"data\": 79.4108886719, \"date\": \"2087-12-31T00:00:00+00:00\"}, {\"name\": \"tasmax_year_models-max_rcp85\", \"index\": \"2088-12-31T00:00:00Z\", \"data\": 78.0210723877, \"date\": \"2088-12-31T00:00:00+00:00\"}, {\"name\": \"tasmax_year_models-max_rcp85\", \"index\": \"2089-12-31T00:00:00Z\", \"data\": 77.9675140381, \"date\": \"2089-12-31T00:00:00+00:00\"}, {\"name\": \"tasmax_year_models-max_rcp85\", \"index\": \"2090-12-31T00:00:00Z\", \"data\": 79.3005371094, \"date\": \"2090-12-31T00:00:00+00:00\"}, {\"name\": \"tasmax_year_models-max_rcp85\", \"index\": \"2091-12-31T00:00:00Z\", \"data\": 78.118347168, \"date\": \"2091-12-31T00:00:00+00:00\"}, {\"name\": \"tasmax_year_models-max_rcp85\", \"index\": \"2092-12-31T00:00:00Z\", \"data\": 79.2489013672, \"date\": \"2092-12-31T00:00:00+00:00\"}, {\"name\": \"tasmax_year_models-max_rcp85\", \"index\": \"2093-12-31T00:00:00Z\", \"data\": 79.6091461182, \"date\": \"2093-12-31T00:00:00+00:00\"}, {\"name\": \"tasmax_year_models-max_rcp85\", \"index\": \"2094-12-31T00:00:00Z\", \"data\": 79.1647491455, \"date\": \"2094-12-31T00:00:00+00:00\"}, {\"name\": \"tasmax_year_models-max_rcp85\", \"index\": \"2095-12-31T00:00:00Z\", \"data\": 78.3069915771, \"date\": \"2095-12-31T00:00:00+00:00\"}, {\"name\": \"tasmax_year_models-max_rcp85\", \"index\": \"2096-12-31T00:00:00Z\", \"data\": 80.0126190186, \"date\": \"2096-12-31T00:00:00+00:00\"}, {\"name\": \"tasmax_year_models-max_rcp85\", \"index\": \"2097-12-31T00:00:00Z\", \"data\": 78.7280426025, \"date\": \"2097-12-31T00:00:00+00:00\"}, {\"name\": \"tasmax_year_models-max_rcp85\", \"index\": \"2098-12-31T00:00:00Z\", \"data\": 81.9826812744, \"date\": \"2098-12-31T00:00:00+00:00\"}, {\"name\": \"tasmax_year_models-max_rcp85\", \"index\": \"2099-12-31T00:00:00Z\", \"data\": 79.6419372559, \"date\": \"2099-12-31T00:00:00+00:00\"}, {\"name\": \"tasmax_year_models-max_rcp85\", \"index\": \"2100-12-31T00:00:00Z\", \"data\": 81.2405548096, \"date\": \"2100-12-31T00:00:00+00:00\"}, {\"name\": \"tasmax_year_models-min_rcp85\", \"index\": \"2006-12-31T00:00:00Z\", \"data\": 65.7461547852, \"date\": \"2006-12-31T00:00:00+00:00\"}, {\"name\": \"tasmax_year_models-min_rcp85\", \"index\": \"2007-12-31T00:00:00Z\", \"data\": 65.1465148926, \"date\": \"2007-12-31T00:00:00+00:00\"}, {\"name\": \"tasmax_year_models-min_rcp85\", \"index\": \"2008-12-31T00:00:00Z\", \"data\": 63.9653778076, \"date\": \"2008-12-31T00:00:00+00:00\"}, {\"name\": \"tasmax_year_models-min_rcp85\", \"index\": \"2009-12-31T00:00:00Z\", \"data\": 65.3607025146, \"date\": \"2009-12-31T00:00:00+00:00\"}, {\"name\": \"tasmax_year_models-min_rcp85\", \"index\": \"2010-12-31T00:00:00Z\", \"data\": 65.2333679199, \"date\": \"2010-12-31T00:00:00+00:00\"}, {\"name\": \"tasmax_year_models-min_rcp85\", \"index\": \"2011-12-31T00:00:00Z\", \"data\": 65.7958679199, \"date\": \"2011-12-31T00:00:00+00:00\"}, {\"name\": \"tasmax_year_models-min_rcp85\", \"index\": \"2012-12-31T00:00:00Z\", \"data\": 64.384727478, \"date\": \"2012-12-31T00:00:00+00:00\"}, {\"name\": \"tasmax_year_models-min_rcp85\", \"index\": \"2013-12-31T00:00:00Z\", \"data\": 64.6140136719, \"date\": \"2013-12-31T00:00:00+00:00\"}, {\"name\": \"tasmax_year_models-min_rcp85\", \"index\": \"2014-12-31T00:00:00Z\", \"data\": 65.6656188965, \"date\": \"2014-12-31T00:00:00+00:00\"}, {\"name\": \"tasmax_year_models-min_rcp85\", \"index\": \"2015-12-31T00:00:00Z\", \"data\": 65.2948913574, \"date\": \"2015-12-31T00:00:00+00:00\"}, {\"name\": \"tasmax_year_models-min_rcp85\", \"index\": \"2016-12-31T00:00:00Z\", \"data\": 65.5751495361, \"date\": \"2016-12-31T00:00:00+00:00\"}, {\"name\": \"tasmax_year_models-min_rcp85\", \"index\": \"2017-12-31T00:00:00Z\", \"data\": 66.5515060425, \"date\": \"2017-12-31T00:00:00+00:00\"}, {\"name\": \"tasmax_year_models-min_rcp85\", \"index\": \"2018-12-31T00:00:00Z\", \"data\": 65.4420013428, \"date\": \"2018-12-31T00:00:00+00:00\"}, {\"name\": \"tasmax_year_models-min_rcp85\", \"index\": \"2019-12-31T00:00:00Z\", \"data\": 66.0025177002, \"date\": \"2019-12-31T00:00:00+00:00\"}, {\"name\": \"tasmax_year_models-min_rcp85\", \"index\": \"2020-12-31T00:00:00Z\", \"data\": 66.656036377, \"date\": \"2020-12-31T00:00:00+00:00\"}, {\"name\": \"tasmax_year_models-min_rcp85\", \"index\": \"2021-12-31T00:00:00Z\", \"data\": 65.9771957397, \"date\": \"2021-12-31T00:00:00+00:00\"}, {\"name\": \"tasmax_year_models-min_rcp85\", \"index\": \"2022-12-31T00:00:00Z\", \"data\": 65.7113265991, \"date\": \"2022-12-31T00:00:00+00:00\"}, {\"name\": \"tasmax_year_models-min_rcp85\", \"index\": \"2023-12-31T00:00:00Z\", \"data\": 67.0978546143, \"date\": \"2023-12-31T00:00:00+00:00\"}, {\"name\": \"tasmax_year_models-min_rcp85\", \"index\": \"2024-12-31T00:00:00Z\", \"data\": 66.3355712891, \"date\": \"2024-12-31T00:00:00+00:00\"}, {\"name\": \"tasmax_year_models-min_rcp85\", \"index\": \"2025-12-31T00:00:00Z\", \"data\": 67.3222503662, \"date\": \"2025-12-31T00:00:00+00:00\"}, {\"name\": \"tasmax_year_models-min_rcp85\", \"index\": \"2026-12-31T00:00:00Z\", \"data\": 66.3949508667, \"date\": \"2026-12-31T00:00:00+00:00\"}, {\"name\": \"tasmax_year_models-min_rcp85\", \"index\": \"2027-12-31T00:00:00Z\", \"data\": 65.3302154541, \"date\": \"2027-12-31T00:00:00+00:00\"}, {\"name\": \"tasmax_year_models-min_rcp85\", \"index\": \"2028-12-31T00:00:00Z\", \"data\": 67.3792724609, \"date\": \"2028-12-31T00:00:00+00:00\"}, {\"name\": \"tasmax_year_models-min_rcp85\", \"index\": \"2029-12-31T00:00:00Z\", \"data\": 66.7083892822, \"date\": \"2029-12-31T00:00:00+00:00\"}, {\"name\": \"tasmax_year_models-min_rcp85\", \"index\": \"2030-12-31T00:00:00Z\", \"data\": 65.8422851562, \"date\": \"2030-12-31T00:00:00+00:00\"}, {\"name\": \"tasmax_year_models-min_rcp85\", \"index\": \"2031-12-31T00:00:00Z\", \"data\": 66.5555725098, \"date\": \"2031-12-31T00:00:00+00:00\"}, {\"name\": \"tasmax_year_models-min_rcp85\", \"index\": \"2032-12-31T00:00:00Z\", \"data\": 66.0472335815, \"date\": \"2032-12-31T00:00:00+00:00\"}, {\"name\": \"tasmax_year_models-min_rcp85\", \"index\": \"2033-12-31T00:00:00Z\", \"data\": 66.3118896484, \"date\": \"2033-12-31T00:00:00+00:00\"}, {\"name\": \"tasmax_year_models-min_rcp85\", \"index\": \"2034-12-31T00:00:00Z\", \"data\": 65.8576660156, \"date\": \"2034-12-31T00:00:00+00:00\"}, {\"name\": \"tasmax_year_models-min_rcp85\", \"index\": \"2035-12-31T00:00:00Z\", \"data\": 66.6485748291, \"date\": \"2035-12-31T00:00:00+00:00\"}, {\"name\": \"tasmax_year_models-min_rcp85\", \"index\": \"2036-12-31T00:00:00Z\", \"data\": 65.7593917847, \"date\": \"2036-12-31T00:00:00+00:00\"}, {\"name\": \"tasmax_year_models-min_rcp85\", \"index\": \"2037-12-31T00:00:00Z\", \"data\": 67.9842834473, \"date\": \"2037-12-31T00:00:00+00:00\"}, {\"name\": \"tasmax_year_models-min_rcp85\", \"index\": \"2038-12-31T00:00:00Z\", \"data\": 67.5488433838, \"date\": \"2038-12-31T00:00:00+00:00\"}, {\"name\": \"tasmax_year_models-min_rcp85\", \"index\": \"2039-12-31T00:00:00Z\", \"data\": 66.8619232178, \"date\": \"2039-12-31T00:00:00+00:00\"}, {\"name\": \"tasmax_year_models-min_rcp85\", \"index\": \"2040-12-31T00:00:00Z\", \"data\": 67.1435546875, \"date\": \"2040-12-31T00:00:00+00:00\"}, {\"name\": \"tasmax_year_models-min_rcp85\", \"index\": \"2041-12-31T00:00:00Z\", \"data\": 67.2841796875, \"date\": \"2041-12-31T00:00:00+00:00\"}, {\"name\": \"tasmax_year_models-min_rcp85\", \"index\": \"2042-12-31T00:00:00Z\", \"data\": 67.2890777588, \"date\": \"2042-12-31T00:00:00+00:00\"}, {\"name\": \"tasmax_year_models-min_rcp85\", \"index\": \"2043-12-31T00:00:00Z\", \"data\": 67.2328186035, \"date\": \"2043-12-31T00:00:00+00:00\"}, {\"name\": \"tasmax_year_models-min_rcp85\", \"index\": \"2044-12-31T00:00:00Z\", \"data\": 66.0907440186, \"date\": \"2044-12-31T00:00:00+00:00\"}, {\"name\": \"tasmax_year_models-min_rcp85\", \"index\": \"2045-12-31T00:00:00Z\", \"data\": 67.9011764526, \"date\": \"2045-12-31T00:00:00+00:00\"}, {\"name\": \"tasmax_year_models-min_rcp85\", \"index\": \"2046-12-31T00:00:00Z\", \"data\": 67.8312530518, \"date\": \"2046-12-31T00:00:00+00:00\"}, {\"name\": \"tasmax_year_models-min_rcp85\", \"index\": \"2047-12-31T00:00:00Z\", \"data\": 68.5182189941, \"date\": \"2047-12-31T00:00:00+00:00\"}, {\"name\": \"tasmax_year_models-min_rcp85\", \"index\": \"2048-12-31T00:00:00Z\", \"data\": 67.9036483765, \"date\": \"2048-12-31T00:00:00+00:00\"}, {\"name\": \"tasmax_year_models-min_rcp85\", \"index\": \"2049-12-31T00:00:00Z\", \"data\": 67.8657455444, \"date\": \"2049-12-31T00:00:00+00:00\"}, {\"name\": \"tasmax_year_models-min_rcp85\", \"index\": \"2050-12-31T00:00:00Z\", \"data\": 68.0857467651, \"date\": \"2050-12-31T00:00:00+00:00\"}, {\"name\": \"tasmax_year_models-min_rcp85\", \"index\": \"2051-12-31T00:00:00Z\", \"data\": 68.0177459717, \"date\": \"2051-12-31T00:00:00+00:00\"}, {\"name\": \"tasmax_year_models-min_rcp85\", \"index\": \"2052-12-31T00:00:00Z\", \"data\": 67.0718688965, \"date\": \"2052-12-31T00:00:00+00:00\"}, {\"name\": \"tasmax_year_models-min_rcp85\", \"index\": \"2053-12-31T00:00:00Z\", \"data\": 69.0232696533, \"date\": \"2053-12-31T00:00:00+00:00\"}, {\"name\": \"tasmax_year_models-min_rcp85\", \"index\": \"2054-12-31T00:00:00Z\", \"data\": 69.287651062, \"date\": \"2054-12-31T00:00:00+00:00\"}, {\"name\": \"tasmax_year_models-min_rcp85\", \"index\": \"2055-12-31T00:00:00Z\", \"data\": 68.7918930054, \"date\": \"2055-12-31T00:00:00+00:00\"}, {\"name\": \"tasmax_year_models-min_rcp85\", \"index\": \"2056-12-31T00:00:00Z\", \"data\": 69.035949707, \"date\": \"2056-12-31T00:00:00+00:00\"}, {\"name\": \"tasmax_year_models-min_rcp85\", \"index\": \"2057-12-31T00:00:00Z\", \"data\": 66.8617553711, \"date\": \"2057-12-31T00:00:00+00:00\"}, {\"name\": \"tasmax_year_models-min_rcp85\", \"index\": \"2058-12-31T00:00:00Z\", \"data\": 69.0685882568, \"date\": \"2058-12-31T00:00:00+00:00\"}, {\"name\": \"tasmax_year_models-min_rcp85\", \"index\": \"2059-12-31T00:00:00Z\", \"data\": 69.4132843018, \"date\": \"2059-12-31T00:00:00+00:00\"}, {\"name\": \"tasmax_year_models-min_rcp85\", \"index\": \"2060-12-31T00:00:00Z\", \"data\": 69.0764923096, \"date\": \"2060-12-31T00:00:00+00:00\"}, {\"name\": \"tasmax_year_models-min_rcp85\", \"index\": \"2061-12-31T00:00:00Z\", \"data\": 67.1932220459, \"date\": \"2061-12-31T00:00:00+00:00\"}, {\"name\": \"tasmax_year_models-min_rcp85\", \"index\": \"2062-12-31T00:00:00Z\", \"data\": 69.9478759766, \"date\": \"2062-12-31T00:00:00+00:00\"}, {\"name\": \"tasmax_year_models-min_rcp85\", \"index\": \"2063-12-31T00:00:00Z\", \"data\": 67.3798217773, \"date\": \"2063-12-31T00:00:00+00:00\"}, {\"name\": \"tasmax_year_models-min_rcp85\", \"index\": \"2064-12-31T00:00:00Z\", \"data\": 67.6701889038, \"date\": \"2064-12-31T00:00:00+00:00\"}, {\"name\": \"tasmax_year_models-min_rcp85\", \"index\": \"2065-12-31T00:00:00Z\", \"data\": 69.0438690186, \"date\": \"2065-12-31T00:00:00+00:00\"}, {\"name\": \"tasmax_year_models-min_rcp85\", \"index\": \"2066-12-31T00:00:00Z\", \"data\": 70.0143432617, \"date\": \"2066-12-31T00:00:00+00:00\"}, {\"name\": \"tasmax_year_models-min_rcp85\", \"index\": \"2067-12-31T00:00:00Z\", \"data\": 69.5562133789, \"date\": \"2067-12-31T00:00:00+00:00\"}, {\"name\": \"tasmax_year_models-min_rcp85\", \"index\": \"2068-12-31T00:00:00Z\", \"data\": 69.6590423584, \"date\": \"2068-12-31T00:00:00+00:00\"}, {\"name\": \"tasmax_year_models-min_rcp85\", \"index\": \"2069-12-31T00:00:00Z\", \"data\": 69.765007019, \"date\": \"2069-12-31T00:00:00+00:00\"}, {\"name\": \"tasmax_year_models-min_rcp85\", \"index\": \"2070-12-31T00:00:00Z\", \"data\": 69.0340881348, \"date\": \"2070-12-31T00:00:00+00:00\"}, {\"name\": \"tasmax_year_models-min_rcp85\", \"index\": \"2071-12-31T00:00:00Z\", \"data\": 68.3827667236, \"date\": \"2071-12-31T00:00:00+00:00\"}, {\"name\": \"tasmax_year_models-min_rcp85\", \"index\": \"2072-12-31T00:00:00Z\", \"data\": 69.4846343994, \"date\": \"2072-12-31T00:00:00+00:00\"}, {\"name\": \"tasmax_year_models-min_rcp85\", \"index\": \"2073-12-31T00:00:00Z\", \"data\": 69.5899963379, \"date\": \"2073-12-31T00:00:00+00:00\"}, {\"name\": \"tasmax_year_models-min_rcp85\", \"index\": \"2074-12-31T00:00:00Z\", \"data\": 70.5142211914, \"date\": \"2074-12-31T00:00:00+00:00\"}, {\"name\": \"tasmax_year_models-min_rcp85\", \"index\": \"2075-12-31T00:00:00Z\", \"data\": 68.9650421143, \"date\": \"2075-12-31T00:00:00+00:00\"}, {\"name\": \"tasmax_year_models-min_rcp85\", \"index\": \"2076-12-31T00:00:00Z\", \"data\": 69.8164825439, \"date\": \"2076-12-31T00:00:00+00:00\"}, {\"name\": \"tasmax_year_models-min_rcp85\", \"index\": \"2077-12-31T00:00:00Z\", \"data\": 70.0725097656, \"date\": \"2077-12-31T00:00:00+00:00\"}, {\"name\": \"tasmax_year_models-min_rcp85\", \"index\": \"2078-12-31T00:00:00Z\", \"data\": 69.7206268311, \"date\": \"2078-12-31T00:00:00+00:00\"}, {\"name\": \"tasmax_year_models-min_rcp85\", \"index\": \"2079-12-31T00:00:00Z\", \"data\": 70.2255554199, \"date\": \"2079-12-31T00:00:00+00:00\"}, {\"name\": \"tasmax_year_models-min_rcp85\", \"index\": \"2080-12-31T00:00:00Z\", \"data\": 70.4941711426, \"date\": \"2080-12-31T00:00:00+00:00\"}, {\"name\": \"tasmax_year_models-min_rcp85\", \"index\": \"2081-12-31T00:00:00Z\", \"data\": 68.165725708, \"date\": \"2081-12-31T00:00:00+00:00\"}, {\"name\": \"tasmax_year_models-min_rcp85\", \"index\": \"2082-12-31T00:00:00Z\", \"data\": 70.5732116699, \"date\": \"2082-12-31T00:00:00+00:00\"}, {\"name\": \"tasmax_year_models-min_rcp85\", \"index\": \"2083-12-31T00:00:00Z\", \"data\": 69.5438537598, \"date\": \"2083-12-31T00:00:00+00:00\"}, {\"name\": \"tasmax_year_models-min_rcp85\", \"index\": \"2084-12-31T00:00:00Z\", \"data\": 70.675994873, \"date\": \"2084-12-31T00:00:00+00:00\"}, {\"name\": \"tasmax_year_models-min_rcp85\", \"index\": \"2085-12-31T00:00:00Z\", \"data\": 70.342338562, \"date\": \"2085-12-31T00:00:00+00:00\"}, {\"name\": \"tasmax_year_models-min_rcp85\", \"index\": \"2086-12-31T00:00:00Z\", \"data\": 69.9082641602, \"date\": \"2086-12-31T00:00:00+00:00\"}, {\"name\": \"tasmax_year_models-min_rcp85\", \"index\": \"2087-12-31T00:00:00Z\", \"data\": 70.361618042, \"date\": \"2087-12-31T00:00:00+00:00\"}, {\"name\": \"tasmax_year_models-min_rcp85\", \"index\": \"2088-12-31T00:00:00Z\", \"data\": 70.3462982178, \"date\": \"2088-12-31T00:00:00+00:00\"}, {\"name\": \"tasmax_year_models-min_rcp85\", \"index\": \"2089-12-31T00:00:00Z\", \"data\": 71.0204162598, \"date\": \"2089-12-31T00:00:00+00:00\"}, {\"name\": \"tasmax_year_models-min_rcp85\", \"index\": \"2090-12-31T00:00:00Z\", \"data\": 70.86693573, \"date\": \"2090-12-31T00:00:00+00:00\"}, {\"name\": \"tasmax_year_models-min_rcp85\", \"index\": \"2091-12-31T00:00:00Z\", \"data\": 70.3124008179, \"date\": \"2091-12-31T00:00:00+00:00\"}, {\"name\": \"tasmax_year_models-min_rcp85\", \"index\": \"2092-12-31T00:00:00Z\", \"data\": 71.1950378418, \"date\": \"2092-12-31T00:00:00+00:00\"}, {\"name\": \"tasmax_year_models-min_rcp85\", \"index\": \"2093-12-31T00:00:00Z\", \"data\": 71.3224334717, \"date\": \"2093-12-31T00:00:00+00:00\"}, {\"name\": \"tasmax_year_models-min_rcp85\", \"index\": \"2094-12-31T00:00:00Z\", \"data\": 71.0707855225, \"date\": \"2094-12-31T00:00:00+00:00\"}, {\"name\": \"tasmax_year_models-min_rcp85\", \"index\": \"2095-12-31T00:00:00Z\", \"data\": 71.3147888184, \"date\": \"2095-12-31T00:00:00+00:00\"}, {\"name\": \"tasmax_year_models-min_rcp85\", \"index\": \"2096-12-31T00:00:00Z\", \"data\": 71.5505065918, \"date\": \"2096-12-31T00:00:00+00:00\"}, {\"name\": \"tasmax_year_models-min_rcp85\", \"index\": \"2097-12-31T00:00:00Z\", \"data\": 72.0614776611, \"date\": \"2097-12-31T00:00:00+00:00\"}, {\"name\": \"tasmax_year_models-min_rcp85\", \"index\": \"2098-12-31T00:00:00Z\", \"data\": 72.0897140503, \"date\": \"2098-12-31T00:00:00+00:00\"}, {\"name\": \"tasmax_year_models-min_rcp85\", \"index\": \"2099-12-31T00:00:00Z\", \"data\": 71.2576141357, \"date\": \"2099-12-31T00:00:00+00:00\"}, {\"name\": \"tasmax_year_models-min_rcp85\", \"index\": \"2100-12-31T00:00:00Z\", \"data\": 72.1417388916, \"date\": \"2100-12-31T00:00:00+00:00\"}]}}, {\"mode\": \"vega-lite\"});\n",
       "</script>"
      ],
      "text/plain": [
       "alt.Chart(...)"
      ]
     },
     "execution_count": 67,
     "metadata": {},
     "output_type": "execute_result"
    }
   ],
   "source": [
    "alt.Chart(timeseries).mark_line().encode(\n",
    "    x='date',\n",
    "    y='data',\n",
    "    color='name'\n",
    ")"
   ]
  },
  {
   "cell_type": "code",
   "execution_count": 69,
   "metadata": {},
   "outputs": [],
   "source": [
    "end_century_max= rcp85_max[(rcp85_max.date >= '2070-12-31') & (rcp85_max.date <= '2099-12-31')]\n",
    "end_century_min= rcp85_min[(rcp85_min.date >= '2070-12-31') & (rcp85_min.date <= '2099-12-31')]\n",
    "baseline = historical[(historical.date >= '1961-12-31') & (historical.date <= '1990-12-31')]"
   ]
  },
  {
   "cell_type": "markdown",
   "metadata": {},
   "source": [
    "### Stats"
   ]
  },
  {
   "cell_type": "code",
   "execution_count": 80,
   "metadata": {},
   "outputs": [
    {
     "data": {
      "text/html": [
       "<div>\n",
       "<style scoped>\n",
       "    .dataframe tbody tr th:only-of-type {\n",
       "        vertical-align: middle;\n",
       "    }\n",
       "\n",
       "    .dataframe tbody tr th {\n",
       "        vertical-align: top;\n",
       "    }\n",
       "\n",
       "    .dataframe thead th {\n",
       "        text-align: right;\n",
       "    }\n",
       "</style>\n",
       "<table border=\"1\" class=\"dataframe\">\n",
       "  <thead>\n",
       "    <tr style=\"text-align: right;\">\n",
       "      <th></th>\n",
       "      <th>baseline</th>\n",
       "      <th>models-min</th>\n",
       "      <th>models-max</th>\n",
       "    </tr>\n",
       "  </thead>\n",
       "  <tbody>\n",
       "    <tr>\n",
       "      <th>count</th>\n",
       "      <td>30.000000</td>\n",
       "      <td>30.000000</td>\n",
       "      <td>30.000000</td>\n",
       "    </tr>\n",
       "    <tr>\n",
       "      <th>mean</th>\n",
       "      <td>65.911872</td>\n",
       "      <td>70.342650</td>\n",
       "      <td>78.183862</td>\n",
       "    </tr>\n",
       "    <tr>\n",
       "      <th>std</th>\n",
       "      <td>1.462956</td>\n",
       "      <td>0.973561</td>\n",
       "      <td>1.307691</td>\n",
       "    </tr>\n",
       "    <tr>\n",
       "      <th>min</th>\n",
       "      <td>62.576378</td>\n",
       "      <td>68.165726</td>\n",
       "      <td>76.026390</td>\n",
       "    </tr>\n",
       "    <tr>\n",
       "      <th>25%</th>\n",
       "      <td>65.093405</td>\n",
       "      <td>69.744591</td>\n",
       "      <td>77.433069</td>\n",
       "    </tr>\n",
       "    <tr>\n",
       "      <th>50%</th>\n",
       "      <td>65.816456</td>\n",
       "      <td>70.353958</td>\n",
       "      <td>78.069710</td>\n",
       "    </tr>\n",
       "    <tr>\n",
       "      <th>75%</th>\n",
       "      <td>66.802891</td>\n",
       "      <td>71.058193</td>\n",
       "      <td>79.155766</td>\n",
       "    </tr>\n",
       "    <tr>\n",
       "      <th>max</th>\n",
       "      <td>68.855072</td>\n",
       "      <td>72.089714</td>\n",
       "      <td>81.982681</td>\n",
       "    </tr>\n",
       "  </tbody>\n",
       "</table>\n",
       "</div>"
      ],
      "text/plain": [
       "        baseline  models-min  models-max\n",
       "count  30.000000   30.000000   30.000000\n",
       "mean   65.911872   70.342650   78.183862\n",
       "std     1.462956    0.973561    1.307691\n",
       "min    62.576378   68.165726   76.026390\n",
       "25%    65.093405   69.744591   77.433069\n",
       "50%    65.816456   70.353958   78.069710\n",
       "75%    66.802891   71.058193   79.155766\n",
       "max    68.855072   72.089714   81.982681"
      ]
     },
     "execution_count": 80,
     "metadata": {},
     "output_type": "execute_result"
    }
   ],
   "source": [
    "stats = pd.concat([baseline.describe(), end_century_min.describe(), end_century_max.describe()], axis=1)\n",
    "stats.columns = ['baseline', 'models-min', 'models-max']\n",
    "stats"
   ]
  },
  {
   "cell_type": "code",
   "execution_count": 92,
   "metadata": {},
   "outputs": [],
   "source": [
    "df = pd.concat([baseline, end_century_min, end_century_max])"
   ]
  },
  {
   "cell_type": "code",
   "execution_count": 101,
   "metadata": {},
   "outputs": [
    {
     "data": {
      "text/html": [
       "\n",
       "<div id=\"altair-viz-e53f197c99c44e268db959a11607526b\"></div>\n",
       "<script type=\"text/javascript\">\n",
       "  (function(spec, embedOpt){\n",
       "    const outputDiv = document.getElementById(\"altair-viz-e53f197c99c44e268db959a11607526b\");\n",
       "    const paths = {\n",
       "      \"vega\": \"https://cdn.jsdelivr.net/npm//vega@5?noext\",\n",
       "      \"vega-lib\": \"https://cdn.jsdelivr.net/npm//vega-lib?noext\",\n",
       "      \"vega-lite\": \"https://cdn.jsdelivr.net/npm//vega-lite@4.0.2?noext\",\n",
       "      \"vega-embed\": \"https://cdn.jsdelivr.net/npm//vega-embed@6?noext\",\n",
       "    };\n",
       "\n",
       "    function loadScript(lib) {\n",
       "      return new Promise(function(resolve, reject) {\n",
       "        var s = document.createElement('script');\n",
       "        s.src = paths[lib];\n",
       "        s.async = true;\n",
       "        s.onload = () => resolve(paths[lib]);\n",
       "        s.onerror = () => reject(`Error loading script: ${paths[lib]}`);\n",
       "        document.getElementsByTagName(\"head\")[0].appendChild(s);\n",
       "      });\n",
       "    }\n",
       "\n",
       "    function showError(err) {\n",
       "      outputDiv.innerHTML = `<div class=\"error\" style=\"color:red;\">${err}</div>`;\n",
       "      throw err;\n",
       "    }\n",
       "\n",
       "    function displayChart(vegaEmbed) {\n",
       "      vegaEmbed(outputDiv, spec, embedOpt)\n",
       "        .catch(err => showError(`Javascript Error: ${err.message}<br>This usually means there's a typo in your chart specification. See the javascript console for the full traceback.`));\n",
       "    }\n",
       "\n",
       "    if(typeof define === \"function\" && define.amd) {\n",
       "      requirejs.config({paths});\n",
       "      require([\"vega-embed\"], displayChart, err => showError(`Error loading script: ${err.message}`));\n",
       "    } else if (typeof vegaEmbed === \"function\") {\n",
       "      displayChart(vegaEmbed);\n",
       "    } else {\n",
       "      loadScript(\"vega\")\n",
       "        .then(() => loadScript(\"vega-lite\"))\n",
       "        .then(() => loadScript(\"vega-embed\"))\n",
       "        .catch(showError)\n",
       "        .then(() => displayChart(vegaEmbed));\n",
       "    }\n",
       "  })({\"config\": {\"view\": {\"continuousWidth\": 400, \"continuousHeight\": 300}}, \"data\": {\"name\": \"data-26edd4b5de45562b4025fafaf0a388c3\"}, \"mark\": {\"type\": \"boxplot\", \"size\": 50}, \"encoding\": {\"x\": {\"type\": \"nominal\", \"field\": \"name\"}, \"y\": {\"type\": \"quantitative\", \"field\": \"data\", \"scale\": {\"zero\": false}}}, \"height\": 300, \"selection\": {\"selector007\": {\"type\": \"interval\", \"bind\": \"scales\", \"encodings\": [\"x\", \"y\"]}}, \"width\": 300, \"$schema\": \"https://vega.github.io/schema/vega-lite/v4.0.2.json\", \"datasets\": {\"data-26edd4b5de45562b4025fafaf0a388c3\": [{\"name\": \"tasmax_year_livneh\", \"index\": \"1961-12-31T00:00:00Z\", \"data\": 66.8535766602, \"date\": \"1961-12-31T00:00:00+00:00\"}, {\"name\": \"tasmax_year_livneh\", \"index\": \"1962-12-31T00:00:00Z\", \"data\": 66.3586425781, \"date\": \"1962-12-31T00:00:00+00:00\"}, {\"name\": \"tasmax_year_livneh\", \"index\": \"1963-12-31T00:00:00Z\", \"data\": 64.5133209229, \"date\": \"1963-12-31T00:00:00+00:00\"}, {\"name\": \"tasmax_year_livneh\", \"index\": \"1964-12-31T00:00:00Z\", \"data\": 65.7273788452, \"date\": \"1964-12-31T00:00:00+00:00\"}, {\"name\": \"tasmax_year_livneh\", \"index\": \"1965-12-31T00:00:00Z\", \"data\": 65.6594543457, \"date\": \"1965-12-31T00:00:00+00:00\"}, {\"name\": \"tasmax_year_livneh\", \"index\": \"1966-12-31T00:00:00Z\", \"data\": 66.284576416, \"date\": \"1966-12-31T00:00:00+00:00\"}, {\"name\": \"tasmax_year_livneh\", \"index\": \"1967-12-31T00:00:00Z\", \"data\": 65.4833984375, \"date\": \"1967-12-31T00:00:00+00:00\"}, {\"name\": \"tasmax_year_livneh\", \"index\": \"1968-12-31T00:00:00Z\", \"data\": 64.6951293945, \"date\": \"1968-12-31T00:00:00+00:00\"}, {\"name\": \"tasmax_year_livneh\", \"index\": \"1969-12-31T00:00:00Z\", \"data\": 65.0887832642, \"date\": \"1969-12-31T00:00:00+00:00\"}, {\"name\": \"tasmax_year_livneh\", \"index\": \"1970-12-31T00:00:00Z\", \"data\": 66.06640625, \"date\": \"1970-12-31T00:00:00+00:00\"}, {\"name\": \"tasmax_year_livneh\", \"index\": \"1971-12-31T00:00:00Z\", \"data\": 62.5763778687, \"date\": \"1971-12-31T00:00:00+00:00\"}, {\"name\": \"tasmax_year_livneh\", \"index\": \"1972-12-31T00:00:00Z\", \"data\": 64.2292480469, \"date\": \"1972-12-31T00:00:00+00:00\"}, {\"name\": \"tasmax_year_livneh\", \"index\": \"1973-12-31T00:00:00Z\", \"data\": 65.1072692871, \"date\": \"1973-12-31T00:00:00+00:00\"}, {\"name\": \"tasmax_year_livneh\", \"index\": \"1974-12-31T00:00:00Z\", \"data\": 66.6508331299, \"date\": \"1974-12-31T00:00:00+00:00\"}, {\"name\": \"tasmax_year_livneh\", \"index\": \"1975-12-31T00:00:00Z\", \"data\": 63.582649231, \"date\": \"1975-12-31T00:00:00+00:00\"}, {\"name\": \"tasmax_year_livneh\", \"index\": \"1976-12-31T00:00:00Z\", \"data\": 66.0871276855, \"date\": \"1976-12-31T00:00:00+00:00\"}, {\"name\": \"tasmax_year_livneh\", \"index\": \"1977-12-31T00:00:00Z\", \"data\": 65.9055328369, \"date\": \"1977-12-31T00:00:00+00:00\"}, {\"name\": \"tasmax_year_livneh\", \"index\": \"1978-12-31T00:00:00Z\", \"data\": 65.6574859619, \"date\": \"1978-12-31T00:00:00+00:00\"}, {\"name\": \"tasmax_year_livneh\", \"index\": \"1979-12-31T00:00:00Z\", \"data\": 65.5069274902, \"date\": \"1979-12-31T00:00:00+00:00\"}, {\"name\": \"tasmax_year_livneh\", \"index\": \"1980-12-31T00:00:00Z\", \"data\": 66.1659164429, \"date\": \"1980-12-31T00:00:00+00:00\"}, {\"name\": \"tasmax_year_livneh\", \"index\": \"1981-12-31T00:00:00Z\", \"data\": 67.271812439, \"date\": \"1981-12-31T00:00:00+00:00\"}, {\"name\": \"tasmax_year_livneh\", \"index\": \"1982-12-31T00:00:00Z\", \"data\": 64.8583831787, \"date\": \"1982-12-31T00:00:00+00:00\"}, {\"name\": \"tasmax_year_livneh\", \"index\": \"1983-12-31T00:00:00Z\", \"data\": 63.7932739258, \"date\": \"1983-12-31T00:00:00+00:00\"}, {\"name\": \"tasmax_year_livneh\", \"index\": \"1984-12-31T00:00:00Z\", \"data\": 65.4266891479, \"date\": \"1984-12-31T00:00:00+00:00\"}, {\"name\": \"tasmax_year_livneh\", \"index\": \"1985-12-31T00:00:00Z\", \"data\": 67.1932983398, \"date\": \"1985-12-31T00:00:00+00:00\"}, {\"name\": \"tasmax_year_livneh\", \"index\": \"1986-12-31T00:00:00Z\", \"data\": 68.0109939575, \"date\": \"1986-12-31T00:00:00+00:00\"}, {\"name\": \"tasmax_year_livneh\", \"index\": \"1987-12-31T00:00:00Z\", \"data\": 68.8550720215, \"date\": \"1987-12-31T00:00:00+00:00\"}, {\"name\": \"tasmax_year_livneh\", \"index\": \"1988-12-31T00:00:00Z\", \"data\": 68.710647583, \"date\": \"1988-12-31T00:00:00+00:00\"}, {\"name\": \"tasmax_year_livneh\", \"index\": \"1989-12-31T00:00:00Z\", \"data\": 67.2563323975, \"date\": \"1989-12-31T00:00:00+00:00\"}, {\"name\": \"tasmax_year_livneh\", \"index\": \"1990-12-31T00:00:00Z\", \"data\": 67.7796096802, \"date\": \"1990-12-31T00:00:00+00:00\"}, {\"name\": \"tasmax_year_models-min_rcp85\", \"index\": \"2070-12-31T00:00:00Z\", \"data\": 69.0340881348, \"date\": \"2070-12-31T00:00:00+00:00\"}, {\"name\": \"tasmax_year_models-min_rcp85\", \"index\": \"2071-12-31T00:00:00Z\", \"data\": 68.3827667236, \"date\": \"2071-12-31T00:00:00+00:00\"}, {\"name\": \"tasmax_year_models-min_rcp85\", \"index\": \"2072-12-31T00:00:00Z\", \"data\": 69.4846343994, \"date\": \"2072-12-31T00:00:00+00:00\"}, {\"name\": \"tasmax_year_models-min_rcp85\", \"index\": \"2073-12-31T00:00:00Z\", \"data\": 69.5899963379, \"date\": \"2073-12-31T00:00:00+00:00\"}, {\"name\": \"tasmax_year_models-min_rcp85\", \"index\": \"2074-12-31T00:00:00Z\", \"data\": 70.5142211914, \"date\": \"2074-12-31T00:00:00+00:00\"}, {\"name\": \"tasmax_year_models-min_rcp85\", \"index\": \"2075-12-31T00:00:00Z\", \"data\": 68.9650421143, \"date\": \"2075-12-31T00:00:00+00:00\"}, {\"name\": \"tasmax_year_models-min_rcp85\", \"index\": \"2076-12-31T00:00:00Z\", \"data\": 69.8164825439, \"date\": \"2076-12-31T00:00:00+00:00\"}, {\"name\": \"tasmax_year_models-min_rcp85\", \"index\": \"2077-12-31T00:00:00Z\", \"data\": 70.0725097656, \"date\": \"2077-12-31T00:00:00+00:00\"}, {\"name\": \"tasmax_year_models-min_rcp85\", \"index\": \"2078-12-31T00:00:00Z\", \"data\": 69.7206268311, \"date\": \"2078-12-31T00:00:00+00:00\"}, {\"name\": \"tasmax_year_models-min_rcp85\", \"index\": \"2079-12-31T00:00:00Z\", \"data\": 70.2255554199, \"date\": \"2079-12-31T00:00:00+00:00\"}, {\"name\": \"tasmax_year_models-min_rcp85\", \"index\": \"2080-12-31T00:00:00Z\", \"data\": 70.4941711426, \"date\": \"2080-12-31T00:00:00+00:00\"}, {\"name\": \"tasmax_year_models-min_rcp85\", \"index\": \"2081-12-31T00:00:00Z\", \"data\": 68.165725708, \"date\": \"2081-12-31T00:00:00+00:00\"}, {\"name\": \"tasmax_year_models-min_rcp85\", \"index\": \"2082-12-31T00:00:00Z\", \"data\": 70.5732116699, \"date\": \"2082-12-31T00:00:00+00:00\"}, {\"name\": \"tasmax_year_models-min_rcp85\", \"index\": \"2083-12-31T00:00:00Z\", \"data\": 69.5438537598, \"date\": \"2083-12-31T00:00:00+00:00\"}, {\"name\": \"tasmax_year_models-min_rcp85\", \"index\": \"2084-12-31T00:00:00Z\", \"data\": 70.675994873, \"date\": \"2084-12-31T00:00:00+00:00\"}, {\"name\": \"tasmax_year_models-min_rcp85\", \"index\": \"2085-12-31T00:00:00Z\", \"data\": 70.342338562, \"date\": \"2085-12-31T00:00:00+00:00\"}, {\"name\": \"tasmax_year_models-min_rcp85\", \"index\": \"2086-12-31T00:00:00Z\", \"data\": 69.9082641602, \"date\": \"2086-12-31T00:00:00+00:00\"}, {\"name\": \"tasmax_year_models-min_rcp85\", \"index\": \"2087-12-31T00:00:00Z\", \"data\": 70.361618042, \"date\": \"2087-12-31T00:00:00+00:00\"}, {\"name\": \"tasmax_year_models-min_rcp85\", \"index\": \"2088-12-31T00:00:00Z\", \"data\": 70.3462982178, \"date\": \"2088-12-31T00:00:00+00:00\"}, {\"name\": \"tasmax_year_models-min_rcp85\", \"index\": \"2089-12-31T00:00:00Z\", \"data\": 71.0204162598, \"date\": \"2089-12-31T00:00:00+00:00\"}, {\"name\": \"tasmax_year_models-min_rcp85\", \"index\": \"2090-12-31T00:00:00Z\", \"data\": 70.86693573, \"date\": \"2090-12-31T00:00:00+00:00\"}, {\"name\": \"tasmax_year_models-min_rcp85\", \"index\": \"2091-12-31T00:00:00Z\", \"data\": 70.3124008179, \"date\": \"2091-12-31T00:00:00+00:00\"}, {\"name\": \"tasmax_year_models-min_rcp85\", \"index\": \"2092-12-31T00:00:00Z\", \"data\": 71.1950378418, \"date\": \"2092-12-31T00:00:00+00:00\"}, {\"name\": \"tasmax_year_models-min_rcp85\", \"index\": \"2093-12-31T00:00:00Z\", \"data\": 71.3224334717, \"date\": \"2093-12-31T00:00:00+00:00\"}, {\"name\": \"tasmax_year_models-min_rcp85\", \"index\": \"2094-12-31T00:00:00Z\", \"data\": 71.0707855225, \"date\": \"2094-12-31T00:00:00+00:00\"}, {\"name\": \"tasmax_year_models-min_rcp85\", \"index\": \"2095-12-31T00:00:00Z\", \"data\": 71.3147888184, \"date\": \"2095-12-31T00:00:00+00:00\"}, {\"name\": \"tasmax_year_models-min_rcp85\", \"index\": \"2096-12-31T00:00:00Z\", \"data\": 71.5505065918, \"date\": \"2096-12-31T00:00:00+00:00\"}, {\"name\": \"tasmax_year_models-min_rcp85\", \"index\": \"2097-12-31T00:00:00Z\", \"data\": 72.0614776611, \"date\": \"2097-12-31T00:00:00+00:00\"}, {\"name\": \"tasmax_year_models-min_rcp85\", \"index\": \"2098-12-31T00:00:00Z\", \"data\": 72.0897140503, \"date\": \"2098-12-31T00:00:00+00:00\"}, {\"name\": \"tasmax_year_models-min_rcp85\", \"index\": \"2099-12-31T00:00:00Z\", \"data\": 71.2576141357, \"date\": \"2099-12-31T00:00:00+00:00\"}, {\"name\": \"tasmax_year_models-max_rcp85\", \"index\": \"2070-12-31T00:00:00Z\", \"data\": 77.1377716064, \"date\": \"2070-12-31T00:00:00+00:00\"}, {\"name\": \"tasmax_year_models-max_rcp85\", \"index\": \"2071-12-31T00:00:00Z\", \"data\": 76.074508667, \"date\": \"2071-12-31T00:00:00+00:00\"}, {\"name\": \"tasmax_year_models-max_rcp85\", \"index\": \"2072-12-31T00:00:00Z\", \"data\": 76.4850158691, \"date\": \"2072-12-31T00:00:00+00:00\"}, {\"name\": \"tasmax_year_models-max_rcp85\", \"index\": \"2073-12-31T00:00:00Z\", \"data\": 76.1276245117, \"date\": \"2073-12-31T00:00:00+00:00\"}, {\"name\": \"tasmax_year_models-max_rcp85\", \"index\": \"2074-12-31T00:00:00Z\", \"data\": 77.4537887573, \"date\": \"2074-12-31T00:00:00+00:00\"}, {\"name\": \"tasmax_year_models-max_rcp85\", \"index\": \"2075-12-31T00:00:00Z\", \"data\": 76.0263900757, \"date\": \"2075-12-31T00:00:00+00:00\"}, {\"name\": \"tasmax_year_models-max_rcp85\", \"index\": \"2076-12-31T00:00:00Z\", \"data\": 77.5004806519, \"date\": \"2076-12-31T00:00:00+00:00\"}, {\"name\": \"tasmax_year_models-max_rcp85\", \"index\": \"2077-12-31T00:00:00Z\", \"data\": 77.4261627197, \"date\": \"2077-12-31T00:00:00+00:00\"}, {\"name\": \"tasmax_year_models-max_rcp85\", \"index\": \"2078-12-31T00:00:00Z\", \"data\": 77.5667877197, \"date\": \"2078-12-31T00:00:00+00:00\"}, {\"name\": \"tasmax_year_models-max_rcp85\", \"index\": \"2079-12-31T00:00:00Z\", \"data\": 78.4738693237, \"date\": \"2079-12-31T00:00:00+00:00\"}, {\"name\": \"tasmax_year_models-max_rcp85\", \"index\": \"2080-12-31T00:00:00Z\", \"data\": 78.2987518311, \"date\": \"2080-12-31T00:00:00+00:00\"}, {\"name\": \"tasmax_year_models-max_rcp85\", \"index\": \"2081-12-31T00:00:00Z\", \"data\": 78.0127716064, \"date\": \"2081-12-31T00:00:00+00:00\"}, {\"name\": \"tasmax_year_models-max_rcp85\", \"index\": \"2082-12-31T00:00:00Z\", \"data\": 79.1288146973, \"date\": \"2082-12-31T00:00:00+00:00\"}, {\"name\": \"tasmax_year_models-max_rcp85\", \"index\": \"2083-12-31T00:00:00Z\", \"data\": 77.2475204468, \"date\": \"2083-12-31T00:00:00+00:00\"}, {\"name\": \"tasmax_year_models-max_rcp85\", \"index\": \"2084-12-31T00:00:00Z\", \"data\": 77.5719451904, \"date\": \"2084-12-31T00:00:00+00:00\"}, {\"name\": \"tasmax_year_models-max_rcp85\", \"index\": \"2085-12-31T00:00:00Z\", \"data\": 78.2250289917, \"date\": \"2085-12-31T00:00:00+00:00\"}, {\"name\": \"tasmax_year_models-max_rcp85\", \"index\": \"2086-12-31T00:00:00Z\", \"data\": 77.2452087402, \"date\": \"2086-12-31T00:00:00+00:00\"}, {\"name\": \"tasmax_year_models-max_rcp85\", \"index\": \"2087-12-31T00:00:00Z\", \"data\": 79.4108886719, \"date\": \"2087-12-31T00:00:00+00:00\"}, {\"name\": \"tasmax_year_models-max_rcp85\", \"index\": \"2088-12-31T00:00:00Z\", \"data\": 78.0210723877, \"date\": \"2088-12-31T00:00:00+00:00\"}, {\"name\": \"tasmax_year_models-max_rcp85\", \"index\": \"2089-12-31T00:00:00Z\", \"data\": 77.9675140381, \"date\": \"2089-12-31T00:00:00+00:00\"}, {\"name\": \"tasmax_year_models-max_rcp85\", \"index\": \"2090-12-31T00:00:00Z\", \"data\": 79.3005371094, \"date\": \"2090-12-31T00:00:00+00:00\"}, {\"name\": \"tasmax_year_models-max_rcp85\", \"index\": \"2091-12-31T00:00:00Z\", \"data\": 78.118347168, \"date\": \"2091-12-31T00:00:00+00:00\"}, {\"name\": \"tasmax_year_models-max_rcp85\", \"index\": \"2092-12-31T00:00:00Z\", \"data\": 79.2489013672, \"date\": \"2092-12-31T00:00:00+00:00\"}, {\"name\": \"tasmax_year_models-max_rcp85\", \"index\": \"2093-12-31T00:00:00Z\", \"data\": 79.6091461182, \"date\": \"2093-12-31T00:00:00+00:00\"}, {\"name\": \"tasmax_year_models-max_rcp85\", \"index\": \"2094-12-31T00:00:00Z\", \"data\": 79.1647491455, \"date\": \"2094-12-31T00:00:00+00:00\"}, {\"name\": \"tasmax_year_models-max_rcp85\", \"index\": \"2095-12-31T00:00:00Z\", \"data\": 78.3069915771, \"date\": \"2095-12-31T00:00:00+00:00\"}, {\"name\": \"tasmax_year_models-max_rcp85\", \"index\": \"2096-12-31T00:00:00Z\", \"data\": 80.0126190186, \"date\": \"2096-12-31T00:00:00+00:00\"}, {\"name\": \"tasmax_year_models-max_rcp85\", \"index\": \"2097-12-31T00:00:00Z\", \"data\": 78.7280426025, \"date\": \"2097-12-31T00:00:00+00:00\"}, {\"name\": \"tasmax_year_models-max_rcp85\", \"index\": \"2098-12-31T00:00:00Z\", \"data\": 81.9826812744, \"date\": \"2098-12-31T00:00:00+00:00\"}, {\"name\": \"tasmax_year_models-max_rcp85\", \"index\": \"2099-12-31T00:00:00Z\", \"data\": 79.6419372559, \"date\": \"2099-12-31T00:00:00+00:00\"}]}}, {\"mode\": \"vega-lite\"});\n",
       "</script>"
      ],
      "text/plain": [
       "alt.Chart(...)"
      ]
     },
     "execution_count": 101,
     "metadata": {},
     "output_type": "execute_result"
    }
   ],
   "source": [
    "alt.Chart(df).mark_boxplot(size=50).encode(\n",
    "    alt.Y('data',\n",
    "        scale=alt.Scale(zero=False)\n",
    "    ),\n",
    "    x='name',\n",
    ").properties(\n",
    "    width=300,\n",
    "    height=300\n",
    ").interactive()"
   ]
  },
  {
   "cell_type": "code",
   "execution_count": 100,
   "metadata": {},
   "outputs": [
    {
     "data": {
      "text/html": [
       "\n",
       "<div id=\"altair-viz-63d21b49aba54d0cbae396ae9e42cf9c\"></div>\n",
       "<script type=\"text/javascript\">\n",
       "  (function(spec, embedOpt){\n",
       "    const outputDiv = document.getElementById(\"altair-viz-63d21b49aba54d0cbae396ae9e42cf9c\");\n",
       "    const paths = {\n",
       "      \"vega\": \"https://cdn.jsdelivr.net/npm//vega@5?noext\",\n",
       "      \"vega-lib\": \"https://cdn.jsdelivr.net/npm//vega-lib?noext\",\n",
       "      \"vega-lite\": \"https://cdn.jsdelivr.net/npm//vega-lite@4.0.2?noext\",\n",
       "      \"vega-embed\": \"https://cdn.jsdelivr.net/npm//vega-embed@6?noext\",\n",
       "    };\n",
       "\n",
       "    function loadScript(lib) {\n",
       "      return new Promise(function(resolve, reject) {\n",
       "        var s = document.createElement('script');\n",
       "        s.src = paths[lib];\n",
       "        s.async = true;\n",
       "        s.onload = () => resolve(paths[lib]);\n",
       "        s.onerror = () => reject(`Error loading script: ${paths[lib]}`);\n",
       "        document.getElementsByTagName(\"head\")[0].appendChild(s);\n",
       "      });\n",
       "    }\n",
       "\n",
       "    function showError(err) {\n",
       "      outputDiv.innerHTML = `<div class=\"error\" style=\"color:red;\">${err}</div>`;\n",
       "      throw err;\n",
       "    }\n",
       "\n",
       "    function displayChart(vegaEmbed) {\n",
       "      vegaEmbed(outputDiv, spec, embedOpt)\n",
       "        .catch(err => showError(`Javascript Error: ${err.message}<br>This usually means there's a typo in your chart specification. See the javascript console for the full traceback.`));\n",
       "    }\n",
       "\n",
       "    if(typeof define === \"function\" && define.amd) {\n",
       "      requirejs.config({paths});\n",
       "      require([\"vega-embed\"], displayChart, err => showError(`Error loading script: ${err.message}`));\n",
       "    } else if (typeof vegaEmbed === \"function\") {\n",
       "      displayChart(vegaEmbed);\n",
       "    } else {\n",
       "      loadScript(\"vega\")\n",
       "        .then(() => loadScript(\"vega-lite\"))\n",
       "        .then(() => loadScript(\"vega-embed\"))\n",
       "        .catch(showError)\n",
       "        .then(() => displayChart(vegaEmbed));\n",
       "    }\n",
       "  })({\"config\": {\"view\": {\"continuousWidth\": 400, \"continuousHeight\": 300}}, \"data\": {\"name\": \"data-26edd4b5de45562b4025fafaf0a388c3\"}, \"mark\": {\"type\": \"tick\", \"size\": 50}, \"encoding\": {\"x\": {\"type\": \"nominal\", \"field\": \"name\"}, \"y\": {\"type\": \"quantitative\", \"field\": \"data\", \"scale\": {\"zero\": false}}}, \"height\": 300, \"selection\": {\"selector006\": {\"type\": \"interval\", \"bind\": \"scales\", \"encodings\": [\"x\", \"y\"]}}, \"width\": 300, \"$schema\": \"https://vega.github.io/schema/vega-lite/v4.0.2.json\", \"datasets\": {\"data-26edd4b5de45562b4025fafaf0a388c3\": [{\"name\": \"tasmax_year_livneh\", \"index\": \"1961-12-31T00:00:00Z\", \"data\": 66.8535766602, \"date\": \"1961-12-31T00:00:00+00:00\"}, {\"name\": \"tasmax_year_livneh\", \"index\": \"1962-12-31T00:00:00Z\", \"data\": 66.3586425781, \"date\": \"1962-12-31T00:00:00+00:00\"}, {\"name\": \"tasmax_year_livneh\", \"index\": \"1963-12-31T00:00:00Z\", \"data\": 64.5133209229, \"date\": \"1963-12-31T00:00:00+00:00\"}, {\"name\": \"tasmax_year_livneh\", \"index\": \"1964-12-31T00:00:00Z\", \"data\": 65.7273788452, \"date\": \"1964-12-31T00:00:00+00:00\"}, {\"name\": \"tasmax_year_livneh\", \"index\": \"1965-12-31T00:00:00Z\", \"data\": 65.6594543457, \"date\": \"1965-12-31T00:00:00+00:00\"}, {\"name\": \"tasmax_year_livneh\", \"index\": \"1966-12-31T00:00:00Z\", \"data\": 66.284576416, \"date\": \"1966-12-31T00:00:00+00:00\"}, {\"name\": \"tasmax_year_livneh\", \"index\": \"1967-12-31T00:00:00Z\", \"data\": 65.4833984375, \"date\": \"1967-12-31T00:00:00+00:00\"}, {\"name\": \"tasmax_year_livneh\", \"index\": \"1968-12-31T00:00:00Z\", \"data\": 64.6951293945, \"date\": \"1968-12-31T00:00:00+00:00\"}, {\"name\": \"tasmax_year_livneh\", \"index\": \"1969-12-31T00:00:00Z\", \"data\": 65.0887832642, \"date\": \"1969-12-31T00:00:00+00:00\"}, {\"name\": \"tasmax_year_livneh\", \"index\": \"1970-12-31T00:00:00Z\", \"data\": 66.06640625, \"date\": \"1970-12-31T00:00:00+00:00\"}, {\"name\": \"tasmax_year_livneh\", \"index\": \"1971-12-31T00:00:00Z\", \"data\": 62.5763778687, \"date\": \"1971-12-31T00:00:00+00:00\"}, {\"name\": \"tasmax_year_livneh\", \"index\": \"1972-12-31T00:00:00Z\", \"data\": 64.2292480469, \"date\": \"1972-12-31T00:00:00+00:00\"}, {\"name\": \"tasmax_year_livneh\", \"index\": \"1973-12-31T00:00:00Z\", \"data\": 65.1072692871, \"date\": \"1973-12-31T00:00:00+00:00\"}, {\"name\": \"tasmax_year_livneh\", \"index\": \"1974-12-31T00:00:00Z\", \"data\": 66.6508331299, \"date\": \"1974-12-31T00:00:00+00:00\"}, {\"name\": \"tasmax_year_livneh\", \"index\": \"1975-12-31T00:00:00Z\", \"data\": 63.582649231, \"date\": \"1975-12-31T00:00:00+00:00\"}, {\"name\": \"tasmax_year_livneh\", \"index\": \"1976-12-31T00:00:00Z\", \"data\": 66.0871276855, \"date\": \"1976-12-31T00:00:00+00:00\"}, {\"name\": \"tasmax_year_livneh\", \"index\": \"1977-12-31T00:00:00Z\", \"data\": 65.9055328369, \"date\": \"1977-12-31T00:00:00+00:00\"}, {\"name\": \"tasmax_year_livneh\", \"index\": \"1978-12-31T00:00:00Z\", \"data\": 65.6574859619, \"date\": \"1978-12-31T00:00:00+00:00\"}, {\"name\": \"tasmax_year_livneh\", \"index\": \"1979-12-31T00:00:00Z\", \"data\": 65.5069274902, \"date\": \"1979-12-31T00:00:00+00:00\"}, {\"name\": \"tasmax_year_livneh\", \"index\": \"1980-12-31T00:00:00Z\", \"data\": 66.1659164429, \"date\": \"1980-12-31T00:00:00+00:00\"}, {\"name\": \"tasmax_year_livneh\", \"index\": \"1981-12-31T00:00:00Z\", \"data\": 67.271812439, \"date\": \"1981-12-31T00:00:00+00:00\"}, {\"name\": \"tasmax_year_livneh\", \"index\": \"1982-12-31T00:00:00Z\", \"data\": 64.8583831787, \"date\": \"1982-12-31T00:00:00+00:00\"}, {\"name\": \"tasmax_year_livneh\", \"index\": \"1983-12-31T00:00:00Z\", \"data\": 63.7932739258, \"date\": \"1983-12-31T00:00:00+00:00\"}, {\"name\": \"tasmax_year_livneh\", \"index\": \"1984-12-31T00:00:00Z\", \"data\": 65.4266891479, \"date\": \"1984-12-31T00:00:00+00:00\"}, {\"name\": \"tasmax_year_livneh\", \"index\": \"1985-12-31T00:00:00Z\", \"data\": 67.1932983398, \"date\": \"1985-12-31T00:00:00+00:00\"}, {\"name\": \"tasmax_year_livneh\", \"index\": \"1986-12-31T00:00:00Z\", \"data\": 68.0109939575, \"date\": \"1986-12-31T00:00:00+00:00\"}, {\"name\": \"tasmax_year_livneh\", \"index\": \"1987-12-31T00:00:00Z\", \"data\": 68.8550720215, \"date\": \"1987-12-31T00:00:00+00:00\"}, {\"name\": \"tasmax_year_livneh\", \"index\": \"1988-12-31T00:00:00Z\", \"data\": 68.710647583, \"date\": \"1988-12-31T00:00:00+00:00\"}, {\"name\": \"tasmax_year_livneh\", \"index\": \"1989-12-31T00:00:00Z\", \"data\": 67.2563323975, \"date\": \"1989-12-31T00:00:00+00:00\"}, {\"name\": \"tasmax_year_livneh\", \"index\": \"1990-12-31T00:00:00Z\", \"data\": 67.7796096802, \"date\": \"1990-12-31T00:00:00+00:00\"}, {\"name\": \"tasmax_year_models-min_rcp85\", \"index\": \"2070-12-31T00:00:00Z\", \"data\": 69.0340881348, \"date\": \"2070-12-31T00:00:00+00:00\"}, {\"name\": \"tasmax_year_models-min_rcp85\", \"index\": \"2071-12-31T00:00:00Z\", \"data\": 68.3827667236, \"date\": \"2071-12-31T00:00:00+00:00\"}, {\"name\": \"tasmax_year_models-min_rcp85\", \"index\": \"2072-12-31T00:00:00Z\", \"data\": 69.4846343994, \"date\": \"2072-12-31T00:00:00+00:00\"}, {\"name\": \"tasmax_year_models-min_rcp85\", \"index\": \"2073-12-31T00:00:00Z\", \"data\": 69.5899963379, \"date\": \"2073-12-31T00:00:00+00:00\"}, {\"name\": \"tasmax_year_models-min_rcp85\", \"index\": \"2074-12-31T00:00:00Z\", \"data\": 70.5142211914, \"date\": \"2074-12-31T00:00:00+00:00\"}, {\"name\": \"tasmax_year_models-min_rcp85\", \"index\": \"2075-12-31T00:00:00Z\", \"data\": 68.9650421143, \"date\": \"2075-12-31T00:00:00+00:00\"}, {\"name\": \"tasmax_year_models-min_rcp85\", \"index\": \"2076-12-31T00:00:00Z\", \"data\": 69.8164825439, \"date\": \"2076-12-31T00:00:00+00:00\"}, {\"name\": \"tasmax_year_models-min_rcp85\", \"index\": \"2077-12-31T00:00:00Z\", \"data\": 70.0725097656, \"date\": \"2077-12-31T00:00:00+00:00\"}, {\"name\": \"tasmax_year_models-min_rcp85\", \"index\": \"2078-12-31T00:00:00Z\", \"data\": 69.7206268311, \"date\": \"2078-12-31T00:00:00+00:00\"}, {\"name\": \"tasmax_year_models-min_rcp85\", \"index\": \"2079-12-31T00:00:00Z\", \"data\": 70.2255554199, \"date\": \"2079-12-31T00:00:00+00:00\"}, {\"name\": \"tasmax_year_models-min_rcp85\", \"index\": \"2080-12-31T00:00:00Z\", \"data\": 70.4941711426, \"date\": \"2080-12-31T00:00:00+00:00\"}, {\"name\": \"tasmax_year_models-min_rcp85\", \"index\": \"2081-12-31T00:00:00Z\", \"data\": 68.165725708, \"date\": \"2081-12-31T00:00:00+00:00\"}, {\"name\": \"tasmax_year_models-min_rcp85\", \"index\": \"2082-12-31T00:00:00Z\", \"data\": 70.5732116699, \"date\": \"2082-12-31T00:00:00+00:00\"}, {\"name\": \"tasmax_year_models-min_rcp85\", \"index\": \"2083-12-31T00:00:00Z\", \"data\": 69.5438537598, \"date\": \"2083-12-31T00:00:00+00:00\"}, {\"name\": \"tasmax_year_models-min_rcp85\", \"index\": \"2084-12-31T00:00:00Z\", \"data\": 70.675994873, \"date\": \"2084-12-31T00:00:00+00:00\"}, {\"name\": \"tasmax_year_models-min_rcp85\", \"index\": \"2085-12-31T00:00:00Z\", \"data\": 70.342338562, \"date\": \"2085-12-31T00:00:00+00:00\"}, {\"name\": \"tasmax_year_models-min_rcp85\", \"index\": \"2086-12-31T00:00:00Z\", \"data\": 69.9082641602, \"date\": \"2086-12-31T00:00:00+00:00\"}, {\"name\": \"tasmax_year_models-min_rcp85\", \"index\": \"2087-12-31T00:00:00Z\", \"data\": 70.361618042, \"date\": \"2087-12-31T00:00:00+00:00\"}, {\"name\": \"tasmax_year_models-min_rcp85\", \"index\": \"2088-12-31T00:00:00Z\", \"data\": 70.3462982178, \"date\": \"2088-12-31T00:00:00+00:00\"}, {\"name\": \"tasmax_year_models-min_rcp85\", \"index\": \"2089-12-31T00:00:00Z\", \"data\": 71.0204162598, \"date\": \"2089-12-31T00:00:00+00:00\"}, {\"name\": \"tasmax_year_models-min_rcp85\", \"index\": \"2090-12-31T00:00:00Z\", \"data\": 70.86693573, \"date\": \"2090-12-31T00:00:00+00:00\"}, {\"name\": \"tasmax_year_models-min_rcp85\", \"index\": \"2091-12-31T00:00:00Z\", \"data\": 70.3124008179, \"date\": \"2091-12-31T00:00:00+00:00\"}, {\"name\": \"tasmax_year_models-min_rcp85\", \"index\": \"2092-12-31T00:00:00Z\", \"data\": 71.1950378418, \"date\": \"2092-12-31T00:00:00+00:00\"}, {\"name\": \"tasmax_year_models-min_rcp85\", \"index\": \"2093-12-31T00:00:00Z\", \"data\": 71.3224334717, \"date\": \"2093-12-31T00:00:00+00:00\"}, {\"name\": \"tasmax_year_models-min_rcp85\", \"index\": \"2094-12-31T00:00:00Z\", \"data\": 71.0707855225, \"date\": \"2094-12-31T00:00:00+00:00\"}, {\"name\": \"tasmax_year_models-min_rcp85\", \"index\": \"2095-12-31T00:00:00Z\", \"data\": 71.3147888184, \"date\": \"2095-12-31T00:00:00+00:00\"}, {\"name\": \"tasmax_year_models-min_rcp85\", \"index\": \"2096-12-31T00:00:00Z\", \"data\": 71.5505065918, \"date\": \"2096-12-31T00:00:00+00:00\"}, {\"name\": \"tasmax_year_models-min_rcp85\", \"index\": \"2097-12-31T00:00:00Z\", \"data\": 72.0614776611, \"date\": \"2097-12-31T00:00:00+00:00\"}, {\"name\": \"tasmax_year_models-min_rcp85\", \"index\": \"2098-12-31T00:00:00Z\", \"data\": 72.0897140503, \"date\": \"2098-12-31T00:00:00+00:00\"}, {\"name\": \"tasmax_year_models-min_rcp85\", \"index\": \"2099-12-31T00:00:00Z\", \"data\": 71.2576141357, \"date\": \"2099-12-31T00:00:00+00:00\"}, {\"name\": \"tasmax_year_models-max_rcp85\", \"index\": \"2070-12-31T00:00:00Z\", \"data\": 77.1377716064, \"date\": \"2070-12-31T00:00:00+00:00\"}, {\"name\": \"tasmax_year_models-max_rcp85\", \"index\": \"2071-12-31T00:00:00Z\", \"data\": 76.074508667, \"date\": \"2071-12-31T00:00:00+00:00\"}, {\"name\": \"tasmax_year_models-max_rcp85\", \"index\": \"2072-12-31T00:00:00Z\", \"data\": 76.4850158691, \"date\": \"2072-12-31T00:00:00+00:00\"}, {\"name\": \"tasmax_year_models-max_rcp85\", \"index\": \"2073-12-31T00:00:00Z\", \"data\": 76.1276245117, \"date\": \"2073-12-31T00:00:00+00:00\"}, {\"name\": \"tasmax_year_models-max_rcp85\", \"index\": \"2074-12-31T00:00:00Z\", \"data\": 77.4537887573, \"date\": \"2074-12-31T00:00:00+00:00\"}, {\"name\": \"tasmax_year_models-max_rcp85\", \"index\": \"2075-12-31T00:00:00Z\", \"data\": 76.0263900757, \"date\": \"2075-12-31T00:00:00+00:00\"}, {\"name\": \"tasmax_year_models-max_rcp85\", \"index\": \"2076-12-31T00:00:00Z\", \"data\": 77.5004806519, \"date\": \"2076-12-31T00:00:00+00:00\"}, {\"name\": \"tasmax_year_models-max_rcp85\", \"index\": \"2077-12-31T00:00:00Z\", \"data\": 77.4261627197, \"date\": \"2077-12-31T00:00:00+00:00\"}, {\"name\": \"tasmax_year_models-max_rcp85\", \"index\": \"2078-12-31T00:00:00Z\", \"data\": 77.5667877197, \"date\": \"2078-12-31T00:00:00+00:00\"}, {\"name\": \"tasmax_year_models-max_rcp85\", \"index\": \"2079-12-31T00:00:00Z\", \"data\": 78.4738693237, \"date\": \"2079-12-31T00:00:00+00:00\"}, {\"name\": \"tasmax_year_models-max_rcp85\", \"index\": \"2080-12-31T00:00:00Z\", \"data\": 78.2987518311, \"date\": \"2080-12-31T00:00:00+00:00\"}, {\"name\": \"tasmax_year_models-max_rcp85\", \"index\": \"2081-12-31T00:00:00Z\", \"data\": 78.0127716064, \"date\": \"2081-12-31T00:00:00+00:00\"}, {\"name\": \"tasmax_year_models-max_rcp85\", \"index\": \"2082-12-31T00:00:00Z\", \"data\": 79.1288146973, \"date\": \"2082-12-31T00:00:00+00:00\"}, {\"name\": \"tasmax_year_models-max_rcp85\", \"index\": \"2083-12-31T00:00:00Z\", \"data\": 77.2475204468, \"date\": \"2083-12-31T00:00:00+00:00\"}, {\"name\": \"tasmax_year_models-max_rcp85\", \"index\": \"2084-12-31T00:00:00Z\", \"data\": 77.5719451904, \"date\": \"2084-12-31T00:00:00+00:00\"}, {\"name\": \"tasmax_year_models-max_rcp85\", \"index\": \"2085-12-31T00:00:00Z\", \"data\": 78.2250289917, \"date\": \"2085-12-31T00:00:00+00:00\"}, {\"name\": \"tasmax_year_models-max_rcp85\", \"index\": \"2086-12-31T00:00:00Z\", \"data\": 77.2452087402, \"date\": \"2086-12-31T00:00:00+00:00\"}, {\"name\": \"tasmax_year_models-max_rcp85\", \"index\": \"2087-12-31T00:00:00Z\", \"data\": 79.4108886719, \"date\": \"2087-12-31T00:00:00+00:00\"}, {\"name\": \"tasmax_year_models-max_rcp85\", \"index\": \"2088-12-31T00:00:00Z\", \"data\": 78.0210723877, \"date\": \"2088-12-31T00:00:00+00:00\"}, {\"name\": \"tasmax_year_models-max_rcp85\", \"index\": \"2089-12-31T00:00:00Z\", \"data\": 77.9675140381, \"date\": \"2089-12-31T00:00:00+00:00\"}, {\"name\": \"tasmax_year_models-max_rcp85\", \"index\": \"2090-12-31T00:00:00Z\", \"data\": 79.3005371094, \"date\": \"2090-12-31T00:00:00+00:00\"}, {\"name\": \"tasmax_year_models-max_rcp85\", \"index\": \"2091-12-31T00:00:00Z\", \"data\": 78.118347168, \"date\": \"2091-12-31T00:00:00+00:00\"}, {\"name\": \"tasmax_year_models-max_rcp85\", \"index\": \"2092-12-31T00:00:00Z\", \"data\": 79.2489013672, \"date\": \"2092-12-31T00:00:00+00:00\"}, {\"name\": \"tasmax_year_models-max_rcp85\", \"index\": \"2093-12-31T00:00:00Z\", \"data\": 79.6091461182, \"date\": \"2093-12-31T00:00:00+00:00\"}, {\"name\": \"tasmax_year_models-max_rcp85\", \"index\": \"2094-12-31T00:00:00Z\", \"data\": 79.1647491455, \"date\": \"2094-12-31T00:00:00+00:00\"}, {\"name\": \"tasmax_year_models-max_rcp85\", \"index\": \"2095-12-31T00:00:00Z\", \"data\": 78.3069915771, \"date\": \"2095-12-31T00:00:00+00:00\"}, {\"name\": \"tasmax_year_models-max_rcp85\", \"index\": \"2096-12-31T00:00:00Z\", \"data\": 80.0126190186, \"date\": \"2096-12-31T00:00:00+00:00\"}, {\"name\": \"tasmax_year_models-max_rcp85\", \"index\": \"2097-12-31T00:00:00Z\", \"data\": 78.7280426025, \"date\": \"2097-12-31T00:00:00+00:00\"}, {\"name\": \"tasmax_year_models-max_rcp85\", \"index\": \"2098-12-31T00:00:00Z\", \"data\": 81.9826812744, \"date\": \"2098-12-31T00:00:00+00:00\"}, {\"name\": \"tasmax_year_models-max_rcp85\", \"index\": \"2099-12-31T00:00:00Z\", \"data\": 79.6419372559, \"date\": \"2099-12-31T00:00:00+00:00\"}]}}, {\"mode\": \"vega-lite\"});\n",
       "</script>"
      ],
      "text/plain": [
       "alt.Chart(...)"
      ]
     },
     "execution_count": 100,
     "metadata": {},
     "output_type": "execute_result"
    }
   ],
   "source": [
    "alt.Chart(df).mark_tick(size=50).encode(\n",
    "    alt.Y('data',\n",
    "        scale=alt.Scale(zero=False)\n",
    "    ),\n",
    "    x='name',\n",
    ").properties(\n",
    "    width=300,\n",
    "    height=300\n",
    ").interactive()"
   ]
  },
  {
   "cell_type": "code",
   "execution_count": 105,
   "metadata": {},
   "outputs": [],
   "source": [
    "stripplot =  alt.Chart(df, width=40).mark_circle(size=8).encode(\n",
    "    x=alt.X(\n",
    "        'name',\n",
    "        title=None,\n",
    "        axis=alt.Axis(values=[0], ticks=True, grid=False, labels=False),\n",
    "        scale=alt.Scale(),\n",
    "    ),\n",
    "    y=alt.Y('data'),\n",
    "    color=alt.Color('name', legend=None),\n",
    ")"
   ]
  },
  {
   "cell_type": "code",
   "execution_count": null,
   "metadata": {},
   "outputs": [],
   "source": []
  }
 ],
 "metadata": {
  "kernelspec": {
   "display_name": "Python 3",
   "language": "python",
   "name": "python3"
  },
  "language_info": {
   "codemirror_mode": {
    "name": "ipython",
    "version": 3
   },
   "file_extension": ".py",
   "mimetype": "text/x-python",
   "name": "python",
   "nbconvert_exporter": "python",
   "pygments_lexer": "ipython3",
   "version": "3.6.10"
  }
 },
 "nbformat": 4,
 "nbformat_minor": 4
}
